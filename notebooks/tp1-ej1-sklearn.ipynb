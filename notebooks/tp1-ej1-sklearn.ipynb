{
 "cells": [
  {
   "cell_type": "code",
   "execution_count": 33,
   "metadata": {},
   "outputs": [
    {
     "name": "stdout",
     "output_type": "stream",
     "text": [
      "Dataset Train: 11314 elements\n",
      "Dataset Test: 7532 elements\n"
     ]
    }
   ],
   "source": [
    "from sklearn.datasets import fetch_20newsgroups\n",
    "import numpy as np\n",
    "\n",
    "# Loading the datasets\n",
    "train = fetch_20newsgroups(\n",
    "    subset='train', \n",
    "    shuffle=True, \n",
    "    remove=('headers', 'footers')\n",
    ")\n",
    "\n",
    "test = fetch_20newsgroups(\n",
    "    subset='test', \n",
    "    shuffle=True, \n",
    "    remove=('headers', 'footers')\n",
    ")\n",
    "\n",
    "# Categories\n",
    "categories = train.target_names\n",
    "\n",
    "# Train dataset, casting to numpy array\n",
    "train_raw_input = np.array(train.data)\n",
    "train_output = np.array(train.target)\n",
    "train_size = len(train_raw_input)\n",
    "\n",
    "# Test dataset, casting to numpy array\n",
    "test_raw_input = np.array(test.data)\n",
    "test_output = np.array(test.target)\n",
    "test_size = len(test_raw_input)\n",
    "\n",
    "# Logging useful information\n",
    "print(f'Dataset Train: {train_size} elements')\n",
    "print(f'Dataset Test: {test_size} elements')"
   ]
  },
  {
   "cell_type": "code",
   "execution_count": 34,
   "metadata": {},
   "outputs": [],
   "source": [
    "from sklearn.feature_extraction.text import CountVectorizer, TfidfVectorizer\n",
    "\n",
    "# Preprocessing the data from the origina dataset\n",
    "vectorizer = TfidfVectorizer(encoding=\"latin1\")\n",
    "train_input = vectorizer.fit_transform(train_raw_input)\n",
    "test_input = vectorizer.transform(test_raw_input)"
   ]
  },
  {
   "cell_type": "code",
   "execution_count": 35,
   "metadata": {},
   "outputs": [
    {
     "data": {
      "text/plain": [
       "OneVsRestClassifier(estimator=MultinomialNB(alpha=0.01))"
      ]
     },
     "execution_count": 35,
     "metadata": {},
     "output_type": "execute_result"
    }
   ],
   "source": [
    "from sklearn.naive_bayes import MultinomialNB\n",
    "from sklearn.multiclass import OneVsRestClassifier\n",
    "\n",
    "# Training the multinomial naive bayes model\n",
    "classifier = OneVsRestClassifier(MultinomialNB(alpha=0.01))\n",
    "classifier.fit(train_input, train_output)"
   ]
  },
  {
   "cell_type": "code",
   "execution_count": 37,
   "metadata": {},
   "outputs": [],
   "source": [
    "# Validating the model\n",
    "predictions = classifier.predict(test_input)"
   ]
  },
  {
   "cell_type": "code",
   "execution_count": 38,
   "metadata": {},
   "outputs": [
    {
     "name": "stdout",
     "output_type": "stream",
     "text": [
      "Balanced accuracy: 0.8012474171129049\n"
     ]
    }
   ],
   "source": [
    "from sklearn import metrics\n",
    "\n",
    "# Computing the performance metric\n",
    "recall = metrics.recall_score(test_output, predictions, average='macro')\n",
    "print(f'Balanced accuracy: {recall}')"
   ]
  }
 ],
 "metadata": {
  "kernelspec": {
   "display_name": "Python 3",
   "language": "python",
   "name": "python3"
  },
  "language_info": {
   "codemirror_mode": {
    "name": "ipython",
    "version": 3
   },
   "file_extension": ".py",
   "mimetype": "text/x-python",
   "name": "python",
   "nbconvert_exporter": "python",
   "pygments_lexer": "ipython3",
   "version": "3.8.5"
  }
 },
 "nbformat": 4,
 "nbformat_minor": 4
}
