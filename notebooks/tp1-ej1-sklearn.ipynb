{
 "cells": [
  {
   "cell_type": "code",
   "execution_count": 2,
   "metadata": {},
   "outputs": [
    {
     "name": "stdout",
     "output_type": "stream",
     "text": [
      "Dataset Train: 11314 elements\n",
      "Dataset Test: 7532 elements\n"
     ]
    }
   ],
   "source": [
    "from sklearn.datasets import fetch_20newsgroups\n",
    "import numpy as np\n",
    "\n",
    "# Loading the datasets\n",
    "train = fetch_20newsgroups(subset='train', shuffle=True)\n",
    "test = fetch_20newsgroups(subset='test', shuffle=True)\n",
    "\n",
    "# Categories\n",
    "categories = train.target_names\n",
    "\n",
    "# Train dataset, casting to numpy array\n",
    "train_data = np.array(train.data)\n",
    "train_target = np.array(train.target)\n",
    "train_size = len(train_data)\n",
    "\n",
    "# Test dataset, casting to numpy array\n",
    "test_data = np.array(test.data)\n",
    "test_target = np.array(test.target)\n",
    "test_size = len(test_data)\n",
    "\n",
    "# Logging useful information\n",
    "print(f'Dataset Train: {train_size} elements')\n",
    "print(f'Dataset Test: {test_size} elements')"
   ]
  },
  {
   "cell_type": "code",
   "execution_count": 59,
   "metadata": {},
   "outputs": [],
   "source": [
    "from sklearn.feature_extraction.text import CountVectorizer, TfidfVectorizer\n",
    "\n",
    "# Preprocessing the data from the origina dataset\n",
    "vectorizer = TfidfVectorizer(encoding=\"latin1\")\n",
    "train_processed_data = vectorizer.fit_transform(train_data)\n",
    "test_processed_data = vectorizer.transform(test_data)"
   ]
  },
  {
   "cell_type": "code",
   "execution_count": 106,
   "metadata": {},
   "outputs": [
    {
     "data": {
      "text/plain": [
       "MultinomialNB(alpha=0.01)"
      ]
     },
     "execution_count": 106,
     "metadata": {},
     "output_type": "execute_result"
    }
   ],
   "source": [
    "from sklearn.naive_bayes import MultinomialNB\n",
    "\n",
    "# Training the multinomial naive bayes model\n",
    "classifier = MultinomialNB(alpha=0.01, class_prior=None, fit_prior=True)\n",
    "classifier.fit(train_processed_data, train_target)"
   ]
  },
  {
   "cell_type": "code",
   "execution_count": 107,
   "metadata": {},
   "outputs": [],
   "source": [
    "# Validating the model\n",
    "predictions = classifier.predict(test_processed_data)"
   ]
  },
  {
   "cell_type": "code",
   "execution_count": 108,
   "metadata": {},
   "outputs": [
    {
     "name": "stdout",
     "output_type": "stream",
     "text": [
      "Accuracy obtained 0.8352363250132767\n"
     ]
    }
   ],
   "source": [
    "from sklearn import metrics\n",
    "\n",
    "# Accuracy\n",
    "accuracy = metrics.accuracy_score(test_target, predictions)\n",
    "print(f'Accuracy obtained {accuracy}')"
   ]
  },
  {
   "cell_type": "code",
   "execution_count": 109,
   "metadata": {},
   "outputs": [
    {
     "data": {
      "text/plain": [
       "<matplotlib.colorbar.Colorbar at 0x126124124c0>"
      ]
     },
     "execution_count": 109,
     "metadata": {},
     "output_type": "execute_result"
    },
    {
     "data": {
      "image/png": "[encoded data removed]",
      "text/plain": [
       "<Figure size 288x288 with 2 Axes>"
      ]
     },
     "metadata": {
      "needs_background": "light"
     },
     "output_type": "display_data"
    }
   ],
   "source": [
    "import matplotlib.pyplot as plt\n",
    "\n",
    "# Confussion matrix\n",
    "cm = metrics.confusion_matrix(test_target, predictions)\n",
    "plt.matshow(cm)\n",
    "plt.colorbar()"
   ]
  },
  {
   "cell_type": "code",
   "execution_count": 110,
   "metadata": {},
   "outputs": [
    {
     "name": "stdout",
     "output_type": "stream",
     "text": [
      "              precision    recall  f1-score   support\n",
      "\n",
      "           0       0.82      0.78      0.80       319\n",
      "           1       0.69      0.75      0.72       389\n",
      "           2       0.74      0.63      0.68       394\n",
      "           3       0.65      0.75      0.69       392\n",
      "           4       0.83      0.84      0.83       385\n",
      "           5       0.84      0.78      0.81       395\n",
      "           6       0.82      0.78      0.80       390\n",
      "           7       0.89      0.90      0.90       396\n",
      "           8       0.93      0.96      0.95       398\n",
      "           9       0.95      0.94      0.95       397\n",
      "          10       0.95      0.97      0.96       399\n",
      "          11       0.89      0.93      0.91       396\n",
      "          12       0.79      0.77      0.78       393\n",
      "          13       0.89      0.84      0.86       396\n",
      "          14       0.87      0.91      0.89       394\n",
      "          15       0.82      0.95      0.88       398\n",
      "          16       0.76      0.91      0.83       364\n",
      "          17       0.97      0.94      0.96       376\n",
      "          18       0.80      0.64      0.71       310\n",
      "          19       0.76      0.59      0.67       251\n",
      "\n",
      "    accuracy                           0.84      7532\n",
      "   macro avg       0.83      0.83      0.83      7532\n",
      "weighted avg       0.84      0.84      0.83      7532\n",
      "\n"
     ]
    }
   ],
   "source": [
    "# Calculating the accuracy obtained from the model\n",
    "print(metrics.classification_report(test_target, predictions))"
   ]
  },
  {
   "cell_type": "code",
   "execution_count": 111,
   "metadata": {},
   "outputs": [
    {
     "name": "stdout",
     "output_type": "stream",
     "text": [
      "[-3.16001007 -2.96389519 -2.95198016 -2.95367364 -2.97422231 -2.94860178\n",
      " -2.96218433 -2.94691686 -2.94020542 -2.94187906 -2.93686652 -2.94523477\n",
      " -2.95198016 -2.94691686 -2.94860178 -2.93853458 -3.0311772  -2.99874192\n",
      " -3.19175877 -3.40155099]\n",
      "[[-10.90578286  -8.36353875 -13.30665276 ... -13.30665276 -13.30665276\n",
      "  -13.30665276]\n",
      " [ -8.49255922  -9.25546691 -13.26023319 ... -13.26023319 -13.26023319\n",
      "  -13.26023319]\n",
      " [ -8.64552244  -9.55007605 -13.31366805 ... -13.31366805 -13.31366805\n",
      "  -13.31366805]\n",
      " ...\n",
      " [ -8.77873561  -7.38619498 -11.96408086 ... -13.49041923 -13.49041923\n",
      "  -13.49041923]\n",
      " [ -9.09045794  -8.17247544 -13.32476    ... -13.32476    -13.32476\n",
      "  -13.32476   ]\n",
      " [-10.23328697  -9.28562668 -13.12678656 ... -13.12678656 -13.12678656\n",
      "  -13.12678656]]\n",
      "(20, 130107)\n"
     ]
    }
   ],
   "source": [
    "print(classifier.intercept_)\n",
    "print(classifier.coef_)\n",
    "print(classifier.coef_.shape)"
   ]
  }
 ],
 "metadata": {
  "kernelspec": {
   "display_name": "Python 3",
   "language": "python",
   "name": "python3"
  },
  "language_info": {
   "codemirror_mode": {
    "name": "ipython",
    "version": 3
   },
   "file_extension": ".py",
   "mimetype": "text/x-python",
   "name": "python",
   "nbconvert_exporter": "python",
   "pygments_lexer": "ipython3",
   "version": "3.9.2"
  }
 },
 "nbformat": 4,
 "nbformat_minor": 4
}
