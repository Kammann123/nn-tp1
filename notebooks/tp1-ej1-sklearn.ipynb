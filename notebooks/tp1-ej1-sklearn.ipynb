{
 "cells": [
  {
   "cell_type": "code",
   "execution_count": 1,
   "metadata": {},
   "outputs": [
    {
     "name": "stdout",
     "output_type": "stream",
     "text": [
      "Dataset Train: 11314 elements\n",
      "Dataset Test: 7532 elements\n"
     ]
    }
   ],
   "source": [
    "from sklearn.datasets import fetch_20newsgroups\n",
    "import numpy as np\n",
    "\n",
    "# Loading the datasets\n",
    "train = fetch_20newsgroups(subset='train', shuffle=True)\n",
    "test = fetch_20newsgroups(subset='test', shuffle=True)\n",
    "\n",
    "# Categories\n",
    "categories = train.target_names\n",
    "\n",
    "# Train dataset, casting to numpy array\n",
    "train_data = np.array(train.data)\n",
    "train_target = np.array(train.target)\n",
    "train_size = len(train_data)\n",
    "\n",
    "# Test dataset, casting to numpy array\n",
    "test_data = np.array(test.data)\n",
    "test_target = np.array(test.target)\n",
    "test_size = len(test_data)\n",
    "\n",
    "# Logging useful information\n",
    "print(f'Dataset Train: {train_size} elements')\n",
    "print(f'Dataset Test: {test_size} elements')"
   ]
  },
  {
   "cell_type": "code",
   "execution_count": 52,
   "metadata": {},
   "outputs": [],
   "source": [
    "from sklearn.feature_extraction.text import CountVectorizer\n",
    "\n",
    "# Preprocessing the data from the origina dataset\n",
    "vectorizer = CountVectorizer(analyzer='word', stop_words='english')\n",
    "train_processed_data = vectorizer.fit_transform(train_data)\n",
    "test_processed_data = vectorizer.transform(test_data)"
   ]
  },
  {
   "cell_type": "code",
   "execution_count": 53,
   "metadata": {},
   "outputs": [
    {
     "data": {
      "text/plain": [
       "MultinomialNB(alpha=1)"
      ]
     },
     "execution_count": 53,
     "metadata": {},
     "output_type": "execute_result"
    }
   ],
   "source": [
    "from sklearn.naive_bayes import MultinomialNB\n",
    "\n",
    "# Training the multinomial naive bayes model\n",
    "classifier = MultinomialNB(alpha=1)\n",
    "classifier.fit(train_processed_data, train_target)"
   ]
  },
  {
   "cell_type": "code",
   "execution_count": 72,
   "metadata": {},
   "outputs": [
    {
     "name": "stdout",
     "output_type": "stream",
     "text": [
      "Accuracy obtained: 0.8023101433882103\n"
     ]
    }
   ],
   "source": [
    "# Validating the model\n",
    "predictions = classifier.predict(test_processed_data)\n",
    "\n",
    "# Calculating the accuracy obtained from the model\n",
    "accuracy = (predictions == test_target).sum() / len(test_data)\n",
    "\n",
    "print(f'Accuracy obtained: {accuracy}')"
   ]
  },
  {
   "cell_type": "code",
   "execution_count": 67,
   "metadata": {},
   "outputs": [
    {
     "name": "stdout",
     "output_type": "stream",
     "text": [
      "[-3.16001007 -2.96389519 -2.95198016 -2.95367364 -2.97422231 -2.94860178\n",
      " -2.96218433 -2.94691686 -2.94020542 -2.94187906 -2.93686652 -2.94523477\n",
      " -2.95198016 -2.94691686 -2.94860178 -2.93853458 -3.0311772  -2.99874192\n",
      " -3.19175877 -3.40155099]\n",
      "[[-10.88622592  -8.71717222 -12.27252028 ... -12.27252028 -12.27252028\n",
      "  -12.27252028]\n",
      " [ -8.71956011  -9.38453641 -12.27490817 ... -12.27490817 -12.27490817\n",
      "  -12.27490817]\n",
      " [ -9.29511395 -10.4235792  -12.82147448 ... -12.82147448 -12.82147448\n",
      "  -12.82147448]\n",
      " ...\n",
      " [ -8.99556976  -7.18921149 -11.8287831  ... -12.52193028 -12.52193028\n",
      "  -12.52193028]\n",
      " [ -9.01225522  -8.11687117 -12.37955105 ... -12.37955105 -12.37955105\n",
      "  -12.37955105]\n",
      " [-10.58731645  -9.30638261 -12.19675436 ... -12.19675436 -12.19675436\n",
      "  -12.19675436]]\n",
      "(20, 129796)\n"
     ]
    }
   ],
   "source": [
    "print(classifier.intercept_)\n",
    "print(classifier.coef_)\n",
    "print(classifier.coef_.shape)"
   ]
  }
 ],
 "metadata": {
  "kernelspec": {
   "display_name": "Python 3",
   "language": "python",
   "name": "python3"
  },
  "language_info": {
   "codemirror_mode": {
    "name": "ipython",
    "version": 3
   },
   "file_extension": ".py",
   "mimetype": "text/x-python",
   "name": "python",
   "nbconvert_exporter": "python",
   "pygments_lexer": "ipython3",
   "version": "3.8.5"
  }
 },
 "nbformat": 4,
 "nbformat_minor": 4
}
