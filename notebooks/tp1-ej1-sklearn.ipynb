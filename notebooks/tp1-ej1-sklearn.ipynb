{
 "cells": [
  {
   "cell_type": "code",
   "execution_count": 2,
   "metadata": {},
   "outputs": [
    {
     "name": "stdout",
     "output_type": "stream",
     "text": [
      "Dataset Train: 11314 elements\n",
      "Dataset Test: 7532 elements\n"
     ]
    }
   ],
   "source": [
    "from sklearn.datasets import fetch_20newsgroups\n",
    "import numpy as np\n",
    "\n",
    "# Loading the datasets\n",
    "train = fetch_20newsgroups(subset='train', shuffle=True)\n",
    "test = fetch_20newsgroups(subset='test', shuffle=True)\n",
    "\n",
    "# Categories\n",
    "categories = train.target_names\n",
    "\n",
    "# Train dataset, casting to numpy array\n",
    "train_data = np.array(train.data)\n",
    "train_target = np.array(train.target)\n",
    "train_size = len(train_data)\n",
    "\n",
    "# Test dataset, casting to numpy array\n",
    "test_data = np.array(test.data)\n",
    "test_target = np.array(test.target)\n",
    "test_size = len(test_data)\n",
    "\n",
    "# Logging useful information\n",
    "print(f'Dataset Train: {train_size} elements')\n",
    "print(f'Dataset Test: {test_size} elements')"
   ]
  },
  {
   "cell_type": "code",
   "execution_count": 3,
   "metadata": {},
   "outputs": [],
   "source": [
    "from sklearn.feature_extraction.text import CountVectorizer\n",
    "\n",
    "# Preprocessing the data from the origina dataset\n",
    "vectorizer = CountVectorizer(analyzer='word', stop_words='english')\n",
    "train_processed_data = vectorizer.fit_transform(train_data)\n",
    "test_processed_data = vectorizer.transform(test_data)"
   ]
  },
  {
   "cell_type": "code",
   "execution_count": 55,
   "metadata": {},
   "outputs": [
    {
     "data": {
      "text/plain": [
       "MultinomialNB(alpha=0.2)"
      ]
     },
     "execution_count": 55,
     "metadata": {},
     "output_type": "execute_result"
    }
   ],
   "source": [
    "from sklearn.naive_bayes import MultinomialNB\n",
    "\n",
    "# Training the multinomial naive bayes model\n",
    "classifier = MultinomialNB(alpha=0.2, class_prior=None, fit_prior=True)\n",
    "classifier.fit(train_processed_data, train_target)"
   ]
  },
  {
   "cell_type": "code",
   "execution_count": 56,
   "metadata": {},
   "outputs": [
    {
     "name": "stdout",
     "output_type": "stream",
     "text": [
      "Accuracy obtained: 0.8096123207647371\n"
     ]
    }
   ],
   "source": [
    "# Validating the model\n",
    "predictions = classifier.predict(test_processed_data)\n",
    "\n",
    "# Calculating the accuracy obtained from the model\n",
    "accuracy = (predictions == test_target).sum() / test_size\n",
    "print(f'Accuracy obtained: {accuracy}')"
   ]
  },
  {
   "cell_type": "code",
   "execution_count": 57,
   "metadata": {},
   "outputs": [
    {
     "name": "stdout",
     "output_type": "stream",
     "text": [
      "[-3.16001007 -2.96389519 -2.95198016 -2.95367364 -2.97422231 -2.94860178\n",
      " -2.96218433 -2.94691686 -2.94020542 -2.94187906 -2.93686652 -2.94523477\n",
      " -2.95198016 -2.94691686 -2.94860178 -2.93853458 -3.0311772  -2.99874192\n",
      " -3.19175877 -3.40155099]\n",
      "[[-10.44421355  -8.07513871 -13.21680227 ... -13.21680227 -13.21680227\n",
      "  -13.21680227]\n",
      " [ -8.07977744  -8.7670937  -13.221441   ... -13.221441   -13.221441\n",
      "  -13.221441  ]\n",
      " [ -8.98961558 -10.16977774 -14.10160337 ... -14.10160337 -14.10160337\n",
      "  -14.10160337]\n",
      " ...\n",
      " [ -8.54364858  -6.71735188 -11.86387689 ... -13.65563636 -13.65563636\n",
      "  -13.65563636]\n",
      " [ -8.46664766  -7.55462132 -13.41540755 ... -13.41540755 -13.41540755\n",
      "  -13.41540755]\n",
      " [-10.0192389   -8.60941404 -13.06376133 ... -13.06376133 -13.06376133\n",
      "  -13.06376133]]\n",
      "(20, 129796)\n"
     ]
    }
   ],
   "source": [
    "print(classifier.intercept_)\n",
    "print(classifier.coef_)\n",
    "print(classifier.coef_.shape)"
   ]
  }
 ],
 "metadata": {
  "kernelspec": {
   "display_name": "Python 3",
   "language": "python",
   "name": "python3"
  },
  "language_info": {
   "codemirror_mode": {
    "name": "ipython",
    "version": 3
   },
   "file_extension": ".py",
   "mimetype": "text/x-python",
   "name": "python",
   "nbconvert_exporter": "python",
   "pygments_lexer": "ipython3",
   "version": "3.8.5"
  }
 },
 "nbformat": 4,
 "nbformat_minor": 4
}
