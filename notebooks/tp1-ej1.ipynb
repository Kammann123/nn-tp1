{
 "cells": [
  {
   "cell_type": "markdown",
   "metadata": {
    "id": "pVaG71Po2qOD"
   },
   "source": [
    "# Redes Neuronales\n",
    "## Trabajo Práctico N° 1 - Ejercicio 1\n",
    "* Kammann, Lucas Agustín\n",
    "* Gaytan, Joaquín Oscar\n",
    "\n",
    "### Consultas y/o dudas\n",
    "* Métricas del modelo (Matriz de confusión, exactitud, precisión, etc.)\n",
    "* Procesamiento de los datos? (Filtrado)\n",
    "* CountVectorizer, es necesario que lo hagamos a mano o podemos utilizar la librería de sci-kit-learn?\n",
    "* Filtrado de numeros\n",
    "* Filtrado de palabras\n",
    "\n",
    "### Step by step\n",
    "* Obtención del dataset (separando entre \"train\" y \"test\")\n",
    "* Preprocesamiento de los datos\n",
    "* Distribuciones condicionales (Verosimilitudes/Likelihood)\n",
    "* Smoothing\n",
    "* Probabilidad a Priori\n",
    "* Clasificación (Naive Bayes Multinomial)\n",
    "* Clasificación usando log posteriori\n",
    "* Métricas"
   ]
  },
  {
   "cell_type": "markdown",
   "metadata": {},
   "source": [
    "# Descripción del problema\n",
    "Se desea armar un clasificador de correos electrónicos o noticias en función del tópico sobre el cual trata dicho correo electrónico o noticia, para ello, se modela el problema considerando una variable aleatoria discreta $X$ con distribución categórica de $k_x = 20$ categorías, siendo estas los tópicos posibles que pueden tratar los documentos clasificados.\n",
    "\n",
    "$$X \\sim Categorica(p_1, p_2, ..., p_{k_x})$$\n",
    "\n",
    "Las características a analizar de los documentos para la clasificación, son las palabras. Se asume que el orden de las palabras no importa, que son independientes entre sí y que se encuentran identicamente distribuídas. De esta forma, se define una segunda variable aleatoria discreta $Y$ con distribución categórica de $k_y$ categorías, siendo estas las posibles palabras de nuestro vocabulario.\n",
    "\n",
    "$$Y \\sim Categorica(p_1, p_2, ..., p_{k_y})$$"
   ]
  },
  {
   "cell_type": "markdown",
   "metadata": {},
   "source": [
    "# Preparación de la base de datos\n",
    "Usamos la librería **sklearn** para descargar la base de datos de entrenamiento y de validación."
   ]
  },
  {
   "cell_type": "code",
   "execution_count": 1,
   "metadata": {
    "colab": {
     "base_uri": "https://localhost:8080/"
    },
    "executionInfo": {
     "elapsed": 18842,
     "status": "ok",
     "timestamp": 1616464689182,
     "user": {
      "displayName": "JOAQUÍN OSCAR GAYTAN",
      "photoUrl": "",
      "userId": "15176508666834216481"
     },
     "user_tz": 180
    },
    "id": "NCv8VNLQ2k7R",
    "outputId": "270d983e-17a6-4a3a-c82f-f6e6a0ce6faf"
   },
   "outputs": [
    {
     "name": "stdout",
     "output_type": "stream",
     "text": [
      "Dataset Train: 11314 elements\n",
      "Dataset Test: 7532 elements\n"
     ]
    }
   ],
   "source": [
    "from sklearn.datasets import fetch_20newsgroups\n",
    "import numpy as np\n",
    "\n",
    "# Loading the datasets\n",
    "train = fetch_20newsgroups(subset='train', shuffle=True)\n",
    "test = fetch_20newsgroups(subset='test', shuffle=True)\n",
    "\n",
    "# Categories\n",
    "categories = train.target_names\n",
    "\n",
    "# Train dataset, casting to numpy array\n",
    "train_data = np.array(train.data)\n",
    "train_target = np.array(train.target)\n",
    "train_size = len(train_data)\n",
    "\n",
    "# Test dataset, casting to numpy array\n",
    "test_data = np.array(test.data)\n",
    "test_target = np.array(test.target)\n",
    "test_size = len(test_data)\n",
    "\n",
    "# Logging useful information\n",
    "print(f'Dataset Train: {train_size} elements')\n",
    "print(f'Dataset Test: {test_size} elements')"
   ]
  },
  {
   "cell_type": "markdown",
   "metadata": {},
   "source": [
    "# Explorando la base de datos\n",
    "\n",
    "## Observando un correo electrónico de forma aleatoria\n",
    "Buscamos de forma aleatoria un elemento dentro de la base de datos de entrenamiento, con el objetivo de visualizar cómo suelen ser los correos electrónicos de noticias que se poseen, para tener una mejor comprensión de qué podemos llegar a encontrarnos dentro del vocabulario o el documento a analizar."
   ]
  },
  {
   "cell_type": "code",
   "execution_count": 2,
   "metadata": {},
   "outputs": [
    {
     "name": "stdout",
     "output_type": "stream",
     "text": [
      "From: jkeais@ucssun1.sdsu.edu (keais j)\n",
      "Subject: Re: Pioneer Laser player\n",
      "Article-I.D.: gondor.1pr8nn$46v\n",
      "Organization: SDSU Computing Services\n",
      "Lines: 17\n",
      "NNTP-Posting-Host: ucssun1.sdsu.edu\n",
      "\n",
      "In article <1993Apr6.005150.10250@ee.rochester.edu> neale@ee.rochester.edu (Reg Neale) writes:\n",
      ">I'm trying to figure out how to operate a Pioneer Laserdisc LD-1000 that I bought at a surplus store. It is reputedly from some kind of computerised viewing\n",
      ">and/or ordering system. THere is what may be an HPIB connector on the back. When\n",
      ">I power it up, the front panel power light comes on, but no activity, and the\n",
      ">door doesn't open. Anyone have any experience with this unit or any ideas on how\n",
      ">to obtain documentation?\n",
      "\n",
      "What you have is one of the LD players from a video game (Dragon's Lair,\n",
      "Space Ace, etc). Call Pioneer Technicial Support 213-498-0300 (at least\n",
      "that's the number I called them at) and ask for the LD-V1000 Interface\n",
      "Guide. It shows how the parallel interface should be wired and the codes\n",
      "for the commands (play, pause, reject, etc). The guide is mainly for hooking\n",
      "the player to a computer, but with a little work, you could build a wired\n",
      "controller.\n",
      "\n",
      "\n",
      "Jim Keais        jkeais@ucssun1.sdsu.edu\n",
      "\n"
     ]
    }
   ],
   "source": [
    "random_data = np.random.choice(train_data)\n",
    "print(random_data)"
   ]
  },
  {
   "cell_type": "markdown",
   "metadata": {},
   "source": [
    "## Categorías\n",
    "Dentro de la base de datos, los correos electrónicos que podemos encontrar pueden tratar de diferentes tópicos, y estos tópicos son las categorías de la variable aleatoria definida $X$."
   ]
  },
  {
   "cell_type": "code",
   "execution_count": 3,
   "metadata": {
    "colab": {
     "base_uri": "https://localhost:8080/"
    },
    "executionInfo": {
     "elapsed": 758,
     "status": "ok",
     "timestamp": 1616464712787,
     "user": {
      "displayName": "JOAQUÍN OSCAR GAYTAN",
      "photoUrl": "",
      "userId": "15176508666834216481"
     },
     "user_tz": 180
    },
    "id": "9Xh-PLNI7WsW",
    "outputId": "1665e32b-4e8b-491f-f4a2-d4115f937cc6"
   },
   "outputs": [
    {
     "name": "stdout",
     "output_type": "stream",
     "text": [
      "['alt.atheism', 'comp.graphics', 'comp.os.ms-windows.misc', 'comp.sys.ibm.pc.hardware', 'comp.sys.mac.hardware', 'comp.windows.x', 'misc.forsale', 'rec.autos', 'rec.motorcycles', 'rec.sport.baseball', 'rec.sport.hockey', 'sci.crypt', 'sci.electronics', 'sci.med', 'sci.space', 'soc.religion.christian', 'talk.politics.guns', 'talk.politics.mideast', 'talk.politics.misc', 'talk.religion.misc']\n"
     ]
    }
   ],
   "source": [
    "# Show the news categories\n",
    "print(categories)"
   ]
  },
  {
   "cell_type": "code",
   "execution_count": 4,
   "metadata": {},
   "outputs": [
    {
     "name": "stdout",
     "output_type": "stream",
     "text": [
      "{\n",
      "      \"alt\": {\n",
      "            \"atheism\": {}\n",
      "      },\n",
      "      \"comp\": {\n",
      "            \"graphics\": {},\n",
      "            \"os\": {\n",
      "                  \"ms-windows\": {\n",
      "                        \"misc\": {}\n",
      "                  }\n",
      "            },\n",
      "            \"sys\": {\n",
      "                  \"ibm\": {\n",
      "                        \"pc\": {\n",
      "                              \"hardware\": {}\n",
      "                        }\n",
      "                  },\n",
      "                  \"mac\": {\n",
      "                        \"hardware\": {}\n",
      "                  }\n",
      "            },\n",
      "            \"windows\": {\n",
      "                  \"x\": {}\n",
      "            }\n",
      "      },\n",
      "      \"misc\": {\n",
      "            \"forsale\": {}\n",
      "      },\n",
      "      \"rec\": {\n",
      "            \"autos\": {},\n",
      "            \"motorcycles\": {},\n",
      "            \"sport\": {\n",
      "                  \"baseball\": {},\n",
      "                  \"hockey\": {}\n",
      "            }\n",
      "      },\n",
      "      \"sci\": {\n",
      "            \"crypt\": {},\n",
      "            \"electronics\": {},\n",
      "            \"med\": {},\n",
      "            \"space\": {}\n",
      "      },\n",
      "      \"soc\": {\n",
      "            \"religion\": {\n",
      "                  \"christian\": {}\n",
      "            }\n",
      "      },\n",
      "      \"talk\": {\n",
      "            \"politics\": {\n",
      "                  \"guns\": {},\n",
      "                  \"mideast\": {},\n",
      "                  \"misc\": {}\n",
      "            },\n",
      "            \"religion\": {\n",
      "                  \"misc\": {}\n",
      "            }\n",
      "      }\n",
      "}\n"
     ]
    }
   ],
   "source": [
    "import json\n",
    "\n",
    "# Processing the categories tree\n",
    "categories_tree = {}\n",
    "for category in categories:\n",
    "    # For each new category, the dot separated fields are converted into a list\n",
    "    category_levels = category.split('.')\n",
    "    \n",
    "    # Iteration over each field that describes a category, to create the corresponding\n",
    "    # tree path towards that node, each field should exist as a node in its corresponding level\n",
    "    categories_tree_node = categories_tree\n",
    "    for category_level in category_levels:\n",
    "            # If current category level has not been created already\n",
    "            if category_level not in categories_tree_node.keys():\n",
    "                categories_tree_node[category_level] = {}\n",
    "                \n",
    "            # Enter the category level\n",
    "            categories_tree_node = categories_tree_node[category_level]\n",
    "\n",
    "# Showing the result in a graphical view\n",
    "print(json.dumps(categories_tree, indent=6, sort_keys=True))"
   ]
  },
  {
   "cell_type": "markdown",
   "metadata": {},
   "source": [
    "### TODO! Agregar labels para cada posible categoria, más lindo el histograma y explicar la PROBABILIDAD A PRIORI"
   ]
  },
  {
   "cell_type": "markdown",
   "metadata": {},
   "source": [
    "# Histograma de tópicos\n",
    "Se calcula y grafica el histograma de los tópicos de las noticias o correos electrónicos utilizando la librería **matplotlib**."
   ]
  },
  {
   "cell_type": "code",
   "execution_count": 5,
   "metadata": {
    "colab": {
     "base_uri": "https://localhost:8080/",
     "height": 265
    },
    "executionInfo": {
     "elapsed": 4780,
     "status": "ok",
     "timestamp": 1616376899482,
     "user": {
      "displayName": "LUCAS KAMMANN",
      "photoUrl": "",
      "userId": "12661655261825067035"
     },
     "user_tz": 180
    },
    "id": "R7Jl_PbkC7CY",
    "outputId": "9fbc462e-28ed-4cc0-b7a7-9254af2e7597"
   },
   "outputs": [
    {
     "data": {
      "image/png": "[encoded data removed]",
      "text/plain": [
       "<Figure size 432x288 with 1 Axes>"
      ]
     },
     "metadata": {
      "needs_background": "light"
     },
     "output_type": "display_data"
    },
    {
     "name": "stdout",
     "output_type": "stream",
     "text": [
      "[0.04242531 0.05161747 0.05223617 0.05214778 0.05108715 0.05241294\n",
      " 0.05170585 0.05250133 0.05285487 0.05276648 0.05303164 0.05258971\n",
      " 0.05223617 0.05250133 0.05241294 0.05294326 0.04825879 0.04984974\n",
      " 0.04109952 0.03332155]\n",
      "Wall time: 846 ms\n"
     ]
    }
   ],
   "source": [
    "%%time\n",
    "from matplotlib import pyplot as plt\n",
    "\n",
    "# Histogram for the categories in the training set\n",
    "priori, _, _ = plt.hist(train_target, bins=len(categories), range=(0,len(categories)), rwidth=0.5, density=True)\n",
    "plt.show()\n",
    "print(priori)"
   ]
  },
  {
   "cell_type": "code",
   "execution_count": 6,
   "metadata": {},
   "outputs": [
    {
     "name": "stdout",
     "output_type": "stream",
     "text": [
      "Shape of the priori probability distribution: (20,)\n"
     ]
    }
   ],
   "source": [
    "print(f'Shape of the priori probability distribution: {priori.shape}')"
   ]
  },
  {
   "cell_type": "markdown",
   "metadata": {},
   "source": [
    "# Estimación de probabilidades a priori\n",
    "Se computan las probabilidades a priori para las categorías, es decir, los tópicos. Se emplea una herramienta distinta a **matplotlib** para comparar el tiempo utilizada en el procesamiento. Se está estimando la siguiente función masa de probabilidad,\n",
    "$$P(X=x) ; x = 0, 1, ..., 19$$"
   ]
  },
  {
   "cell_type": "code",
   "execution_count": 7,
   "metadata": {},
   "outputs": [
    {
     "name": "stdout",
     "output_type": "stream",
     "text": [
      "Wall time: 2 ms\n"
     ]
    }
   ],
   "source": [
    "%%time\n",
    "\n",
    "# For each category, filter the amount of occurences in the training dataset\n",
    "# the compute the priori probability\n",
    "priori_distribution = np.zeros(len(categories))\n",
    "for index, category in enumerate(categories):\n",
    "    frequency = (train_target == index).sum()\n",
    "    priori_distribution[index] = frequency\n",
    "priori_distribution /= priori_distribution.sum()"
   ]
  },
  {
   "cell_type": "markdown",
   "metadata": {},
   "source": [
    "### Preprocesamiento"
   ]
  },
  {
   "cell_type": "code",
   "execution_count": 8,
   "metadata": {
    "id": "VTY7lCEeMQWC"
   },
   "outputs": [
    {
     "name": "stdout",
     "output_type": "stream",
     "text": [
      "Wall time: 7.92 s\n"
     ]
    }
   ],
   "source": [
    "%%time\n",
    "\n",
    "from sklearn.feature_extraction.text import CountVectorizer\n",
    "\n",
    "# Importing and testing the CountVectorizer class of sklearn\n",
    "vectorizer = CountVectorizer(analyzer='word', stop_words='english', encoding='latin1')\n",
    "feature_matrix = vectorizer.fit_transform(train_data)"
   ]
  },
  {
   "cell_type": "code",
   "execution_count": 9,
   "metadata": {},
   "outputs": [
    {
     "name": "stdout",
     "output_type": "stream",
     "text": [
      "(11314, 129796)\n"
     ]
    }
   ],
   "source": [
    "print(feature_matrix.shape)"
   ]
  },
  {
   "cell_type": "markdown",
   "metadata": {},
   "source": [
    "## Estimación de distribución de probabilidad condicional\n",
    "\n",
    "## Overfitting y Laplacian Smoothing\n",
    "El **overfitting** es un problema que ocurre cuando el modelo utilizado no es capaz de predecir correctamente frente a datos nuevos que no se encontraban en el conjunto de entrenamiento, lo cual le quita capacidad de generalizar, un aspecto fundamental en la resolución de problemas de inteligencia artificial. En este caso, para resolver el problema descripto se propone emplear un clasificador naive bayes multinomial, que puede traer apareado un problema de overfitting que se ilustra a continuación,\n",
    "\n",
    "### Discusiones sobre Laplacian Smoothing\n",
    "* https://towardsdatascience.com/laplace-smoothing-in-na%C3%AFve-bayes-algorithm-9c237a8bdece\n",
    "* https://medium.com/syncedreview/applying-multinomial-naive-bayes-to-nlp-problems-a-practical-explanation-4f5271768ebf\n",
    "* https://stats.stackexchange.com/questions/108797/in-naive-bayes-why-bother-with-laplace-smoothing-when-we-have-unknown-words-in\n",
    "* https://courses.cs.washington.edu/courses/cse446/20wi/Section7/naive-bayes.pdf"
   ]
  },
  {
   "cell_type": "code",
   "execution_count": 10,
   "metadata": {
    "id": "zbu8XISsgck7"
   },
   "outputs": [
    {
     "name": "stdout",
     "output_type": "stream",
     "text": [
      "Wall time: 84.8 ms\n"
     ]
    }
   ],
   "source": [
    "%%time\n",
    "\n",
    "# Separate the matrix of documents (mails) and occurrences of words for each category\n",
    "# and compute the normalized distribution to get the likelihood for each category\n",
    "alpha = 0.01\n",
    "categories_distribution = np.zeros((len(categories), len(vectorizer.vocabulary_.keys())), dtype=np.longdouble)\n",
    "for index, category in enumerate(categories):\n",
    "  category_matrix = feature_matrix[train_target == index][:]\n",
    "  distribution = category_matrix.sum(axis=0) + alpha\n",
    "  categories_distribution[index,:] = distribution / distribution.sum()"
   ]
  },
  {
   "cell_type": "code",
   "execution_count": 11,
   "metadata": {},
   "outputs": [
    {
     "name": "stdout",
     "output_type": "stream",
     "text": [
      "(20, 129796)\n",
      "[[3.53108339e-05 3.98977229e-04 1.17311740e-07 ... 1.17311740e-07\n",
      "  1.17311740e-07 1.17311740e-07]\n",
      " [3.96599761e-04 1.98358187e-04 1.16612691e-07 ... 1.16612691e-07\n",
      "  1.16612691e-07 1.16612691e-07]\n",
      " [1.36640998e-04 4.14352131e-05 4.13938193e-08 ... 4.13938193e-08\n",
      "  4.13938193e-08 4.13938193e-08]\n",
      " ...\n",
      " [2.26423180e-04 1.41306996e-03 6.92782224e-06 ... 6.85922994e-08\n",
      "  6.85922994e-08 6.85922994e-08]\n",
      " [2.56058747e-04 6.40009741e-04 9.14169035e-08 ... 9.14169035e-08\n",
      "  9.14169035e-08 9.14169035e-08]\n",
      " [5.75760952e-05 2.44231765e-04 1.43581285e-07 ... 1.43581285e-07\n",
      "  1.43581285e-07 1.43581285e-07]]\n"
     ]
    }
   ],
   "source": [
    "print(categories_distribution.shape)\n",
    "print(categories_distribution)"
   ]
  },
  {
   "cell_type": "markdown",
   "metadata": {},
   "source": [
    "## Calculando la prediccion con las probabilidades"
   ]
  },
  {
   "cell_type": "code",
   "execution_count": 12,
   "metadata": {},
   "outputs": [
    {
     "name": "stderr",
     "output_type": "stream",
     "text": [
      "<timed exec>:13: RuntimeWarning: invalid value encountered in true_divide\n"
     ]
    },
    {
     "name": "stdout",
     "output_type": "stream",
     "text": [
      "Wall time: 5.41 s\n"
     ]
    }
   ],
   "source": [
    "%%time\n",
    "\n",
    "# Data, target and vectorizer\n",
    "input_size = 100\n",
    "input_data = test_data[:input_size]\n",
    "input_target = test_target[:input_size]\n",
    "input_matrix = vectorizer.transform(input_data)\n",
    "\n",
    "# Computing predictions for each input\n",
    "predictions = np.zeros(input_matrix.shape[0], dtype=int)\n",
    "for input_index in range(input_matrix.shape[0]):\n",
    "    # Computing the posteriori probability\n",
    "    # posteriori_unnormalized = ((categories_distribution * 10e3) ** input_matrix.toarray()[input_index]).prod(axis=1) * priori\n",
    "    posteriori_unnormalized = ((categories_distribution) ** input_matrix.toarray()[input_index]).prod(axis=1) * priori\n",
    "    posteriori_normalized = posteriori_unnormalized / posteriori_unnormalized.sum()\n",
    "\n",
    "    # Choosing the maximum posteriori probability as the prediction\n",
    "    predictions[input_index] = posteriori_unnormalized.argmax()"
   ]
  },
  {
   "cell_type": "code",
   "execution_count": 13,
   "metadata": {},
   "outputs": [
    {
     "name": "stdout",
     "output_type": "stream",
     "text": [
      "Accuracy obtained: 0.4\n"
     ]
    }
   ],
   "source": [
    "# Computing the accuracy of the model\n",
    "accuracy = (predictions == input_target).sum() / input_size\n",
    "print(f'Accuracy obtained: {accuracy}')"
   ]
  },
  {
   "cell_type": "markdown",
   "metadata": {},
   "source": [
    "# Calculando la predicción usando log probabilidades"
   ]
  },
  {
   "cell_type": "code",
   "execution_count": 14,
   "metadata": {},
   "outputs": [
    {
     "name": "stdout",
     "output_type": "stream",
     "text": [
      "Wall time: 6.92 s\n"
     ]
    }
   ],
   "source": [
    "%%time\n",
    "\n",
    "# Log probabilities\n",
    "log_priori = np.log(priori)\n",
    "log_prob = np.log(categories_distribution)\n",
    "\n",
    "# Data, target and vectorizer\n",
    "input_size = test_size\n",
    "input_data = test_data[:input_size]\n",
    "input_target = test_target[:input_size]\n",
    "input_matrix = vectorizer.transform(input_data)"
   ]
  },
  {
   "cell_type": "code",
   "execution_count": 15,
   "metadata": {},
   "outputs": [
    {
     "name": "stdout",
     "output_type": "stream",
     "text": [
      "Wall time: 1min 1s\n"
     ]
    }
   ],
   "source": [
    "%%time\n",
    "\n",
    "# Computing the log posteriori probability\n",
    "log_posteriori = np.dot(log_prob, input_matrix.todense().transpose()) + (log_priori.reshape(-1, 1) * np.ones(input_size))"
   ]
  },
  {
   "cell_type": "code",
   "execution_count": 16,
   "metadata": {},
   "outputs": [
    {
     "name": "stdout",
     "output_type": "stream",
     "text": [
      "Wall time: 77.8 ms\n"
     ]
    }
   ],
   "source": [
    "%%time\n",
    "\n",
    "# Choosing the maximum log posteriori probability as the prediction\n",
    "predictions = np.zeros(input_matrix.shape[0], dtype=int)\n",
    "for input_index in range(input_size):\n",
    "    predictions[input_index] = log_posteriori[:,input_index].argmax()"
   ]
  },
  {
   "cell_type": "markdown",
   "metadata": {},
   "source": [
    "## Métricas"
   ]
  },
  {
   "cell_type": "code",
   "execution_count": 17,
   "metadata": {},
   "outputs": [
    {
     "name": "stdout",
     "output_type": "stream",
     "text": [
      "Accuracy obtained: 0.804567180031864\n"
     ]
    }
   ],
   "source": [
    "from sklearn import metrics\n",
    "\n",
    "# Accuracy (Exactitud)\n",
    "accuracy = metrics.accuracy_score(input_target, predictions)\n",
    "print(f'Accuracy obtained: {accuracy}')"
   ]
  },
  {
   "cell_type": "code",
   "execution_count": 18,
   "metadata": {},
   "outputs": [
    {
     "data": {
      "text/plain": [
       "Text(0.5, 1.0, 'Matriz de Confusión')"
      ]
     },
     "execution_count": 18,
     "metadata": {},
     "output_type": "execute_result"
    },
    {
     "data": {
      "image/png": "[encoded data removed]",
      "text/plain": [
       "<Figure size 288x288 with 2 Axes>"
      ]
     },
     "metadata": {
      "needs_background": "light"
     },
     "output_type": "display_data"
    }
   ],
   "source": [
    "# Confusion Matrix\n",
    "cmatrix = metrics.confusion_matrix(input_target, predictions)\n",
    "plt.matshow(cmatrix)\n",
    "plt.colorbar()\n",
    "plt.title(\"Matriz de Confusión\")"
   ]
  },
  {
   "cell_type": "code",
   "execution_count": 19,
   "metadata": {},
   "outputs": [
    {
     "name": "stdout",
     "output_type": "stream",
     "text": [
      "[0.81538462 0.56653992 0.80645161 0.54039497 0.73165138 0.79614325\n",
      " 0.75544794 0.87073171 0.91428571 0.9562982  0.95771144 0.90220049\n",
      " 0.75968992 0.88203753 0.86519608 0.8997555  0.81360202 0.96901408\n",
      " 0.75182482 0.6733871 ]\n"
     ]
    }
   ],
   "source": [
    "# Precision\n",
    "precision = metrics.precision_score(input_target, predictions, average=None)\n",
    "print(precision)"
   ]
  },
  {
   "cell_type": "code",
   "execution_count": 20,
   "metadata": {},
   "outputs": [
    {
     "name": "stdout",
     "output_type": "stream",
     "text": [
      "[0.830721   0.76606684 0.06345178 0.76785714 0.82857143 0.73164557\n",
      " 0.8        0.90151515 0.96482412 0.93702771 0.96491228 0.93181818\n",
      " 0.7480916  0.83080808 0.89593909 0.92462312 0.88736264 0.91489362\n",
      " 0.66451613 0.66533865]\n"
     ]
    }
   ],
   "source": [
    "# Recall\n",
    "recall = metrics.recall_score(input_target, predictions, average=None)\n",
    "print(recall)"
   ]
  },
  {
   "cell_type": "code",
   "execution_count": 21,
   "metadata": {},
   "outputs": [
    {
     "name": "stdout",
     "output_type": "stream",
     "text": [
      "[0.82298137 0.65136612 0.11764706 0.63435195 0.7771011  0.76253298\n",
      " 0.77708593 0.88585608 0.93887531 0.94656489 0.96129838 0.91677019\n",
      " 0.75384615 0.8556567  0.88029925 0.91201983 0.84888305 0.94117647\n",
      " 0.70547945 0.66933868]\n"
     ]
    }
   ],
   "source": [
    "# F1 score\n",
    "f1 = metrics.f1_score(input_target, predictions, average=None)\n",
    "print(f1)"
   ]
  },
  {
   "cell_type": "code",
   "execution_count": 22,
   "metadata": {},
   "outputs": [
    {
     "name": "stdout",
     "output_type": "stream",
     "text": [
      "              precision    recall  f1-score   support\n",
      "\n",
      "           0       0.82      0.83      0.82       319\n",
      "           1       0.57      0.77      0.65       389\n",
      "           2       0.81      0.06      0.12       394\n",
      "           3       0.54      0.77      0.63       392\n",
      "           4       0.73      0.83      0.78       385\n",
      "           5       0.80      0.73      0.76       395\n",
      "           6       0.76      0.80      0.78       390\n",
      "           7       0.87      0.90      0.89       396\n",
      "           8       0.91      0.96      0.94       398\n",
      "           9       0.96      0.94      0.95       397\n",
      "          10       0.96      0.96      0.96       399\n",
      "          11       0.90      0.93      0.92       396\n",
      "          12       0.76      0.75      0.75       393\n",
      "          13       0.88      0.83      0.86       396\n",
      "          14       0.87      0.90      0.88       394\n",
      "          15       0.90      0.92      0.91       398\n",
      "          16       0.81      0.89      0.85       364\n",
      "          17       0.97      0.91      0.94       376\n",
      "          18       0.75      0.66      0.71       310\n",
      "          19       0.67      0.67      0.67       251\n",
      "\n",
      "    accuracy                           0.80      7532\n",
      "   macro avg       0.81      0.80      0.79      7532\n",
      "weighted avg       0.81      0.80      0.79      7532\n",
      "\n"
     ]
    }
   ],
   "source": [
    "print(metrics.classification_report(input_target, predictions))"
   ]
  }
 ],
 "metadata": {
  "colab": {
   "collapsed_sections": [],
   "name": "TP1-EJ1.ipynb",
   "provenance": []
  },
  "kernelspec": {
   "display_name": "Python 3",
   "language": "python",
   "name": "python3"
  },
  "language_info": {
   "codemirror_mode": {
    "name": "ipython",
    "version": 3
   },
   "file_extension": ".py",
   "mimetype": "text/x-python",
   "name": "python",
   "nbconvert_exporter": "python",
   "pygments_lexer": "ipython3",
   "version": "3.9.2"
  }
 },
 "nbformat": 4,
 "nbformat_minor": 4
}
