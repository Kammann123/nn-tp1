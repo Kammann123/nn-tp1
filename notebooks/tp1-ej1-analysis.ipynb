{
 "cells": [
  {
   "cell_type": "markdown",
   "metadata": {
    "id": "pVaG71Po2qOD"
   },
   "source": [
    "# Redes Neuronales - Trabajo Práctico N° 1 - Notebook #1\n",
    "En este primer notebook se busca realizar una descripción y un análisis del problema, explicando paso a paso para tener una mejor comprensión de los conceptos, y del problema a resolver. Asímismo, se busca realizar las estimaciones y la clasificación, para poder ver los resultados y reflexionar sobre los mismos, sin decidir o buscar un mejor modelo por ahora.\n",
    "\n",
    "### Integrantes del grupo\n",
    "* Kammann, Lucas Agustín\n",
    "* Gaytan, Joaquín Oscar"
   ]
  },
  {
   "cell_type": "markdown",
   "metadata": {},
   "source": [
    "# 1. Descripción del problema\n",
    "Se desea armar un clasificador de correos electrónicos o noticias en función del tópico sobre el cual trata dicho correo electrónico o noticia, para ello, se modela el problema considerando una variable aleatoria discreta $X$ con distribución categórica de $k_x = 20$ categorías, siendo estas los tópicos posibles que pueden tratar los documentos clasificados.\n",
    "\n",
    "$$X \\sim Categorica(p_1, p_2, ..., p_{k_x})$$\n",
    "\n",
    "Las características a analizar de los documentos para la clasificación, son las palabras. Se asume que el orden de las palabras no importa, que son independientes entre sí y que se encuentran identicamente distribuídas. De esta forma, se define una segunda variable aleatoria discreta $Y$ con distribución categórica de $k_y$ categorías, siendo estas las posibles palabras de nuestro vocabulario.\n",
    "\n",
    "$$Y \\sim Categorica(p_1, p_2, ..., p_{k_y})$$"
   ]
  },
  {
   "cell_type": "markdown",
   "metadata": {},
   "source": [
    "# 2. Esquema de clasificación\n",
    "El modelo de clasificación es probabilístico, utilizando el criterio de máximo a posteriori, es decir se busca encontrar cuál es el tópico para el cual la probabilidad de que sea ese tópico sea máxima, dado la información que tenemos del mail o noticia.\n",
    "\n",
    "$$P(y|x_1,...,x_n)$$\n",
    "\n",
    "Aplicando la regla de Bayes,\n",
    "\n",
    "$$P(y|x_1,...,x_n) = \\frac{P(x_1,...,x_n|y) \\cdot P(y)}{P(x_1,...,x_n)}$$\n",
    "\n",
    "Luego, computacionalmente puede resultar demasiado compejo y costoso obtener las funciones de masa de probabilidad conjunta para las $n$ palabras dentro de un texto, dado cada posible tópico. Obtener tales funciones es un proceso de estimación, por lo tanto incluso si computacionalmente se pudiera estimar esa probabilidad conjunta, la cantidad de datos necesarios para poder estimarla con poco error resulta muy grande dada la cantidad de variables incluídas. Con lo cual, con no muchos datos también habría un error mayor en la predicción.\n",
    "\n",
    "Para esto, se emplea un clasificador naive bayes, donde la condición naive o ingenuo impone independencia de las variables. De esta forma, la **verosimilitud** se aproxima y la expresión resulta como se muestra a continuación,\n",
    "\n",
    "$$P(y|x_1,...,x_n) \\approx \\frac{P(x_1|y) \\cdot ...  \\cdot P(x_n|y) \\cdot P(y)}{P(x_1,...,x_n)}$$\n",
    "\n",
    "El denominador de esta expresión es invariante a las categorías de noticias o tópicos, es decir, es un número que se emplea por igual para cada probabilidad a posteriori. Entonces, como el proceso de clasificación sólo busca ver cuál de estas expresiones resulta mayor, si todas están afectadas por un factor idéntico, removerlo no afecta,\n",
    "\n",
    "$$P(y|x_1,...,x_n) \\approx \\left[ \\prod_{i=1}^{n} P(x_i|y) \\right] \\cdot P(y)$$\n",
    "\n",
    "En conclusión,\n",
    "\n",
    "$$\\hat{y} = argmax_y \\left[ \\left[ \\prod_{i=1}^{n} P(x_i|y) \\right] \\cdot P(y) \\right]$$\n"
   ]
  },
  {
   "cell_type": "markdown",
   "metadata": {},
   "source": [
    "# 3. Parámetros del modelo\n",
    "\n",
    "A modo de conclusión del análisis previo que describe el esquema de clasificación a emplear, se pueden determinar cuales son los parámetros del modelo que son necesarios estimar mediante el conjunto de datos de entrenamiento para tener listo el clasificador para predecir resultados.\n",
    "1. $P(y)$, comúnmente llamadas en este contexto **probabilidades a priori**, es la distribución de la variable categórica tópico.\n",
    "2. $P(x_i|y)$, es la distribución de la variable categórica palabra, condicionada al tópico."
   ]
  },
  {
   "cell_type": "markdown",
   "metadata": {},
   "source": [
    "# 4. Preparación de la base de datos\n",
    "Usamos la librería **sklearn** para descargar la base de datos de entrenamiento y de validación, ya que se encontraba disponible en sus datasets."
   ]
  },
  {
   "cell_type": "code",
   "execution_count": 3,
   "metadata": {
    "colab": {
     "base_uri": "https://localhost:8080/"
    },
    "executionInfo": {
     "elapsed": 18842,
     "status": "ok",
     "timestamp": 1616464689182,
     "user": {
      "displayName": "JOAQUÍN OSCAR GAYTAN",
      "photoUrl": "",
      "userId": "15176508666834216481"
     },
     "user_tz": 180
    },
    "id": "NCv8VNLQ2k7R",
    "outputId": "270d983e-17a6-4a3a-c82f-f6e6a0ce6faf"
   },
   "outputs": [
    {
     "name": "stdout",
     "output_type": "stream",
     "text": [
      "Dataset Train: 11314 elements\n",
      "Dataset Test: 7532 elements\n"
     ]
    }
   ],
   "source": [
    "from sklearn.datasets import fetch_20newsgroups\n",
    "import numpy as np\n",
    "\n",
    "# Loading the datasets\n",
    "train = fetch_20newsgroups(\n",
    "    subset='train', \n",
    "    shuffle=True,\n",
    "    remove=('headers', 'footers')\n",
    ")\n",
    "\n",
    "test = fetch_20newsgroups(\n",
    "    subset='test',\n",
    "    shuffle=True,\n",
    "    remove=('headers', 'footers')\n",
    ")\n",
    "\n",
    "# Categories\n",
    "categories = train.target_names\n",
    "\n",
    "# Train dataset, casting to numpy array\n",
    "train_raw_input = np.array(train.data)\n",
    "train_output = np.array(train.target)\n",
    "train_size = len(train_raw_input)\n",
    "\n",
    "# Test dataset, casting to numpy array\n",
    "test_raw_input = np.array(test.data)\n",
    "test_output = np.array(test.target)\n",
    "test_size = len(test_raw_input)\n",
    "\n",
    "# Logging useful information\n",
    "print(f'Dataset Train: {train_size} elements')\n",
    "print(f'Dataset Test: {test_size} elements')"
   ]
  },
  {
   "cell_type": "markdown",
   "metadata": {},
   "source": [
    "# 5. Explorando la base de datos\n",
    "\n",
    "## 5.1. Observando un correo electrónico de forma aleatoria\n",
    "Buscamos de forma aleatoria un elemento dentro de la base de datos de entrenamiento, con el objetivo de visualizar cómo suelen ser los correos electrónicos de noticias que se poseen, para tener una mejor comprensión de qué podemos llegar a encontrarnos dentro del vocabulario o el documento a analizar.\n",
    "\n",
    "### Observaciones\n",
    "Las observaciones realizadas dieron como conclusión que el encabezado (entre otras cosas) puede afectar al desarrollo del modelo, dado que el objetivo propuesto es clasificar un correo electrónico, propiamente dicho se analizaría el cuerpo del mismo, y por ende la información del encabezado sesga la decisión del clasificador ya que declara de una forma más evidente sobre qué tópico se trata.\n",
    "Si el modelo se va a emplear sobre el cuerpo del correo electrónico, su performance se verá reducida respecto de lo que se estime en este análisis si no removemos el sesgo del encabezado entre otras cosas.\n",
    "\n",
    "* El encabezado de todo mail nos informa quién lo envía, de qué organización y agrega otros campos de información\n",
    "* Los campos del encabezado tienen palabras que en el lenguaje no tienen un significado, como el mail de una persona\n",
    "* ¿Tiene sentido utilizar el encabezado en la clasificación?\n",
    "* ¿Aporta más información que costo computacional tener en cuenta de qué dirección de correo proviene el mail?\n",
    "* Si el formato del encabezado se replica siempre, ¿entonces no aporta información de clasificación por que no varía la distribución?\n",
    "* El formato del encabezado, ¿revela información clara del tipo de noticia? ¿produce sesgo?"
   ]
  },
  {
   "cell_type": "code",
   "execution_count": 4,
   "metadata": {},
   "outputs": [
    {
     "name": "stdout",
     "output_type": "stream",
     "text": [
      "ab616@Freenet.carleton.ca (Marc Dion) writes:\n",
      "\n",
      "\n",
      ">For a project of my own, I would like to build a Infra-Red Remote control\n",
      ">receiver (for regular VCRs and TVs remotes).  Does anybody have any info\n",
      ">or tips on how to build such receiver ?\n",
      ">In particular,\n",
      ">a) which photo detector should I use (which wavelength do remotes use) ?\n",
      ">b) which ICs or circuit should I use ?\n",
      ">c) any suggestions for circuit layout\n",
      "\n",
      ">Please reply to this group (if you wish), but as well via e-mail (my\n",
      ">link to usenet is not always available).\n",
      "\n",
      "\tI'd like to see this info as well.  As for wavelength, I think\n",
      "you're primarily going to find two - 880 nM +/- a bit, and/or 950 nM\n",
      "+/- a bit.  Usually it is about 10 nM either way.  The two most common\n",
      "I have seen were 880 and 950 but I have also heard of 890 and 940.\n",
      "I'm not sure that the 10 nM one way or another will make a great deal of\n",
      "difference.\n",
      "\n",
      "\tAnother suggestion - find a brand of TV that uses an IR remote,\n",
      "and go look at the SAMS photofact for it.  You can often find some very\n",
      "detailed schematics and parts list for not only the receiver but the\n",
      "transmitter as well, including carrier freq. specs. and tone decoding\n",
      "specs. if the system uses that.\n"
     ]
    }
   ],
   "source": [
    "random_data = np.random.choice(train_raw_input)\n",
    "print(random_data)"
   ]
  },
  {
   "cell_type": "markdown",
   "metadata": {},
   "source": [
    "## 5.2. Categorías\n",
    "Dentro de la base de datos, los correos electrónicos que podemos encontrar pueden tratar de diferentes tópicos, y estos tópicos son las categorías de la variable aleatoria definida $X$."
   ]
  },
  {
   "cell_type": "code",
   "execution_count": 5,
   "metadata": {
    "colab": {
     "base_uri": "https://localhost:8080/"
    },
    "executionInfo": {
     "elapsed": 758,
     "status": "ok",
     "timestamp": 1616464712787,
     "user": {
      "displayName": "JOAQUÍN OSCAR GAYTAN",
      "photoUrl": "",
      "userId": "15176508666834216481"
     },
     "user_tz": 180
    },
    "id": "9Xh-PLNI7WsW",
    "outputId": "1665e32b-4e8b-491f-f4a2-d4115f937cc6"
   },
   "outputs": [
    {
     "name": "stdout",
     "output_type": "stream",
     "text": [
      "['alt.atheism',\n",
      " 'comp.graphics',\n",
      " 'comp.os.ms-windows.misc',\n",
      " 'comp.sys.ibm.pc.hardware',\n",
      " 'comp.sys.mac.hardware',\n",
      " 'comp.windows.x',\n",
      " 'misc.forsale',\n",
      " 'rec.autos',\n",
      " 'rec.motorcycles',\n",
      " 'rec.sport.baseball',\n",
      " 'rec.sport.hockey',\n",
      " 'sci.crypt',\n",
      " 'sci.electronics',\n",
      " 'sci.med',\n",
      " 'sci.space',\n",
      " 'soc.religion.christian',\n",
      " 'talk.politics.guns',\n",
      " 'talk.politics.mideast',\n",
      " 'talk.politics.misc',\n",
      " 'talk.religion.misc']\n"
     ]
    }
   ],
   "source": [
    "import pprint\n",
    "\n",
    "# Show the news categories\n",
    "pprint.pprint(categories)"
   ]
  },
  {
   "cell_type": "markdown",
   "metadata": {},
   "source": [
    "## 5.3. Distribución de la frecuencia de documentos\n",
    "Sea una variable aleatoria que mide la frecuencia con la cual aparece una palabra en los documentos, conocida normalmente como **document frequency** o **df**, se busca estimar su distribución a partir del conjunto de entrenamiento para tener información a priori del rango en que normalmente se encuentra dicha variable."
   ]
  },
  {
   "cell_type": "code",
   "execution_count": 15,
   "metadata": {},
   "outputs": [
    {
     "name": "stderr",
     "output_type": "stream",
     "text": [
      "[nltk_data] Downloading package punkt to C:\\Users\\Lucas A.\n",
      "[nltk_data]     Kammann\\AppData\\Roaming\\nltk_data...\n",
      "[nltk_data]   Package punkt is already up-to-date!\n",
      "[nltk_data] Downloading package stopwords to C:\\Users\\Lucas A.\n",
      "[nltk_data]     Kammann\\AppData\\Roaming\\nltk_data...\n",
      "[nltk_data]   Unzipping corpora\\stopwords.zip.\n"
     ]
    },
    {
     "data": {
      "text/plain": [
       "True"
      ]
     },
     "execution_count": 15,
     "metadata": {},
     "output_type": "execute_result"
    }
   ],
   "source": [
    "import nltk\n",
    "nltk.download('punkt')\n",
    "nltk.download('stopwords')"
   ]
  },
  {
   "cell_type": "code",
   "execution_count": 18,
   "metadata": {},
   "outputs": [],
   "source": [
    "from nltk import word_tokenize\n",
    "from nltk.corpus import stopwords\n",
    "from nltk.stem.porter import PorterStemmer\n",
    "from nltk.stem.lancaster import LancasterStemmer\n",
    "\n",
    "stemmer = PorterStemmer()\n",
    "stop_set = set(stopwords.words('english'))\n",
    "\n",
    "def tokenize(text):\n",
    "    # Tokenization algorithm\n",
    "    tokens = word_tokenize(text)\n",
    "    \n",
    "    # Stemming, filtering non alphanumeric and using the stopwords\n",
    "    return [stemmer.stem(token) for token in tokens if token.isalpha() and token not in stop_set]"
   ]
  },
  {
   "cell_type": "code",
   "execution_count": 19,
   "metadata": {},
   "outputs": [],
   "source": [
    "from sklearn.feature_extraction.text import CountVectorizer\n",
    "\n",
    "# Processing data from the train set using CountVectorizer to tokenize the \n",
    "# words and count the occurences along the documents\n",
    "df_vectorizer = CountVectorizer(tokenizer=tokenize)\n",
    "df_matrix = df_vectorizer.fit_transform(train_raw_input)"
   ]
  },
  {
   "cell_type": "code",
   "execution_count": 87,
   "metadata": {},
   "outputs": [],
   "source": [
    "# Accumulate occurences or absolute document frequencies\n",
    "df_absolute = np.array(df_matrix.todense().sum(axis=0))[0]"
   ]
  },
  {
   "cell_type": "code",
   "execution_count": 89,
   "metadata": {},
   "outputs": [
    {
     "data": {
      "image/png": "[encoded data removed]",
      "text/plain": [
       "<Figure size 1296x504 with 1 Axes>"
      ]
     },
     "metadata": {
      "needs_background": "light"
     },
     "output_type": "display_data"
    }
   ],
   "source": [
    "import matplotlib.pyplot as plt\n",
    "\n",
    "# Parameters\n",
    "from_absolute_df = 0\n",
    "to_absolute_df = 1000\n",
    "\n",
    "# Compute the histogram\n",
    "fig, ax = plt.subplots(1, figsize=(18,7))\n",
    "_ = ax.hist(df_absolute, bins=np.arange(from_absolute_df, to_absolute_df)-0.5, range=(from_absolute_df, to_absolute_df))\n",
    "ax.set_xticks(np.arange(from_absolute_df, to_absolute_df, 50))\n",
    "ax.set_title('Distribucion de frecuencia absoluta de palabras por documento')\n",
    "ax.set_yscale('log')\n",
    "plt.show()"
   ]
  },
  {
   "cell_type": "markdown",
   "metadata": {},
   "source": [
    "# 6. Preprocesamiento\n",
    "\n",
    "Para trabajar con multinomial naive bayes es necesario poder modelar las características de entrada de forma numérica, para ello se definió una variable aleatoria categórica que corresponde a las palabras. Así, asumiendo que el orden de las palabras dentro de un texto no importa, y considerando que las palabras son independientes e igualmente distribuídas, para encontrar dicha distribución es necesario realizar un mapeo de las palabras con los valores numéricos de una variable y luego estimar dicha distribución.\n",
    "\n",
    "### Fuentes sobre preprocesamiento\n",
    "* https://www.datacamp.com/community/tutorials/stemming-lemmatization-python\n",
    "* https://kavita-ganesan.com/what-are-stop-words/#.YGPaMT-vHIU\n",
    "* https://blog.bitext.com/what-is-the-difference-between-stemming-and-lemmatization/"
   ]
  },
  {
   "cell_type": "markdown",
   "metadata": {},
   "source": [
    "## 6.1 Stop Words\n",
    "Las **stop words** son aquellas palabras que por sí sólas no aportan información esencial, como suelen ser los artículos, preposiciones, entre otros. Se puede emplear, como técnica de preprocesamiento de textos, un filtrado en el cual se remueven todas aquellas stop words que aparecen en el mismo, de esta forma se reduce el vocabulario y se enfocan las palabras que más información aportan."
   ]
  },
  {
   "cell_type": "markdown",
   "metadata": {},
   "source": [
    "## 6.2 Stemming\n",
    "El algoritmo de **stemming** busca reemplazar las palabras por su raíz, de esta forma, todas aquellas variantes que pueden aparecer dentro de un lenguaje se mapean a una única palabra. Así, se reduce el vocabulario sin una gran pérdida de información."
   ]
  },
  {
   "cell_type": "markdown",
   "metadata": {},
   "source": [
    "## 6.3 Tokenización\n",
    "El proceso de tokenización implica tomar el texto e identificar todas las palabras distintas que se encuentran en el mismo y luego contar la cantidad de ocurrencias que tienen, es decir, cuál es la frecuencia absoluta de las palabras dentro de un texto."
   ]
  },
  {
   "cell_type": "code",
   "execution_count": 43,
   "metadata": {
    "id": "VTY7lCEeMQWC"
   },
   "outputs": [
    {
     "name": "stdout",
     "output_type": "stream",
     "text": [
      "Wall time: 1min 15s\n"
     ]
    }
   ],
   "source": [
    "%%time\n",
    "\n",
    "from sklearn.feature_extraction.text import CountVectorizer, TfidfVectorizer\n",
    "\n",
    "# Importing and testing the CountVectorizer class of sklearn\n",
    "vectorizer = TfidfVectorizer(tokenizer=tokenize, min_df=2)\n",
    "train_input = vectorizer.fit_transform(train_raw_input)"
   ]
  },
  {
   "cell_type": "code",
   "execution_count": 44,
   "metadata": {},
   "outputs": [
    {
     "data": {
      "text/html": [
       "<div>\n",
       "<style scoped>\n",
       "    .dataframe tbody tr th:only-of-type {\n",
       "        vertical-align: middle;\n",
       "    }\n",
       "\n",
       "    .dataframe tbody tr th {\n",
       "        vertical-align: top;\n",
       "    }\n",
       "\n",
       "    .dataframe thead th {\n",
       "        text-align: right;\n",
       "    }\n",
       "</style>\n",
       "<table border=\"1\" class=\"dataframe\">\n",
       "  <thead>\n",
       "    <tr style=\"text-align: right;\">\n",
       "      <th></th>\n",
       "      <th>aa</th>\n",
       "      <th>aaa</th>\n",
       "      <th>aaah</th>\n",
       "      <th>aaf</th>\n",
       "      <th>aam</th>\n",
       "      <th>aamir</th>\n",
       "      <th>aammmaaaazzzzzziinnnnggggg</th>\n",
       "      <th>aargh</th>\n",
       "      <th>aaron</th>\n",
       "      <th>ab</th>\n",
       "      <th>...</th>\n",
       "      <th>zvm</th>\n",
       "      <th>zw</th>\n",
       "      <th>zwart</th>\n",
       "      <th>zx</th>\n",
       "      <th>zy</th>\n",
       "      <th>zyeh</th>\n",
       "      <th>zyra</th>\n",
       "      <th>zyxel</th>\n",
       "      <th>zz</th>\n",
       "      <th>þ</th>\n",
       "    </tr>\n",
       "  </thead>\n",
       "  <tbody>\n",
       "    <tr>\n",
       "      <th>0</th>\n",
       "      <td>0.0</td>\n",
       "      <td>0.0</td>\n",
       "      <td>0.0</td>\n",
       "      <td>0.0</td>\n",
       "      <td>0.0</td>\n",
       "      <td>0.0</td>\n",
       "      <td>0.0</td>\n",
       "      <td>0.0</td>\n",
       "      <td>0.0</td>\n",
       "      <td>0.0</td>\n",
       "      <td>...</td>\n",
       "      <td>0.0</td>\n",
       "      <td>0.0</td>\n",
       "      <td>0.0</td>\n",
       "      <td>0.0</td>\n",
       "      <td>0.0</td>\n",
       "      <td>0.0</td>\n",
       "      <td>0.0</td>\n",
       "      <td>0.0</td>\n",
       "      <td>0.0</td>\n",
       "      <td>0.0</td>\n",
       "    </tr>\n",
       "    <tr>\n",
       "      <th>1</th>\n",
       "      <td>0.0</td>\n",
       "      <td>0.0</td>\n",
       "      <td>0.0</td>\n",
       "      <td>0.0</td>\n",
       "      <td>0.0</td>\n",
       "      <td>0.0</td>\n",
       "      <td>0.0</td>\n",
       "      <td>0.0</td>\n",
       "      <td>0.0</td>\n",
       "      <td>0.0</td>\n",
       "      <td>...</td>\n",
       "      <td>0.0</td>\n",
       "      <td>0.0</td>\n",
       "      <td>0.0</td>\n",
       "      <td>0.0</td>\n",
       "      <td>0.0</td>\n",
       "      <td>0.0</td>\n",
       "      <td>0.0</td>\n",
       "      <td>0.0</td>\n",
       "      <td>0.0</td>\n",
       "      <td>0.0</td>\n",
       "    </tr>\n",
       "    <tr>\n",
       "      <th>2</th>\n",
       "      <td>0.0</td>\n",
       "      <td>0.0</td>\n",
       "      <td>0.0</td>\n",
       "      <td>0.0</td>\n",
       "      <td>0.0</td>\n",
       "      <td>0.0</td>\n",
       "      <td>0.0</td>\n",
       "      <td>0.0</td>\n",
       "      <td>0.0</td>\n",
       "      <td>0.0</td>\n",
       "      <td>...</td>\n",
       "      <td>0.0</td>\n",
       "      <td>0.0</td>\n",
       "      <td>0.0</td>\n",
       "      <td>0.0</td>\n",
       "      <td>0.0</td>\n",
       "      <td>0.0</td>\n",
       "      <td>0.0</td>\n",
       "      <td>0.0</td>\n",
       "      <td>0.0</td>\n",
       "      <td>0.0</td>\n",
       "    </tr>\n",
       "    <tr>\n",
       "      <th>3</th>\n",
       "      <td>0.0</td>\n",
       "      <td>0.0</td>\n",
       "      <td>0.0</td>\n",
       "      <td>0.0</td>\n",
       "      <td>0.0</td>\n",
       "      <td>0.0</td>\n",
       "      <td>0.0</td>\n",
       "      <td>0.0</td>\n",
       "      <td>0.0</td>\n",
       "      <td>0.0</td>\n",
       "      <td>...</td>\n",
       "      <td>0.0</td>\n",
       "      <td>0.0</td>\n",
       "      <td>0.0</td>\n",
       "      <td>0.0</td>\n",
       "      <td>0.0</td>\n",
       "      <td>0.0</td>\n",
       "      <td>0.0</td>\n",
       "      <td>0.0</td>\n",
       "      <td>0.0</td>\n",
       "      <td>0.0</td>\n",
       "    </tr>\n",
       "    <tr>\n",
       "      <th>4</th>\n",
       "      <td>0.0</td>\n",
       "      <td>0.0</td>\n",
       "      <td>0.0</td>\n",
       "      <td>0.0</td>\n",
       "      <td>0.0</td>\n",
       "      <td>0.0</td>\n",
       "      <td>0.0</td>\n",
       "      <td>0.0</td>\n",
       "      <td>0.0</td>\n",
       "      <td>0.0</td>\n",
       "      <td>...</td>\n",
       "      <td>0.0</td>\n",
       "      <td>0.0</td>\n",
       "      <td>0.0</td>\n",
       "      <td>0.0</td>\n",
       "      <td>0.0</td>\n",
       "      <td>0.0</td>\n",
       "      <td>0.0</td>\n",
       "      <td>0.0</td>\n",
       "      <td>0.0</td>\n",
       "      <td>0.0</td>\n",
       "    </tr>\n",
       "    <tr>\n",
       "      <th>...</th>\n",
       "      <td>...</td>\n",
       "      <td>...</td>\n",
       "      <td>...</td>\n",
       "      <td>...</td>\n",
       "      <td>...</td>\n",
       "      <td>...</td>\n",
       "      <td>...</td>\n",
       "      <td>...</td>\n",
       "      <td>...</td>\n",
       "      <td>...</td>\n",
       "      <td>...</td>\n",
       "      <td>...</td>\n",
       "      <td>...</td>\n",
       "      <td>...</td>\n",
       "      <td>...</td>\n",
       "      <td>...</td>\n",
       "      <td>...</td>\n",
       "      <td>...</td>\n",
       "      <td>...</td>\n",
       "      <td>...</td>\n",
       "      <td>...</td>\n",
       "    </tr>\n",
       "    <tr>\n",
       "      <th>11309</th>\n",
       "      <td>0.0</td>\n",
       "      <td>0.0</td>\n",
       "      <td>0.0</td>\n",
       "      <td>0.0</td>\n",
       "      <td>0.0</td>\n",
       "      <td>0.0</td>\n",
       "      <td>0.0</td>\n",
       "      <td>0.0</td>\n",
       "      <td>0.0</td>\n",
       "      <td>0.0</td>\n",
       "      <td>...</td>\n",
       "      <td>0.0</td>\n",
       "      <td>0.0</td>\n",
       "      <td>0.0</td>\n",
       "      <td>0.0</td>\n",
       "      <td>0.0</td>\n",
       "      <td>0.0</td>\n",
       "      <td>0.0</td>\n",
       "      <td>0.0</td>\n",
       "      <td>0.0</td>\n",
       "      <td>0.0</td>\n",
       "    </tr>\n",
       "    <tr>\n",
       "      <th>11310</th>\n",
       "      <td>0.0</td>\n",
       "      <td>0.0</td>\n",
       "      <td>0.0</td>\n",
       "      <td>0.0</td>\n",
       "      <td>0.0</td>\n",
       "      <td>0.0</td>\n",
       "      <td>0.0</td>\n",
       "      <td>0.0</td>\n",
       "      <td>0.0</td>\n",
       "      <td>0.0</td>\n",
       "      <td>...</td>\n",
       "      <td>0.0</td>\n",
       "      <td>0.0</td>\n",
       "      <td>0.0</td>\n",
       "      <td>0.0</td>\n",
       "      <td>0.0</td>\n",
       "      <td>0.0</td>\n",
       "      <td>0.0</td>\n",
       "      <td>0.0</td>\n",
       "      <td>0.0</td>\n",
       "      <td>0.0</td>\n",
       "    </tr>\n",
       "    <tr>\n",
       "      <th>11311</th>\n",
       "      <td>0.0</td>\n",
       "      <td>0.0</td>\n",
       "      <td>0.0</td>\n",
       "      <td>0.0</td>\n",
       "      <td>0.0</td>\n",
       "      <td>0.0</td>\n",
       "      <td>0.0</td>\n",
       "      <td>0.0</td>\n",
       "      <td>0.0</td>\n",
       "      <td>0.0</td>\n",
       "      <td>...</td>\n",
       "      <td>0.0</td>\n",
       "      <td>0.0</td>\n",
       "      <td>0.0</td>\n",
       "      <td>0.0</td>\n",
       "      <td>0.0</td>\n",
       "      <td>0.0</td>\n",
       "      <td>0.0</td>\n",
       "      <td>0.0</td>\n",
       "      <td>0.0</td>\n",
       "      <td>0.0</td>\n",
       "    </tr>\n",
       "    <tr>\n",
       "      <th>11312</th>\n",
       "      <td>0.0</td>\n",
       "      <td>0.0</td>\n",
       "      <td>0.0</td>\n",
       "      <td>0.0</td>\n",
       "      <td>0.0</td>\n",
       "      <td>0.0</td>\n",
       "      <td>0.0</td>\n",
       "      <td>0.0</td>\n",
       "      <td>0.0</td>\n",
       "      <td>0.0</td>\n",
       "      <td>...</td>\n",
       "      <td>0.0</td>\n",
       "      <td>0.0</td>\n",
       "      <td>0.0</td>\n",
       "      <td>0.0</td>\n",
       "      <td>0.0</td>\n",
       "      <td>0.0</td>\n",
       "      <td>0.0</td>\n",
       "      <td>0.0</td>\n",
       "      <td>0.0</td>\n",
       "      <td>0.0</td>\n",
       "    </tr>\n",
       "    <tr>\n",
       "      <th>11313</th>\n",
       "      <td>0.0</td>\n",
       "      <td>0.0</td>\n",
       "      <td>0.0</td>\n",
       "      <td>0.0</td>\n",
       "      <td>0.0</td>\n",
       "      <td>0.0</td>\n",
       "      <td>0.0</td>\n",
       "      <td>0.0</td>\n",
       "      <td>0.0</td>\n",
       "      <td>0.0</td>\n",
       "      <td>...</td>\n",
       "      <td>0.0</td>\n",
       "      <td>0.0</td>\n",
       "      <td>0.0</td>\n",
       "      <td>0.0</td>\n",
       "      <td>0.0</td>\n",
       "      <td>0.0</td>\n",
       "      <td>0.0</td>\n",
       "      <td>0.0</td>\n",
       "      <td>0.0</td>\n",
       "      <td>0.0</td>\n",
       "    </tr>\n",
       "  </tbody>\n",
       "</table>\n",
       "<p>11314 rows × 25407 columns</p>\n",
       "</div>"
      ],
      "text/plain": [
       "        aa  aaa  aaah  aaf  aam  aamir  aammmaaaazzzzzziinnnnggggg  aargh  \\\n",
       "0      0.0  0.0   0.0  0.0  0.0    0.0                         0.0    0.0   \n",
       "1      0.0  0.0   0.0  0.0  0.0    0.0                         0.0    0.0   \n",
       "2      0.0  0.0   0.0  0.0  0.0    0.0                         0.0    0.0   \n",
       "3      0.0  0.0   0.0  0.0  0.0    0.0                         0.0    0.0   \n",
       "4      0.0  0.0   0.0  0.0  0.0    0.0                         0.0    0.0   \n",
       "...    ...  ...   ...  ...  ...    ...                         ...    ...   \n",
       "11309  0.0  0.0   0.0  0.0  0.0    0.0                         0.0    0.0   \n",
       "11310  0.0  0.0   0.0  0.0  0.0    0.0                         0.0    0.0   \n",
       "11311  0.0  0.0   0.0  0.0  0.0    0.0                         0.0    0.0   \n",
       "11312  0.0  0.0   0.0  0.0  0.0    0.0                         0.0    0.0   \n",
       "11313  0.0  0.0   0.0  0.0  0.0    0.0                         0.0    0.0   \n",
       "\n",
       "       aaron   ab  ...  zvm   zw  zwart   zx   zy  zyeh  zyra  zyxel   zz    þ  \n",
       "0        0.0  0.0  ...  0.0  0.0    0.0  0.0  0.0   0.0   0.0    0.0  0.0  0.0  \n",
       "1        0.0  0.0  ...  0.0  0.0    0.0  0.0  0.0   0.0   0.0    0.0  0.0  0.0  \n",
       "2        0.0  0.0  ...  0.0  0.0    0.0  0.0  0.0   0.0   0.0    0.0  0.0  0.0  \n",
       "3        0.0  0.0  ...  0.0  0.0    0.0  0.0  0.0   0.0   0.0    0.0  0.0  0.0  \n",
       "4        0.0  0.0  ...  0.0  0.0    0.0  0.0  0.0   0.0   0.0    0.0  0.0  0.0  \n",
       "...      ...  ...  ...  ...  ...    ...  ...  ...   ...   ...    ...  ...  ...  \n",
       "11309    0.0  0.0  ...  0.0  0.0    0.0  0.0  0.0   0.0   0.0    0.0  0.0  0.0  \n",
       "11310    0.0  0.0  ...  0.0  0.0    0.0  0.0  0.0   0.0   0.0    0.0  0.0  0.0  \n",
       "11311    0.0  0.0  ...  0.0  0.0    0.0  0.0  0.0   0.0   0.0    0.0  0.0  0.0  \n",
       "11312    0.0  0.0  ...  0.0  0.0    0.0  0.0  0.0   0.0   0.0    0.0  0.0  0.0  \n",
       "11313    0.0  0.0  ...  0.0  0.0    0.0  0.0  0.0   0.0   0.0    0.0  0.0  0.0  \n",
       "\n",
       "[11314 rows x 25407 columns]"
      ]
     },
     "execution_count": 44,
     "metadata": {},
     "output_type": "execute_result"
    }
   ],
   "source": [
    "import pandas as pd\n",
    "pd.DataFrame(train_input.toarray(), columns=vectorizer.get_feature_names())"
   ]
  },
  {
   "cell_type": "code",
   "execution_count": 46,
   "metadata": {},
   "outputs": [
    {
     "name": "stdout",
     "output_type": "stream",
     "text": [
      "(11314, 25407)\n"
     ]
    }
   ],
   "source": [
    "print(train_input.shape)"
   ]
  },
  {
   "cell_type": "markdown",
   "metadata": {},
   "source": [
    "# 7. Estimación de probabilidades a priori\n",
    "Se computan las probabilidades a priori para las categorías, es decir, los tópicos. Se emplea una herramienta distinta a **matplotlib** para comparar el tiempo utilizada en el procesamiento. Se está estimando la siguiente función masa de probabilidad,\n",
    "$$P(X=x) ; x = 0, 1, ..., 19$$\n",
    "\n",
    "Para ello, se emplea como estimador la proporción de cada categoría dentro del conjunto de entrenamiento."
   ]
  },
  {
   "cell_type": "code",
   "execution_count": 47,
   "metadata": {},
   "outputs": [
    {
     "name": "stdout",
     "output_type": "stream",
     "text": [
      "Wall time: 1.99 ms\n"
     ]
    }
   ],
   "source": [
    "%%time\n",
    "\n",
    "# For each category, filter the amount of occurences in the training dataset\n",
    "# the compute the priori probability\n",
    "priori_distribution = np.zeros(len(categories))\n",
    "for index, category in enumerate(categories):\n",
    "    frequency = (train_output == index).sum()\n",
    "    priori_distribution[index] = frequency\n",
    "priori_distribution /= priori_distribution.sum()"
   ]
  },
  {
   "cell_type": "markdown",
   "metadata": {},
   "source": [
    "# 8. Estimación de distribución de probabilidad condicional\n",
    "Para la estimación, se cuentan las apariciones de cada palabra dado el tópico de las noticias y luego se normaliza esa frecuencia absoluta para obtener la frecuencia relativa.\n",
    "\n",
    "\n",
    "\n",
    "## 8.1. Overfitting\n",
    "El **overfitting** es un problema que ocurre cuando el modelo utilizado no es capaz de predecir correctamente frente a datos nuevos que no se encontraban en el conjunto de entrenamiento, lo cual le quita capacidad de generalizar, un aspecto fundamental en la resolución de problemas de inteligencia artificial. En este caso, para resolver el problema descripto se propone emplear un clasificador naive bayes multinomial, que puede traer apareado un problema de overfitting que se ilustra a continuación.\n",
    "\n",
    "Sea un texto compuesto por $N$ palabras, para clasificarlo se busca la máxima probabilidad a posteriori, es decir aquella categoría $y$ para la cual la probabilidad de que ese texto pertenezca sea máxima a comparación de otras categorías,\n",
    "\n",
    "$$P(y|x_1,...,x_N)=\\frac{P(x_1,...,x_N|y) \\cdot P(y)}{P(x_1,...,x_N)}$$\n",
    "\n",
    "Aplicando naive bayes, se asumen que las palabras son independientes y luego se añade que sean idénticamente distruidas según el tipo de problema que nos proponemos resolver, entonces\n",
    "\n",
    "$$P(y|x_1,...,x_N)=\\frac{P(x_1|y) \\cdot ... \\cdot P(x_N|y) \\cdot P(y)}{P(x_1,...,x_N)}$$\n",
    "\n",
    "En función de cómo se estima la distribución de probabilidades, una palabra $x_1$ que no apareció en una categoría durante el entrenamiento fue ponderada con una probabilidad nula, lo cual hace que todo el producto se anule, y si la probabilidad fuera muy grande, por culpa de esta única palabra toda la probabilidad a posteriori se anula llevando a una predicción errónea. Para solucionar esto, se propone emplear el método de Laplacian Smoothing.\n",
    "\n",
    "## 8.2. Laplacian Smoothing\n",
    "El método de Laplacian Smoothing consiste en agregar un cierto conocimiento a priori dentro de la distribución estimada, de forma tal que cuando no se posee demasiada evidencia durante el entrenamiento, la información aportada por tal conocimiento a priori nos permite evitar caer en el escenario de las probabilidades nulas.\n",
    "\n",
    "El procedimiento consiste en fijar el valor de un **hiperparámetro** $\\alpha$, que se suma como cantidad de ocurrencias a cada palabra durante el análisis de frecuencias absolutas en la etapa de estimación. Así, se introduce un conocimiento a priori de cantidad de ocurrencias igual para todas las palabras, es decir, estamos diciendo que sin información supondríamos que la distribución es uniforme. Por lo general, la magnitud de este parámetro define qué tanta información de entrenamiento se necesita para que deje de valer dicho conocimiento a priori.\n",
    "\n",
    "### Discusiones sobre Laplacian Smoothing\n",
    "* https://towardsdatascience.com/laplace-smoothing-in-na%C3%AFve-bayes-algorithm-9c237a8bdece\n",
    "* https://medium.com/syncedreview/applying-multinomial-naive-bayes-to-nlp-problems-a-practical-explanation-4f5271768ebf\n",
    "* https://stats.stackexchange.com/questions/108797/in-naive-bayes-why-bother-with-laplace-smoothing-when-we-have-unknown-words-in\n",
    "* https://courses.cs.washington.edu/courses/cse446/20wi/Section7/naive-bayes.pdf"
   ]
  },
  {
   "cell_type": "code",
   "execution_count": 48,
   "metadata": {
    "id": "zbu8XISsgck7"
   },
   "outputs": [
    {
     "name": "stdout",
     "output_type": "stream",
     "text": [
      "Wall time: 182 ms\n"
     ]
    }
   ],
   "source": [
    "%%time\n",
    "\n",
    "# Separate the matrix of documents (mails) and occurrences of words for each category\n",
    "# and compute the normalized distribution to get the likelihood for each category\n",
    "alpha = 0.01\n",
    "word_distribution = np.zeros((len(categories), len(vectorizer.vocabulary_.keys())), dtype=np.longdouble)\n",
    "for index, category in enumerate(categories):\n",
    "  distribution = (train_input[train_output == index][:]).sum(axis=0) + alpha\n",
    "  word_distribution[index,:] = distribution / distribution.sum()"
   ]
  },
  {
   "cell_type": "code",
   "execution_count": 49,
   "metadata": {},
   "outputs": [
    {
     "name": "stdout",
     "output_type": "stream",
     "text": [
      "The word distribution is conditioned to 20 topics and contains 25407 words\n"
     ]
    }
   ],
   "source": [
    "print(f'The word distribution is conditioned to {word_distribution.shape[0]} topics and contains {word_distribution.shape[1]} words')"
   ]
  },
  {
   "cell_type": "markdown",
   "metadata": {},
   "source": [
    "# 9. Distribución de clases\n",
    "Se calcula y grafica el histograma de los tópicos de las noticias o correos electrónicos utilizando la librería **matplotlib**. Del resultado obtenido, se pueden hacer algunos comentarios,\n",
    "* A simple vista, la distribución es relativamente cercana a una distribución uniforme\n",
    "* El clasificador trivial tendría una exactitud de aproximadamente 0,05"
   ]
  },
  {
   "cell_type": "code",
   "execution_count": 50,
   "metadata": {},
   "outputs": [
    {
     "data": {
      "image/png": "[encoded data removed]",
      "text/plain": [
       "<Figure size 1296x360 with 1 Axes>"
      ]
     },
     "metadata": {
      "needs_background": "light"
     },
     "output_type": "display_data"
    }
   ],
   "source": [
    "import matplotlib.pyplot as plt\n",
    "import matplotlib.ticker as mticker\n",
    "\n",
    "# Histogram for the categories in the training set\n",
    "fig, ax = plt.subplots(1, figsize=(18, 5))\n",
    "ax.hist(train_output, bins=np.arange(len(categories))-0.5, rwidth=0.5, density=True)\n",
    "ax.set_xticks(np.arange(0, 20, 1))\n",
    "ax.set_xticklabels(categories, rotation=45, rotation_mode=\"anchor\", ha=\"right\")\n",
    "\n",
    "plt.show()"
   ]
  },
  {
   "cell_type": "markdown",
   "metadata": {},
   "source": [
    "# 10. Distribucion de palabras por tópico\n",
    "Restringimos la distribución a un rango de las palabras para evitar tener un tiempo largo de ejecución, ya que de todas formas es una representación gráfica para visualizar las diferencias entre distribuciones."
   ]
  },
  {
   "cell_type": "code",
   "execution_count": 53,
   "metadata": {},
   "outputs": [
    {
     "name": "stdout",
     "output_type": "stream",
     "text": [
      "Distribution from word 19306 to word 19406 in the vocabulary\n"
     ]
    },
    {
     "data": {
      "image/png": "[encoded data removed]",
      "text/plain": [
       "<Figure size 1296x5040 with 20 Axes>"
      ]
     },
     "metadata": {
      "needs_background": "light"
     },
     "output_type": "display_data"
    }
   ],
   "source": [
    "# Parameters of the reduced data set\n",
    "qty_word = 100\n",
    "min_word_index = np.random.randint(0, len(vectorizer.get_feature_names()))\n",
    "max_word_index = min_word_index + qty_word\n",
    "\n",
    "# Logging...\n",
    "print(f'Distribution from word {min_word_index} to word {max_word_index} in the vocabulary')\n",
    "\n",
    "# Bar plot with the conditioned distribution for each topic\n",
    "fig, ax = plt.subplots(len(categories), figsize=(18, 70))\n",
    "for index, category in enumerate(categories):\n",
    "    ax[index].bar(np.arange(min_word_index, max_word_index), word_distribution[index,min_word_index:max_word_index])\n",
    "    ax[index].set_title(category)\n",
    "    ax[index].tick_params(labelbottom=False)\n",
    "plt.show()"
   ]
  },
  {
   "cell_type": "markdown",
   "metadata": {},
   "source": [
    "# 11. Clasificación por máximo a posteriori\n",
    "Como ya se explicó anteriormente, el esquema de clasificación consiste en buscar el máximo a posteriori. Para ello, se busca calcular\n",
    "\n",
    "$$P(y|x_1,...,x_n) \\approx \\left[ \\prod_{i=1}^{n} P(x_i|y) \\right] \\cdot P(y)$$\n",
    "\n",
    "En este caso, por cada palabra que aparezca, multiplicamos por su probabilidad condicionada tantas veces como aparezca durante la productoria. Esto implica, que podríamos modificar el orden de la operación iterando sobre las palabras del vocabulario,\n",
    "\n",
    "$$P(y|x_1,...,x_n) \\approx \\left[ \\prod_{i=1}^{m} P(v_i|y)^{\\# v_i} \\right] \\cdot P(y)$$\n",
    "\n",
    "Es decir, se hace la productoria sobre las palabras del vocabulario $v_i$, y cada una de ellas se encuentra elevada a la cantidad de veces que aparece esa palabra dentro del texto, es decir, $\\# v_i$.\n",
    "\n",
    "Entonces, en la práctica se tiene,\n",
    "* Una matriz que contiene para cada tópico (filas) las probabilidades de cada palabra (columnas), es decir con una dimensión de k x m.\n",
    "* Un vector con las probabilidades a priori, es decir de dimensión k x 1. \n",
    "* Un vector con la cantidad de ocurrencias de cada palabra de un documento, es decir, de dimensión k x 1.\n",
    "\n",
    "Así, se eleve la matriz al vector de ocurrencias y luego se ejecuta el producto punto con el vector de probabilidades a priori. Finalmente, se obtiene con esto un vector con el valor numérico para comparar cada categoría.\n",
    "\n",
    "## 11.1 Problema numérico\n",
    "Si el preprocesamiento no se vuelve lo suficientemente estricto y no limita el vocabulario, la cantidad de palabras provoca que los valores numéricos obtenidos en la verosimilitud sean demasiado chicos y empiezan a darse errores numéricos por la precisión del punto flotante empleado por NumPy.\n",
    "\n",
    "Este problema se encontró comparando este modelo con el de log probabilidades, y se pudo observar que si se escala la distribución (no se la normaliza), entonces el problema numérico desaparece."
   ]
  },
  {
   "cell_type": "code",
   "execution_count": 54,
   "metadata": {},
   "outputs": [
    {
     "name": "stdout",
     "output_type": "stream",
     "text": [
      "Wall time: 183 ms\n"
     ]
    }
   ],
   "source": [
    "%%time\n",
    "\n",
    "# Taking a subset of the testing set, to avoid using the complete set\n",
    "# when the algorithm is too slow... remember this is not strictly the test\n",
    "# or validation of the model, we are doing only an analysis and it is not required\n",
    "# for us in this instance to use the complete set\n",
    "sub_test_input_size = 10\n",
    "sub_text_raw_input = test_raw_input[:sub_test_input_size]\n",
    "sub_test_output = test_output[:sub_test_input_size]\n",
    "sub_test_input = vectorizer.transform(sub_text_raw_input)\n",
    "\n",
    "# Computing predictions for each input\n",
    "predictions = np.zeros(sub_test_input.shape[0], dtype=int)\n",
    "for input_index in range(sub_test_input.shape[0]):\n",
    "    # Computing the posteriori probability\n",
    "    posteriori_unnormalized = ((word_distribution) ** sub_test_input.toarray()[input_index]).prod(axis=1) * priori_distribution\n",
    "\n",
    "    # Choosing the maximum posteriori probability as the prediction\n",
    "    predictions[input_index] = posteriori_unnormalized.argmax()"
   ]
  },
  {
   "cell_type": "code",
   "execution_count": 55,
   "metadata": {},
   "outputs": [
    {
     "name": "stdout",
     "output_type": "stream",
     "text": [
      "Accuracy obtained: 0.6\n"
     ]
    }
   ],
   "source": [
    "# Computing the accuracy of the model\n",
    "accuracy = (predictions == sub_test_output).sum() / sub_test_input_size\n",
    "print(f'Accuracy obtained: {accuracy}')"
   ]
  },
  {
   "cell_type": "markdown",
   "metadata": {},
   "source": [
    "# Clasificación utilizando log probabilidades\n",
    "\n",
    "Si consideramos que el denominador de la expresión del máximo a posteriori es un término invariante a las categorías, por lo cual lo removemos, y luego aplicamos el logaritmo natural, obtenemos una expresión de la siguiente forma,\n",
    "\n",
    "$$ln[P(y|x_1,...,x_N)] \\propto ln[P(x_1|y)] + ... + ln[P(x_n|y)] + ln[P(y)]$$\n",
    "\n",
    "Luego, si aplicamos esto mismo sobre la otra forma de ejecutar la probabilidad a posteriori, donde en vez de iterar sobre las palabras del texto se itera sobre las palabras del vocabulario, entonces esta misma operación queda,\n",
    "\n",
    "$$ln[P(y|x_1,...,x_N)] \\propto \\# v_1 \\cdot ln[P(v_1|y)] + ... + \\# v_n \\cdot ln[P(v_n|y)] + ln[P(y)]$$\n",
    "\n",
    "Entonces, matemáticamente se puede escribir como el producto punto entre un vector con las ocurrencias de las palabras en el texto y un vector con las log probabilidades de cada palabra, y finalmente sumarle el vector con las log probabilidades a priori.\n"
   ]
  },
  {
   "cell_type": "code",
   "execution_count": 56,
   "metadata": {},
   "outputs": [
    {
     "name": "stdout",
     "output_type": "stream",
     "text": [
      "Wall time: 55 s\n"
     ]
    }
   ],
   "source": [
    "%%time\n",
    "\n",
    "# Log probabilities\n",
    "log_priori = np.log(priori_distribution)\n",
    "log_prob = np.log(word_distribution)\n",
    "\n",
    "# Data, target and vectorizer\n",
    "sub_test_input_size = test_size\n",
    "sub_text_raw_input = test_raw_input[:sub_test_input_size]\n",
    "sub_test_output = test_output[:sub_test_input_size]\n",
    "sub_test_input = vectorizer.transform(sub_text_raw_input)"
   ]
  },
  {
   "cell_type": "code",
   "execution_count": 57,
   "metadata": {},
   "outputs": [
    {
     "name": "stdout",
     "output_type": "stream",
     "text": [
      "Wall time: 3.94 s\n"
     ]
    }
   ],
   "source": [
    "%%time\n",
    "\n",
    "# Computing the log posteriori probability\n",
    "log_posteriori = np.dot(log_prob, sub_test_input.todense().transpose()) + (log_priori.reshape(-1, 1) * np.ones(sub_test_input_size))"
   ]
  },
  {
   "cell_type": "code",
   "execution_count": 58,
   "metadata": {},
   "outputs": [
    {
     "name": "stdout",
     "output_type": "stream",
     "text": [
      "Wall time: 183 ms\n"
     ]
    }
   ],
   "source": [
    "%%time\n",
    "\n",
    "# Choosing the maximum log posteriori probability as the prediction\n",
    "predictions = np.zeros(sub_test_input.shape[0], dtype=int)\n",
    "for input_index in range(sub_test_input_size):\n",
    "    predictions[input_index] = log_posteriori[:,input_index].argmax()"
   ]
  },
  {
   "cell_type": "markdown",
   "metadata": {},
   "source": [
    "## Métricas\n",
    "\n",
    "### Fuentes sobre las métricas\n",
    "* Metrics for Multi-Class Classification: an Overview ; Margherita Grandini, Enrico Bagli, Giorgio Visani\n",
    "* https://www.iartificial.net/precision-recall-f1-accuracy-en-clasificacion/\n",
    "* https://www.ncbi.nlm.nih.gov/pmc/articles/PMC2636062/\n",
    "\n",
    "### Exactitud\n",
    "La exactitud se define como la relación entre el número de predicciones correctas y el número total de predicciones. Es decir, es la proporción de predicciones realizadas que fueron acertadas.\n",
    "\n",
    "$$Accuracy = \\frac{TP+TN}{TP+FP+TN+FN}$$\n",
    "\n",
    "En esta expresión, se usan abreviaciones para los siguientes términos,\n",
    "* TP, True Positive, aquellas predicciones positivas que verdaderamente fueron positivas\n",
    "* TN, True Negative, aquellas predicciones negativas que verdaderamente fueron negativas\n",
    "* FP, False Positive, aquellas predicciones positivas que en realidad eran negativas\n",
    "* FN, False Negative, aquellas predicciones negativas que en realidad eran positivasfrom sklearn import metrics\n",
    "\n",
    "\n",
    "Esta métrica no es apropiada si las clases están desbalanceadas. Se debe comparar siempre con la solución trivial, que es asumir que el resultado de todas las predicciones es la clase mayoritaria. Por otro lado, tampoco es correcto usar la exactitud cuando por ejemplo se busca minimizar el número de falsos negativos (es el caso del diagnóstico de enfermedades).\n"
   ]
  },
  {
   "cell_type": "code",
   "execution_count": 59,
   "metadata": {},
   "outputs": [],
   "source": [
    "from sklearn import metrics\n",
    "import pprint"
   ]
  },
  {
   "cell_type": "code",
   "execution_count": 60,
   "metadata": {},
   "outputs": [
    {
     "name": "stdout",
     "output_type": "stream",
     "text": [
      "Accuracy obtained: 0.7801380775358471\n"
     ]
    }
   ],
   "source": [
    "# Accuracy (Exactitud)\n",
    "accuracy = metrics.accuracy_score(sub_test_output, predictions)\n",
    "print(f'Accuracy obtained: {accuracy}')"
   ]
  },
  {
   "cell_type": "markdown",
   "metadata": {},
   "source": [
    "### Matriz de Confusión\n",
    "La matriz de confusión es una forma gráfica de observar los distintos resultados de la clasificación. Esta matriz será cuadrada, con un tamaño igual a la cantidad de categorías que se observan.\n",
    "\n",
    "\n",
    "<img src=\"../assets/confusion_matrix.png\" width=400 height=200>"
   ]
  },
  {
   "cell_type": "code",
   "execution_count": 61,
   "metadata": {},
   "outputs": [
    {
     "data": {
      "image/png": "[encoded data removed]",
      "text/plain": [
       "<Figure size 288x288 with 2 Axes>"
      ]
     },
     "metadata": {
      "needs_background": "light"
     },
     "output_type": "display_data"
    }
   ],
   "source": [
    "# Confusion Matrix\n",
    "cmatrix = metrics.confusion_matrix(sub_test_output, predictions)\n",
    "\n",
    "# Plotting\n",
    "plt.matshow(cmatrix)\n",
    "plt.colorbar()\n",
    "plt.title(\"Matriz de Confusión\")\n",
    "plt.show()"
   ]
  },
  {
   "cell_type": "markdown",
   "metadata": {},
   "source": [
    "### Precisión\n",
    "La precisión se define como la relación entre positivos verdaderos y la suma de todos los clasificados como positivo (es decir, se suman los verdaderos positivos con los falsos positivos). En otras palabras, esta métrica informa de cierto modo la calidad de una detección del modelo, ya que indica la proporción de positivos detectados que efectivamente fueron positivos.\n",
    "\n",
    "$$Precision = \\frac{TP}{TP+FP}$$\n"
   ]
  },
  {
   "cell_type": "code",
   "execution_count": 62,
   "metadata": {},
   "outputs": [
    {
     "name": "stdout",
     "output_type": "stream",
     "text": [
      "array([0.70666667, 0.68257757, 0.68870523, 0.63362069, 0.75979112,\n",
      "       0.82432432, 0.81904762, 0.85427136, 0.83412322, 0.97843666,\n",
      "       0.89671362, 0.82891566, 0.76676385, 0.8953168 , 0.83816425,\n",
      "       0.70445344, 0.63278008, 0.91061453, 0.68650794, 0.62222222])\n"
     ]
    }
   ],
   "source": [
    "# Precision\n",
    "precision = metrics.precision_score(sub_test_output, predictions, average=None)\n",
    "pprint.pprint(precision)"
   ]
  },
  {
   "cell_type": "markdown",
   "metadata": {},
   "source": [
    "### Sensibilidad\n",
    "La sensibilidad se define como la relación entre positivos verdaderos y los positivos reales. En otras palabras, esta métrica se puede pensar como la proporción de positivos reales que fueron detectados, es decir que informa la cantidad de detecciones que puede realizar el modelo.\n",
    "\n",
    "$$Recall = \\frac{TP}{TP+FN}$$\n"
   ]
  },
  {
   "cell_type": "code",
   "execution_count": 63,
   "metadata": {},
   "outputs": [
    {
     "name": "stdout",
     "output_type": "stream",
     "text": [
      "array([0.6645768 , 0.73521851, 0.63451777, 0.75      , 0.75584416,\n",
      "       0.7721519 , 0.66153846, 0.85858586, 0.88442211, 0.91435768,\n",
      "       0.95739348, 0.86868687, 0.6692112 , 0.82070707, 0.88071066,\n",
      "       0.87437186, 0.83791209, 0.86702128, 0.55806452, 0.44621514])\n",
      "0.7705753702091906\n"
     ]
    }
   ],
   "source": [
    "# Recall\n",
    "recall = metrics.recall_score(sub_test_output, predictions, average=None)\n",
    "pprint.pprint(recall)\n",
    "\n",
    "# Balanced Accuracy\n",
    "pprint.pprint(recall.mean())"
   ]
  },
  {
   "cell_type": "markdown",
   "metadata": {},
   "source": [
    "### F1 Score\n",
    "El F1 score es una métrica que permite vincular la precisión y la sensibilidad, de la siguiente forma.\n",
    "\n",
    "$$F1 = 2 \\cdot \\frac{Precision \\cdot Recall}{Precision + Recall}$$\n",
    "\n",
    "El valor F1 asigna la misma importancia a la precisión y la exhaustividad.\n"
   ]
  },
  {
   "cell_type": "code",
   "execution_count": 64,
   "metadata": {},
   "outputs": [
    {
     "name": "stdout",
     "output_type": "stream",
     "text": [
      "array([0.68497577, 0.70792079, 0.66050198, 0.68691589, 0.7578125 ,\n",
      "       0.79738562, 0.73191489, 0.85642317, 0.85853659, 0.9453125 ,\n",
      "       0.92606061, 0.84833539, 0.71467391, 0.85638999, 0.85891089,\n",
      "       0.78026906, 0.72104019, 0.88828338, 0.61565836, 0.51972158])\n",
      "0.7708521527407252\n"
     ]
    }
   ],
   "source": [
    "# F1 score\n",
    "f1 = metrics.f1_score(sub_test_output, predictions, average=None)\n",
    "pprint.pprint(f1)\n",
    "\n",
    "# Balanced average of the F1 score\n",
    "pprint.pprint(f1.mean())"
   ]
  },
  {
   "cell_type": "code",
   "execution_count": 65,
   "metadata": {},
   "outputs": [
    {
     "name": "stdout",
     "output_type": "stream",
     "text": [
      "              precision    recall  f1-score   support\n",
      "\n",
      "           0       0.71      0.66      0.68       319\n",
      "           1       0.68      0.74      0.71       389\n",
      "           2       0.69      0.63      0.66       394\n",
      "           3       0.63      0.75      0.69       392\n",
      "           4       0.76      0.76      0.76       385\n",
      "           5       0.82      0.77      0.80       395\n",
      "           6       0.82      0.66      0.73       390\n",
      "           7       0.85      0.86      0.86       396\n",
      "           8       0.83      0.88      0.86       398\n",
      "           9       0.98      0.91      0.95       397\n",
      "          10       0.90      0.96      0.93       399\n",
      "          11       0.83      0.87      0.85       396\n",
      "          12       0.77      0.67      0.71       393\n",
      "          13       0.90      0.82      0.86       396\n",
      "          14       0.84      0.88      0.86       394\n",
      "          15       0.70      0.87      0.78       398\n",
      "          16       0.63      0.84      0.72       364\n",
      "          17       0.91      0.87      0.89       376\n",
      "          18       0.69      0.56      0.62       310\n",
      "          19       0.62      0.45      0.52       251\n",
      "\n",
      "    accuracy                           0.78      7532\n",
      "   macro avg       0.78      0.77      0.77      7532\n",
      "weighted avg       0.78      0.78      0.78      7532\n",
      "\n"
     ]
    }
   ],
   "source": [
    "print(metrics.classification_report(sub_test_output, predictions))"
   ]
  }
 ],
 "metadata": {
  "colab": {
   "collapsed_sections": [],
   "name": "TP1-EJ1.ipynb",
   "provenance": []
  },
  "kernelspec": {
   "display_name": "Python 3",
   "language": "python",
   "name": "python3"
  },
  "language_info": {
   "codemirror_mode": {
    "name": "ipython",
    "version": 3
   },
   "file_extension": ".py",
   "mimetype": "text/x-python",
   "name": "python",
   "nbconvert_exporter": "python",
   "pygments_lexer": "ipython3",
   "version": "3.8.5"
  }
 },
 "nbformat": 4,
 "nbformat_minor": 4
}
