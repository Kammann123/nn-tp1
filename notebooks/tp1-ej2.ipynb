{
 "cells": [
  {
   "cell_type": "markdown",
   "id": "prescribed-stability",
   "metadata": {
    "tags": []
   },
   "source": [
    "# Redes Neuronales\n",
    "## Trabajo Práctico N° 1 - Ejercicio 2\n",
    "* Kammann, Lucas Agustín\n",
    "* Gaytan, Joaquín Oscar\n",
    "\n",
    "### Consultas y/o dudas\n",
    "* Es lógico glucosa = 0?\n",
    "* Estimar probabilidades de un valor determinado en VAC\n",
    "\n",
    "\n",
    "\n",
    "### To do\n",
    "* Agregar cantidad de ceros por variable\n",
    "* Detección y remoción de Outliers\n",
    "* Boxplots\n",
    "* Explicación probabilística del clasificador\n"
   ]
  },
  {
   "cell_type": "markdown",
   "id": "numerical-september",
   "metadata": {},
   "source": [
    "# Descripción del problema\n",
    "Se busca desarrollar un clasificador para poder predcir la aparición de diabetes en un individuo a partir de algunas de sus características biológicas. Dicha clasificación se realiza a partir del Prima Indians Diabetes Dataset, pereteneciente al National Institute of Diabetes and Digestive and Kidney Diseases. Esta base de datos comprende pacientes femeninos de al menos 21 años de edad, de herencia Prima Indian.\n",
    "\n",
    "* INSERTAR CÓMO SE RESUELVE EL PROBLEMA A NIVEL PROBABILÍSTICO."
   ]
  },
  {
   "cell_type": "markdown",
   "id": "outside-allocation",
   "metadata": {},
   "source": [
    "# Análisis y filtrado de la base de datos"
   ]
  },
  {
   "cell_type": "markdown",
   "id": "infectious-breath",
   "metadata": {},
   "source": [
    "En primer lugar, se importa la base de datos mencionada anteriormente para poder ser procesada. Además se muestran las primeras filas."
   ]
  },
  {
   "cell_type": "code",
   "execution_count": 1,
   "id": "streaming-arctic",
   "metadata": {},
   "outputs": [
    {
     "data": {
      "text/html": [
       "<div>\n",
       "<style scoped>\n",
       "    .dataframe tbody tr th:only-of-type {\n",
       "        vertical-align: middle;\n",
       "    }\n",
       "\n",
       "    .dataframe tbody tr th {\n",
       "        vertical-align: top;\n",
       "    }\n",
       "\n",
       "    .dataframe thead th {\n",
       "        text-align: right;\n",
       "    }\n",
       "</style>\n",
       "<table border=\"1\" class=\"dataframe\">\n",
       "  <thead>\n",
       "    <tr style=\"text-align: right;\">\n",
       "      <th></th>\n",
       "      <th>Pregnancies</th>\n",
       "      <th>Glucose</th>\n",
       "      <th>BloodPressure</th>\n",
       "      <th>SkinThickness</th>\n",
       "      <th>Insulin</th>\n",
       "      <th>BMI</th>\n",
       "      <th>DiabetesPedigreeFunction</th>\n",
       "      <th>Age</th>\n",
       "      <th>Outcome</th>\n",
       "    </tr>\n",
       "  </thead>\n",
       "  <tbody>\n",
       "    <tr>\n",
       "      <th>0</th>\n",
       "      <td>6</td>\n",
       "      <td>148</td>\n",
       "      <td>72</td>\n",
       "      <td>35</td>\n",
       "      <td>0</td>\n",
       "      <td>33.6</td>\n",
       "      <td>0.627</td>\n",
       "      <td>50</td>\n",
       "      <td>1</td>\n",
       "    </tr>\n",
       "    <tr>\n",
       "      <th>1</th>\n",
       "      <td>1</td>\n",
       "      <td>85</td>\n",
       "      <td>66</td>\n",
       "      <td>29</td>\n",
       "      <td>0</td>\n",
       "      <td>26.6</td>\n",
       "      <td>0.351</td>\n",
       "      <td>31</td>\n",
       "      <td>0</td>\n",
       "    </tr>\n",
       "    <tr>\n",
       "      <th>2</th>\n",
       "      <td>8</td>\n",
       "      <td>183</td>\n",
       "      <td>64</td>\n",
       "      <td>0</td>\n",
       "      <td>0</td>\n",
       "      <td>23.3</td>\n",
       "      <td>0.672</td>\n",
       "      <td>32</td>\n",
       "      <td>1</td>\n",
       "    </tr>\n",
       "    <tr>\n",
       "      <th>3</th>\n",
       "      <td>1</td>\n",
       "      <td>89</td>\n",
       "      <td>66</td>\n",
       "      <td>23</td>\n",
       "      <td>94</td>\n",
       "      <td>28.1</td>\n",
       "      <td>0.167</td>\n",
       "      <td>21</td>\n",
       "      <td>0</td>\n",
       "    </tr>\n",
       "    <tr>\n",
       "      <th>4</th>\n",
       "      <td>0</td>\n",
       "      <td>137</td>\n",
       "      <td>40</td>\n",
       "      <td>35</td>\n",
       "      <td>168</td>\n",
       "      <td>43.1</td>\n",
       "      <td>2.288</td>\n",
       "      <td>33</td>\n",
       "      <td>1</td>\n",
       "    </tr>\n",
       "  </tbody>\n",
       "</table>\n",
       "</div>"
      ],
      "text/plain": [
       "   Pregnancies  Glucose  BloodPressure  SkinThickness  Insulin   BMI  \\\n",
       "0            6      148             72             35        0  33.6   \n",
       "1            1       85             66             29        0  26.6   \n",
       "2            8      183             64              0        0  23.3   \n",
       "3            1       89             66             23       94  28.1   \n",
       "4            0      137             40             35      168  43.1   \n",
       "\n",
       "   DiabetesPedigreeFunction  Age  Outcome  \n",
       "0                     0.627   50        1  \n",
       "1                     0.351   31        0  \n",
       "2                     0.672   32        1  \n",
       "3                     0.167   21        0  \n",
       "4                     2.288   33        1  "
      ]
     },
     "execution_count": 1,
     "metadata": {},
     "output_type": "execute_result"
    }
   ],
   "source": [
    "import pandas as pd\n",
    "\n",
    "# Read database from .csv\n",
    "df = pd.read_csv('../assets/diabetes.csv', delimiter=',')\n",
    "\n",
    "# Show first rows of data\n",
    "df.head()"
   ]
  },
  {
   "cell_type": "markdown",
   "id": "australian-burst",
   "metadata": {},
   "source": [
    "Como se observa en la tabla anterior, las variables a considerar para estimar la presencia de diabetes en una persona son las siguientes:\n",
    "\n",
    "*   Pregnancies (embarazos): Número de embarazos\n",
    "*   Glucose: Concentración de glucosa en sangre a 2 horas de una prueba de tolerancia de glucosa oral.\n",
    "*   BloodPresure (Presión sanguinea): Presión diastólica (mm Hg)\n",
    "*   SkinThickness: Tamaño del pliegue de la piel del triceps\n",
    "*   Insulin: Insulina en sangre a 2 horas (mu U/ml)\n",
    "*   BMI: Indice de masa corporal (peso en kg / (altura en metros)^2)\n",
    "*   DiabetesPedigreeFunction: Una función que estima el likelihood de tener diabetes dado el historial familiar\n",
    "*   Age: Edad (años)\n",
    "*   Outcome: Variable 0 o 1 (0 no posee diabtes, 1 posee diabetes)\n",
    "\n",
    "Antes de comenzar con el análisis estadístico de cada una de estas variables es necesario filtrar aquellos valores que no fueron informados. De lo contrario, estos valores sin sentido afectarán el desempeño del modelo al realizar la predicción.\n",
    "\n",
    "## Filtrado de datos inválidos"
   ]
  },
  {
   "cell_type": "code",
   "execution_count": 2,
   "id": "empty-organ",
   "metadata": {},
   "outputs": [
    {
     "name": "stdout",
     "output_type": "stream",
     "text": [
      "<class 'pandas.core.frame.DataFrame'>\n",
      "RangeIndex: 768 entries, 0 to 767\n",
      "Data columns (total 9 columns):\n",
      " #   Column                    Non-Null Count  Dtype  \n",
      "---  ------                    --------------  -----  \n",
      " 0   Pregnancies               768 non-null    int64  \n",
      " 1   Glucose                   768 non-null    int64  \n",
      " 2   BloodPressure             768 non-null    int64  \n",
      " 3   SkinThickness             768 non-null    int64  \n",
      " 4   Insulin                   768 non-null    int64  \n",
      " 5   BMI                       768 non-null    float64\n",
      " 6   DiabetesPedigreeFunction  768 non-null    float64\n",
      " 7   Age                       768 non-null    int64  \n",
      " 8   Outcome                   768 non-null    int64  \n",
      "dtypes: float64(2), int64(7)\n",
      "memory usage: 54.1 KB\n"
     ]
    }
   ],
   "source": [
    "# Show database variables and their characteristics\n",
    "df.info()"
   ]
  },
  {
   "cell_type": "code",
   "execution_count": 3,
   "id": "incorrect-boutique",
   "metadata": {},
   "outputs": [
    {
     "data": {
      "text/html": [
       "<div>\n",
       "<style scoped>\n",
       "    .dataframe tbody tr th:only-of-type {\n",
       "        vertical-align: middle;\n",
       "    }\n",
       "\n",
       "    .dataframe tbody tr th {\n",
       "        vertical-align: top;\n",
       "    }\n",
       "\n",
       "    .dataframe thead th {\n",
       "        text-align: right;\n",
       "    }\n",
       "</style>\n",
       "<table border=\"1\" class=\"dataframe\">\n",
       "  <thead>\n",
       "    <tr style=\"text-align: right;\">\n",
       "      <th></th>\n",
       "      <th>Pregnancies</th>\n",
       "      <th>Glucose</th>\n",
       "      <th>BloodPressure</th>\n",
       "      <th>SkinThickness</th>\n",
       "      <th>Insulin</th>\n",
       "      <th>BMI</th>\n",
       "      <th>DiabetesPedigreeFunction</th>\n",
       "      <th>Age</th>\n",
       "      <th>Outcome</th>\n",
       "    </tr>\n",
       "  </thead>\n",
       "  <tbody>\n",
       "    <tr>\n",
       "      <th>count</th>\n",
       "      <td>768.000000</td>\n",
       "      <td>768.000000</td>\n",
       "      <td>768.000000</td>\n",
       "      <td>768.000000</td>\n",
       "      <td>768.000000</td>\n",
       "      <td>768.000000</td>\n",
       "      <td>768.000000</td>\n",
       "      <td>768.000000</td>\n",
       "      <td>768.000000</td>\n",
       "    </tr>\n",
       "    <tr>\n",
       "      <th>mean</th>\n",
       "      <td>3.845052</td>\n",
       "      <td>120.894531</td>\n",
       "      <td>69.105469</td>\n",
       "      <td>20.536458</td>\n",
       "      <td>79.799479</td>\n",
       "      <td>31.992578</td>\n",
       "      <td>0.471876</td>\n",
       "      <td>33.240885</td>\n",
       "      <td>0.348958</td>\n",
       "    </tr>\n",
       "    <tr>\n",
       "      <th>std</th>\n",
       "      <td>3.369578</td>\n",
       "      <td>31.972618</td>\n",
       "      <td>19.355807</td>\n",
       "      <td>15.952218</td>\n",
       "      <td>115.244002</td>\n",
       "      <td>7.884160</td>\n",
       "      <td>0.331329</td>\n",
       "      <td>11.760232</td>\n",
       "      <td>0.476951</td>\n",
       "    </tr>\n",
       "    <tr>\n",
       "      <th>min</th>\n",
       "      <td>0.000000</td>\n",
       "      <td>0.000000</td>\n",
       "      <td>0.000000</td>\n",
       "      <td>0.000000</td>\n",
       "      <td>0.000000</td>\n",
       "      <td>0.000000</td>\n",
       "      <td>0.078000</td>\n",
       "      <td>21.000000</td>\n",
       "      <td>0.000000</td>\n",
       "    </tr>\n",
       "    <tr>\n",
       "      <th>25%</th>\n",
       "      <td>1.000000</td>\n",
       "      <td>99.000000</td>\n",
       "      <td>62.000000</td>\n",
       "      <td>0.000000</td>\n",
       "      <td>0.000000</td>\n",
       "      <td>27.300000</td>\n",
       "      <td>0.243750</td>\n",
       "      <td>24.000000</td>\n",
       "      <td>0.000000</td>\n",
       "    </tr>\n",
       "    <tr>\n",
       "      <th>50%</th>\n",
       "      <td>3.000000</td>\n",
       "      <td>117.000000</td>\n",
       "      <td>72.000000</td>\n",
       "      <td>23.000000</td>\n",
       "      <td>30.500000</td>\n",
       "      <td>32.000000</td>\n",
       "      <td>0.372500</td>\n",
       "      <td>29.000000</td>\n",
       "      <td>0.000000</td>\n",
       "    </tr>\n",
       "    <tr>\n",
       "      <th>75%</th>\n",
       "      <td>6.000000</td>\n",
       "      <td>140.250000</td>\n",
       "      <td>80.000000</td>\n",
       "      <td>32.000000</td>\n",
       "      <td>127.250000</td>\n",
       "      <td>36.600000</td>\n",
       "      <td>0.626250</td>\n",
       "      <td>41.000000</td>\n",
       "      <td>1.000000</td>\n",
       "    </tr>\n",
       "    <tr>\n",
       "      <th>max</th>\n",
       "      <td>17.000000</td>\n",
       "      <td>199.000000</td>\n",
       "      <td>122.000000</td>\n",
       "      <td>99.000000</td>\n",
       "      <td>846.000000</td>\n",
       "      <td>67.100000</td>\n",
       "      <td>2.420000</td>\n",
       "      <td>81.000000</td>\n",
       "      <td>1.000000</td>\n",
       "    </tr>\n",
       "  </tbody>\n",
       "</table>\n",
       "</div>"
      ],
      "text/plain": [
       "       Pregnancies     Glucose  BloodPressure  SkinThickness     Insulin  \\\n",
       "count   768.000000  768.000000     768.000000     768.000000  768.000000   \n",
       "mean      3.845052  120.894531      69.105469      20.536458   79.799479   \n",
       "std       3.369578   31.972618      19.355807      15.952218  115.244002   \n",
       "min       0.000000    0.000000       0.000000       0.000000    0.000000   \n",
       "25%       1.000000   99.000000      62.000000       0.000000    0.000000   \n",
       "50%       3.000000  117.000000      72.000000      23.000000   30.500000   \n",
       "75%       6.000000  140.250000      80.000000      32.000000  127.250000   \n",
       "max      17.000000  199.000000     122.000000      99.000000  846.000000   \n",
       "\n",
       "              BMI  DiabetesPedigreeFunction         Age     Outcome  \n",
       "count  768.000000                768.000000  768.000000  768.000000  \n",
       "mean    31.992578                  0.471876   33.240885    0.348958  \n",
       "std      7.884160                  0.331329   11.760232    0.476951  \n",
       "min      0.000000                  0.078000   21.000000    0.000000  \n",
       "25%     27.300000                  0.243750   24.000000    0.000000  \n",
       "50%     32.000000                  0.372500   29.000000    0.000000  \n",
       "75%     36.600000                  0.626250   41.000000    1.000000  \n",
       "max     67.100000                  2.420000   81.000000    1.000000  "
      ]
     },
     "execution_count": 3,
     "metadata": {},
     "output_type": "execute_result"
    }
   ],
   "source": [
    "# Describing database\n",
    "df.describe()"
   ]
  },
  {
   "cell_type": "markdown",
   "id": "junior-gross",
   "metadata": {},
   "source": [
    "De la tabla anterior se aprecia que hay ciertas variables biológicas que adoptan valores inválidos. Por ejemplo, la presión sanguínea no puede ser nula. Lo mismo sucede con la glucosa, el grosor de la piel, el nivel de insulina, el ínidice de masa corporal. Luego, se reemplazan aquellos valores sin sentido por un NaN (not a number) para evitar que sean contemplados al realizar el análisis estadístico posterior."
   ]
  },
  {
   "cell_type": "code",
   "execution_count": 4,
   "id": "former-reunion",
   "metadata": {},
   "outputs": [
    {
     "data": {
      "text/html": [
       "<div>\n",
       "<style scoped>\n",
       "    .dataframe tbody tr th:only-of-type {\n",
       "        vertical-align: middle;\n",
       "    }\n",
       "\n",
       "    .dataframe tbody tr th {\n",
       "        vertical-align: top;\n",
       "    }\n",
       "\n",
       "    .dataframe thead th {\n",
       "        text-align: right;\n",
       "    }\n",
       "</style>\n",
       "<table border=\"1\" class=\"dataframe\">\n",
       "  <thead>\n",
       "    <tr style=\"text-align: right;\">\n",
       "      <th></th>\n",
       "      <th>Pregnancies</th>\n",
       "      <th>Glucose</th>\n",
       "      <th>BloodPressure</th>\n",
       "      <th>SkinThickness</th>\n",
       "      <th>Insulin</th>\n",
       "      <th>BMI</th>\n",
       "      <th>DiabetesPedigreeFunction</th>\n",
       "      <th>Age</th>\n",
       "      <th>Outcome</th>\n",
       "    </tr>\n",
       "  </thead>\n",
       "  <tbody>\n",
       "    <tr>\n",
       "      <th>count</th>\n",
       "      <td>768.000000</td>\n",
       "      <td>763.000000</td>\n",
       "      <td>733.000000</td>\n",
       "      <td>541.000000</td>\n",
       "      <td>394.000000</td>\n",
       "      <td>757.000000</td>\n",
       "      <td>768.000000</td>\n",
       "      <td>768.000000</td>\n",
       "      <td>768.000000</td>\n",
       "    </tr>\n",
       "    <tr>\n",
       "      <th>mean</th>\n",
       "      <td>3.845052</td>\n",
       "      <td>121.686763</td>\n",
       "      <td>72.405184</td>\n",
       "      <td>29.153420</td>\n",
       "      <td>155.548223</td>\n",
       "      <td>32.457464</td>\n",
       "      <td>0.471876</td>\n",
       "      <td>33.240885</td>\n",
       "      <td>0.348958</td>\n",
       "    </tr>\n",
       "    <tr>\n",
       "      <th>std</th>\n",
       "      <td>3.369578</td>\n",
       "      <td>30.535641</td>\n",
       "      <td>12.382158</td>\n",
       "      <td>10.476982</td>\n",
       "      <td>118.775855</td>\n",
       "      <td>6.924988</td>\n",
       "      <td>0.331329</td>\n",
       "      <td>11.760232</td>\n",
       "      <td>0.476951</td>\n",
       "    </tr>\n",
       "    <tr>\n",
       "      <th>min</th>\n",
       "      <td>0.000000</td>\n",
       "      <td>44.000000</td>\n",
       "      <td>24.000000</td>\n",
       "      <td>7.000000</td>\n",
       "      <td>14.000000</td>\n",
       "      <td>18.200000</td>\n",
       "      <td>0.078000</td>\n",
       "      <td>21.000000</td>\n",
       "      <td>0.000000</td>\n",
       "    </tr>\n",
       "    <tr>\n",
       "      <th>25%</th>\n",
       "      <td>1.000000</td>\n",
       "      <td>99.000000</td>\n",
       "      <td>64.000000</td>\n",
       "      <td>22.000000</td>\n",
       "      <td>76.250000</td>\n",
       "      <td>27.500000</td>\n",
       "      <td>0.243750</td>\n",
       "      <td>24.000000</td>\n",
       "      <td>0.000000</td>\n",
       "    </tr>\n",
       "    <tr>\n",
       "      <th>50%</th>\n",
       "      <td>3.000000</td>\n",
       "      <td>117.000000</td>\n",
       "      <td>72.000000</td>\n",
       "      <td>29.000000</td>\n",
       "      <td>125.000000</td>\n",
       "      <td>32.300000</td>\n",
       "      <td>0.372500</td>\n",
       "      <td>29.000000</td>\n",
       "      <td>0.000000</td>\n",
       "    </tr>\n",
       "    <tr>\n",
       "      <th>75%</th>\n",
       "      <td>6.000000</td>\n",
       "      <td>141.000000</td>\n",
       "      <td>80.000000</td>\n",
       "      <td>36.000000</td>\n",
       "      <td>190.000000</td>\n",
       "      <td>36.600000</td>\n",
       "      <td>0.626250</td>\n",
       "      <td>41.000000</td>\n",
       "      <td>1.000000</td>\n",
       "    </tr>\n",
       "    <tr>\n",
       "      <th>max</th>\n",
       "      <td>17.000000</td>\n",
       "      <td>199.000000</td>\n",
       "      <td>122.000000</td>\n",
       "      <td>99.000000</td>\n",
       "      <td>846.000000</td>\n",
       "      <td>67.100000</td>\n",
       "      <td>2.420000</td>\n",
       "      <td>81.000000</td>\n",
       "      <td>1.000000</td>\n",
       "    </tr>\n",
       "  </tbody>\n",
       "</table>\n",
       "</div>"
      ],
      "text/plain": [
       "       Pregnancies     Glucose  BloodPressure  SkinThickness     Insulin  \\\n",
       "count   768.000000  763.000000     733.000000     541.000000  394.000000   \n",
       "mean      3.845052  121.686763      72.405184      29.153420  155.548223   \n",
       "std       3.369578   30.535641      12.382158      10.476982  118.775855   \n",
       "min       0.000000   44.000000      24.000000       7.000000   14.000000   \n",
       "25%       1.000000   99.000000      64.000000      22.000000   76.250000   \n",
       "50%       3.000000  117.000000      72.000000      29.000000  125.000000   \n",
       "75%       6.000000  141.000000      80.000000      36.000000  190.000000   \n",
       "max      17.000000  199.000000     122.000000      99.000000  846.000000   \n",
       "\n",
       "              BMI  DiabetesPedigreeFunction         Age     Outcome  \n",
       "count  757.000000                768.000000  768.000000  768.000000  \n",
       "mean    32.457464                  0.471876   33.240885    0.348958  \n",
       "std      6.924988                  0.331329   11.760232    0.476951  \n",
       "min     18.200000                  0.078000   21.000000    0.000000  \n",
       "25%     27.500000                  0.243750   24.000000    0.000000  \n",
       "50%     32.300000                  0.372500   29.000000    0.000000  \n",
       "75%     36.600000                  0.626250   41.000000    1.000000  \n",
       "max     67.100000                  2.420000   81.000000    1.000000  "
      ]
     },
     "execution_count": 4,
     "metadata": {},
     "output_type": "execute_result"
    }
   ],
   "source": [
    "import numpy as np\n",
    "\n",
    "# Filtering Glucose values\n",
    "df['Glucose'].replace(0, np.nan, inplace=True)\n",
    "\n",
    "# Filtering Blood Pressure values\n",
    "df['BloodPressure'].replace(0, np.nan, inplace=True)\n",
    "\n",
    "# Filtering Skin Thickness values\n",
    "df['SkinThickness'].replace(0, np.nan, inplace=True)\n",
    "\n",
    "# Filtering Insulin values\n",
    "df['Insulin'].replace(0, np.nan, inplace=True)\n",
    "\n",
    "# Filtering Body Mass Index values\n",
    "df['BMI'].replace(0, np.nan, inplace=True)\n",
    "\n",
    "# Describing filtered dataset characterisics\n",
    "df.describe()"
   ]
  },
  {
   "cell_type": "markdown",
   "id": "bearing-actress",
   "metadata": {},
   "source": [
    "## Análisis de variables\n",
    "Para cada variable involucrada se realiza un análisis estadístico, diferenciando entre aquellos casos positivos en diabetes y aquellos que no lo son.\n",
    "### Embarazos (\"Pregnancies\")"
   ]
  },
  {
   "cell_type": "code",
   "execution_count": 5,
   "id": "victorian-connecticut",
   "metadata": {},
   "outputs": [
    {
     "data": {
      "text/plain": [
       "count    768.000000\n",
       "mean       3.845052\n",
       "std        3.369578\n",
       "min        0.000000\n",
       "25%        1.000000\n",
       "50%        3.000000\n",
       "75%        6.000000\n",
       "max       17.000000\n",
       "Name: Pregnancies, dtype: float64"
      ]
     },
     "execution_count": 5,
     "metadata": {},
     "output_type": "execute_result"
    }
   ],
   "source": [
    "import matplotlib.pyplot as plt\n",
    "\n",
    "df[\"Pregnancies\"].describe()"
   ]
  },
  {
   "cell_type": "code",
   "execution_count": 29,
   "id": "increased-water",
   "metadata": {},
   "outputs": [
    {
     "data": {
      "image/png": "[encoded data removed]",
      "text/plain": [
       "<Figure size 432x288 with 1 Axes>"
      ]
     },
     "metadata": {
      "needs_background": "light"
     },
     "output_type": "display_data"
    }
   ],
   "source": [
    "# Bins for discrete variable\n",
    "pregBins = np.arange(-0.5,df[\"Pregnancies\"].max()+0.5,1)\n",
    "plt.hist(df['Pregnancies'], bins = pregBins)\n",
    "x = plt.title(\"Pregnancies\")"
   ]
  },
  {
   "cell_type": "code",
   "execution_count": 40,
   "id": "conservative-oriental",
   "metadata": {},
   "outputs": [
    {
     "data": {
      "image/png": "[encoded data removed]",
      "text/plain": [
       "<Figure size 432x288 with 1 Axes>"
      ]
     },
     "metadata": {
      "needs_background": "light"
     },
     "output_type": "display_data"
    }
   ],
   "source": [
    "# Boxplot\n",
    "df.boxplot(column=['Pregnancies'],return_type='axes');"
   ]
  },
  {
   "cell_type": "code",
   "execution_count": 45,
   "id": "opponent-sensitivity",
   "metadata": {},
   "outputs": [],
   "source": [
    "from scipy import stats\n",
    "# Removing outliers from category\n",
    "pregZScores = np.absolute(stats.zscore(df['Pregnancies']))\n",
    "outliers = np.array(df['Pregnancies'][pregZScores >= 3])\n",
    "\n"
   ]
  },
  {
   "cell_type": "code",
   "execution_count": 33,
   "id": "nuclear-minimum",
   "metadata": {},
   "outputs": [
    {
     "data": {
      "text/plain": [
       "count    500.000000\n",
       "mean       3.298000\n",
       "std        3.017185\n",
       "min        0.000000\n",
       "25%        1.000000\n",
       "50%        2.000000\n",
       "75%        5.000000\n",
       "max       13.000000\n",
       "Name: Pregnancies, dtype: float64"
      ]
     },
     "execution_count": 33,
     "metadata": {},
     "output_type": "execute_result"
    }
   ],
   "source": [
    "# Pregnancies in diabetes-negative\n",
    "df[df['Outcome'] == 0]['Pregnancies'].describe()"
   ]
  },
  {
   "cell_type": "code",
   "execution_count": 34,
   "id": "forced-honey",
   "metadata": {},
   "outputs": [
    {
     "data": {
      "text/plain": [
       "count    268.000000\n",
       "mean       4.865672\n",
       "std        3.741239\n",
       "min        0.000000\n",
       "25%        1.750000\n",
       "50%        4.000000\n",
       "75%        8.000000\n",
       "max       17.000000\n",
       "Name: Pregnancies, dtype: float64"
      ]
     },
     "execution_count": 34,
     "metadata": {},
     "output_type": "execute_result"
    }
   ],
   "source": [
    "# Pregnancies in diabetes-positive\n",
    "df[df['Outcome'] == 1]['Pregnancies'].describe()"
   ]
  },
  {
   "cell_type": "code",
   "execution_count": 11,
   "id": "sixth-sense",
   "metadata": {},
   "outputs": [
    {
     "data": {
      "image/png": "[encoded data removed]",
      "text/plain": [
       "<Figure size 432x288 with 1 Axes>"
      ]
     },
     "metadata": {
      "needs_background": "light"
     },
     "output_type": "display_data"
    }
   ],
   "source": [
    "# Histograms\n",
    "\n",
    "# Plotting histograms\n",
    "plt.hist(df[df['Outcome'] == 0]['Pregnancies'], bins = pregBins, alpha=0.5, label='Diabetes Negative')\n",
    "plt.hist(df[df['Outcome'] == 1]['Pregnancies'], bins = pregBins, alpha=0.5, label='Diabetes Positive')\n",
    "plt.legend(loc='upper right')\n",
    "x = plt.title('Pregnancies')"
   ]
  },
  {
   "cell_type": "code",
   "execution_count": 51,
   "id": "basic-fireplace",
   "metadata": {},
   "outputs": [
    {
     "data": {
      "image/png": "[encoded data removed]",
      "text/plain": [
       "<Figure size 432x288 with 2 Axes>"
      ]
     },
     "metadata": {
      "needs_background": "light"
     },
     "output_type": "display_data"
    }
   ],
   "source": [
    "fig, axs = plt.subplots(2, 1, sharey=True, tight_layout=True)\n",
    "fig.suptitle('Pregnancies')\n",
    "axs[0].hist(df[df['Outcome'] == 0]['Pregnancies'], bins = pregBins)\n",
    "axs[0].set_title('Diabetes Negative')\n",
    "axs[1].hist(df[df['Outcome'] == 1]['Pregnancies'], bins = pregBins)\n",
    "x = axs[1].set_title('Diabetes Positive')"
   ]
  },
  {
   "cell_type": "markdown",
   "id": "expressed-armstrong",
   "metadata": {},
   "source": [
    "### Glucosa (\"Glucose\")"
   ]
  },
  {
   "cell_type": "code",
   "execution_count": 13,
   "id": "collective-austria",
   "metadata": {},
   "outputs": [
    {
     "data": {
      "text/plain": [
       "count    763.000000\n",
       "mean     121.686763\n",
       "std       30.535641\n",
       "min       44.000000\n",
       "25%       99.000000\n",
       "50%      117.000000\n",
       "75%      141.000000\n",
       "max      199.000000\n",
       "Name: Glucose, dtype: float64"
      ]
     },
     "execution_count": 13,
     "metadata": {},
     "output_type": "execute_result"
    }
   ],
   "source": [
    "df['Glucose'].describe()"
   ]
  },
  {
   "cell_type": "code",
   "execution_count": 32,
   "id": "mysterious-trail",
   "metadata": {},
   "outputs": [
    {
     "data": {
      "image/png": "[encoded data removed]",
      "text/plain": [
       "<Figure size 432x288 with 1 Axes>"
      ]
     },
     "metadata": {
      "needs_background": "light"
     },
     "output_type": "display_data"
    }
   ],
   "source": [
    "# Histogram \n",
    "plt.hist(df['Glucose'])\n",
    "x = plt.title('Glucose')"
   ]
  },
  {
   "cell_type": "code",
   "execution_count": 39,
   "id": "hispanic-bulgaria",
   "metadata": {},
   "outputs": [
    {
     "data": {
      "image/png": "[encoded data removed]",
      "text/plain": [
       "<Figure size 432x288 with 1 Axes>"
      ]
     },
     "metadata": {
      "needs_background": "light"
     },
     "output_type": "display_data"
    }
   ],
   "source": [
    "# Boxplot\n",
    "df.boxplot(column=['Pregnancies'],return_type='axes');"
   ]
  },
  {
   "cell_type": "code",
   "execution_count": 56,
   "id": "posted-appliance",
   "metadata": {},
   "outputs": [],
   "source": [
    "# Filter outliers"
   ]
  },
  {
   "cell_type": "code",
   "execution_count": 35,
   "id": "rotary-infection",
   "metadata": {},
   "outputs": [
    {
     "data": {
      "text/plain": [
       "count    497.000000\n",
       "mean     110.643863\n",
       "std       24.776906\n",
       "min       44.000000\n",
       "25%       93.000000\n",
       "50%      107.000000\n",
       "75%      125.000000\n",
       "max      197.000000\n",
       "Name: Glucose, dtype: float64"
      ]
     },
     "execution_count": 35,
     "metadata": {},
     "output_type": "execute_result"
    }
   ],
   "source": [
    "# Glucose in diabetes-negative\n",
    "df[df['Outcome'] == 0]['Glucose'].describe()"
   ]
  },
  {
   "cell_type": "code",
   "execution_count": 46,
   "id": "brutal-farming",
   "metadata": {},
   "outputs": [
    {
     "data": {
      "text/plain": [
       "count    266.000000\n",
       "mean     142.319549\n",
       "std       29.599199\n",
       "min       78.000000\n",
       "25%      119.000000\n",
       "50%      140.000000\n",
       "75%      167.000000\n",
       "max      199.000000\n",
       "Name: Glucose, dtype: float64"
      ]
     },
     "execution_count": 46,
     "metadata": {},
     "output_type": "execute_result"
    }
   ],
   "source": [
    "# Glucose in diabetes-positive\n",
    "df[df['Outcome'] == 1]['Glucose'].describe()"
   ]
  },
  {
   "cell_type": "code",
   "execution_count": 48,
   "id": "transsexual-orlando",
   "metadata": {},
   "outputs": [
    {
     "data": {
      "image/png": "[encoded data removed]",
      "text/plain": [
       "<Figure size 432x288 with 1 Axes>"
      ]
     },
     "metadata": {
      "needs_background": "light"
     },
     "output_type": "display_data"
    }
   ],
   "source": [
    "# Histograms\n",
    "\n",
    "# Plotting histograms\n",
    "plt.hist(df[df['Outcome'] == 0]['Glucose'],  alpha=0.5, label='Diabetes Negative')\n",
    "plt.hist(df[df['Outcome'] == 1]['Glucose'],  alpha=0.5, label='Diabetes Positive')\n",
    "plt.legend(loc='upper right')\n",
    "x = plt.title('Glucose')"
   ]
  },
  {
   "cell_type": "code",
   "execution_count": 50,
   "id": "powerful-aircraft",
   "metadata": {},
   "outputs": [
    {
     "data": {
      "image/png": "[encoded data removed]",
      "text/plain": [
       "<Figure size 432x288 with 2 Axes>"
      ]
     },
     "metadata": {
      "needs_background": "light"
     },
     "output_type": "display_data"
    }
   ],
   "source": [
    "fig, axs = plt.subplots(2, 1, sharey=True, tight_layout=True)\n",
    "fig.suptitle('Glucose')\n",
    "axs[0].hist(df[df['Outcome'] == 0]['Glucose'])\n",
    "axs[0].set_title('Diabetes Negative')\n",
    "axs[1].hist(df[df['Outcome'] == 1]['Glucose'])\n",
    "x = axs[1].set_title('Diabetes Positive')"
   ]
  },
  {
   "cell_type": "markdown",
   "id": "tired-services",
   "metadata": {},
   "source": [
    "### Presión Sanguínea (\"BloodPressure\")"
   ]
  },
  {
   "cell_type": "code",
   "execution_count": 52,
   "id": "scientific-threat",
   "metadata": {},
   "outputs": [
    {
     "data": {
      "text/plain": [
       "count    733.000000\n",
       "mean      72.405184\n",
       "std       12.382158\n",
       "min       24.000000\n",
       "25%       64.000000\n",
       "50%       72.000000\n",
       "75%       80.000000\n",
       "max      122.000000\n",
       "Name: BloodPressure, dtype: float64"
      ]
     },
     "execution_count": 52,
     "metadata": {},
     "output_type": "execute_result"
    }
   ],
   "source": [
    "df['BloodPressure'].describe()"
   ]
  },
  {
   "cell_type": "code",
   "execution_count": 54,
   "id": "portuguese-knowing",
   "metadata": {},
   "outputs": [
    {
     "data": {
      "image/png": "[encoded data removed]",
      "text/plain": [
       "<Figure size 432x288 with 1 Axes>"
      ]
     },
     "metadata": {
      "needs_background": "light"
     },
     "output_type": "display_data"
    }
   ],
   "source": [
    "# Histogram \n",
    "plt.hist(df['BloodPressure'])\n",
    "x = plt.title('Blood Pressure')"
   ]
  },
  {
   "cell_type": "code",
   "execution_count": 55,
   "id": "close-image",
   "metadata": {},
   "outputs": [
    {
     "data": {
      "image/png": "[encoded data removed]",
      "text/plain": [
       "<Figure size 432x288 with 1 Axes>"
      ]
     },
     "metadata": {
      "needs_background": "light"
     },
     "output_type": "display_data"
    }
   ],
   "source": [
    "# Boxplot\n",
    "df.boxplot(column=['BloodPressure'],return_type='axes');"
   ]
  },
  {
   "cell_type": "code",
   "execution_count": 57,
   "id": "intense-orange",
   "metadata": {},
   "outputs": [],
   "source": [
    "# Filter outliers"
   ]
  },
  {
   "cell_type": "code",
   "execution_count": 58,
   "id": "sitting-reunion",
   "metadata": {},
   "outputs": [
    {
     "data": {
      "text/plain": [
       "count    481.000000\n",
       "mean      70.877339\n",
       "std       12.161223\n",
       "min       24.000000\n",
       "25%       62.000000\n",
       "50%       70.000000\n",
       "75%       78.000000\n",
       "max      122.000000\n",
       "Name: BloodPressure, dtype: float64"
      ]
     },
     "execution_count": 58,
     "metadata": {},
     "output_type": "execute_result"
    }
   ],
   "source": [
    "# Blood pressure in diabetes-negative\n",
    "df[df['Outcome'] == 0]['BloodPressure'].describe()"
   ]
  },
  {
   "cell_type": "code",
   "execution_count": 59,
   "id": "running-advantage",
   "metadata": {},
   "outputs": [
    {
     "data": {
      "text/plain": [
       "count    252.000000\n",
       "mean      75.321429\n",
       "std       12.299866\n",
       "min       30.000000\n",
       "25%       68.000000\n",
       "50%       74.500000\n",
       "75%       84.000000\n",
       "max      114.000000\n",
       "Name: BloodPressure, dtype: float64"
      ]
     },
     "execution_count": 59,
     "metadata": {},
     "output_type": "execute_result"
    }
   ],
   "source": [
    "# Blood pressure in diabetes-positive\n",
    "df[df['Outcome'] == 1]['BloodPressure'].describe()"
   ]
  },
  {
   "cell_type": "code",
   "execution_count": 60,
   "id": "gorgeous-partition",
   "metadata": {},
   "outputs": [
    {
     "data": {
      "image/png": "[encoded data removed]",
      "text/plain": [
       "<Figure size 432x288 with 1 Axes>"
      ]
     },
     "metadata": {
      "needs_background": "light"
     },
     "output_type": "display_data"
    }
   ],
   "source": [
    "# Histograms\n",
    "\n",
    "# Plotting histograms\n",
    "plt.hist(df[df['Outcome'] == 0]['BloodPressure'],  alpha=0.5, label='Diabetes Negative')\n",
    "plt.hist(df[df['Outcome'] == 1]['BloodPressure'],  alpha=0.5, label='Diabetes Positive')\n",
    "plt.legend(loc='upper right')\n",
    "x = plt.title('Blood Pressure')"
   ]
  },
  {
   "cell_type": "code",
   "execution_count": 61,
   "id": "aware-participant",
   "metadata": {},
   "outputs": [
    {
     "data": {
      "image/png": "[encoded data removed]",
      "text/plain": [
       "<Figure size 432x288 with 2 Axes>"
      ]
     },
     "metadata": {
      "needs_background": "light"
     },
     "output_type": "display_data"
    }
   ],
   "source": [
    "fig, axs = plt.subplots(2, 1, sharey=True, tight_layout=True)\n",
    "fig.suptitle('Blood Pressure')\n",
    "axs[0].hist(df[df['Outcome'] == 0]['BloodPressure'])\n",
    "axs[0].set_title('Diabetes Negative')\n",
    "axs[1].hist(df[df['Outcome'] == 1]['BloodPressure'])\n",
    "x = axs[1].set_title('Diabetes Positive')"
   ]
  },
  {
   "cell_type": "markdown",
   "id": "growing-lemon",
   "metadata": {},
   "source": [
    "### Grosor de la piel del pliegue del tríceps (\"SkinThickness\")"
   ]
  },
  {
   "cell_type": "code",
   "execution_count": 62,
   "id": "descending-scheduling",
   "metadata": {},
   "outputs": [
    {
     "data": {
      "text/plain": [
       "count    541.000000\n",
       "mean      29.153420\n",
       "std       10.476982\n",
       "min        7.000000\n",
       "25%       22.000000\n",
       "50%       29.000000\n",
       "75%       36.000000\n",
       "max       99.000000\n",
       "Name: SkinThickness, dtype: float64"
      ]
     },
     "execution_count": 62,
     "metadata": {},
     "output_type": "execute_result"
    }
   ],
   "source": [
    "df['SkinThickness'].describe()"
   ]
  },
  {
   "cell_type": "code",
   "execution_count": 63,
   "id": "reported-recommendation",
   "metadata": {},
   "outputs": [
    {
     "data": {
      "image/png": "[encoded data removed]",
      "text/plain": [
       "<Figure size 432x288 with 1 Axes>"
      ]
     },
     "metadata": {
      "needs_background": "light"
     },
     "output_type": "display_data"
    }
   ],
   "source": [
    "# Histogram \n",
    "plt.hist(df['SkinThickness'])\n",
    "x = plt.title('Skin Thickness')"
   ]
  },
  {
   "cell_type": "code",
   "execution_count": 64,
   "id": "round-herald",
   "metadata": {},
   "outputs": [
    {
     "data": {
      "image/png": "[encoded data removed]",
      "text/plain": [
       "<Figure size 432x288 with 1 Axes>"
      ]
     },
     "metadata": {
      "needs_background": "light"
     },
     "output_type": "display_data"
    }
   ],
   "source": [
    "# Boxplot\n",
    "df.boxplot(column=['SkinThickness'],return_type='axes');"
   ]
  },
  {
   "cell_type": "code",
   "execution_count": null,
   "id": "departmental-moderator",
   "metadata": {},
   "outputs": [],
   "source": [
    "# Filter outliers"
   ]
  },
  {
   "cell_type": "code",
   "execution_count": 65,
   "id": "rational-significance",
   "metadata": {},
   "outputs": [
    {
     "data": {
      "text/plain": [
       "count    361.000000\n",
       "mean      27.235457\n",
       "std       10.026491\n",
       "min        7.000000\n",
       "25%       19.000000\n",
       "50%       27.000000\n",
       "75%       33.000000\n",
       "max       60.000000\n",
       "Name: SkinThickness, dtype: float64"
      ]
     },
     "execution_count": 65,
     "metadata": {},
     "output_type": "execute_result"
    }
   ],
   "source": [
    "# Skin Thickness in diabetes-negative\n",
    "df[df['Outcome'] == 0]['SkinThickness'].describe()"
   ]
  },
  {
   "cell_type": "code",
   "execution_count": 66,
   "id": "cutting-pasta",
   "metadata": {},
   "outputs": [
    {
     "data": {
      "text/plain": [
       "count    180.000000\n",
       "mean      33.000000\n",
       "std       10.327595\n",
       "min        7.000000\n",
       "25%       27.000000\n",
       "50%       32.000000\n",
       "75%       39.000000\n",
       "max       99.000000\n",
       "Name: SkinThickness, dtype: float64"
      ]
     },
     "execution_count": 66,
     "metadata": {},
     "output_type": "execute_result"
    }
   ],
   "source": [
    "# Skin Thickness in diabetes-positive\n",
    "df[df['Outcome'] == 1]['SkinThickness'].describe()"
   ]
  },
  {
   "cell_type": "code",
   "execution_count": 75,
   "id": "determined-montgomery",
   "metadata": {},
   "outputs": [
    {
     "data": {
      "image/png": "[encoded data removed]",
      "text/plain": [
       "<Figure size 432x288 with 1 Axes>"
      ]
     },
     "metadata": {
      "needs_background": "light"
     },
     "output_type": "display_data"
    }
   ],
   "source": [
    "# Histograms\n",
    "\n",
    "# Plotting histograms\n",
    "plt.hist(df[df['Outcome'] == 0]['SkinThickness'],  alpha=0.5, label='Diabetes Negative')\n",
    "plt.hist(df[df['Outcome'] == 1]['SkinThickness'],  alpha=0.5, label='Diabetes Positive')\n",
    "plt.legend(loc='upper right')\n",
    "x = plt.title('Skin Thickness')"
   ]
  },
  {
   "cell_type": "code",
   "execution_count": 68,
   "id": "charitable-opportunity",
   "metadata": {},
   "outputs": [
    {
     "data": {
      "image/png": "[encoded data removed]",
      "text/plain": [
       "<Figure size 432x288 with 2 Axes>"
      ]
     },
     "metadata": {
      "needs_background": "light"
     },
     "output_type": "display_data"
    }
   ],
   "source": [
    "fig, axs = plt.subplots(2, 1, sharey=True, tight_layout=True)\n",
    "fig.suptitle('Skin Thickness')\n",
    "axs[0].hist(df[df['Outcome'] == 0]['SkinThickness'])\n",
    "axs[0].set_title('Diabetes Negative')\n",
    "axs[1].hist(df[df['Outcome'] == 1]['SkinThickness'])\n",
    "x = axs[1].set_title('Diabetes Positive')"
   ]
  },
  {
   "cell_type": "markdown",
   "id": "rocky-swiss",
   "metadata": {},
   "source": [
    "### Insulina (\"Insulin\")"
   ]
  },
  {
   "cell_type": "code",
   "execution_count": 69,
   "id": "specific-serve",
   "metadata": {},
   "outputs": [
    {
     "data": {
      "text/plain": [
       "count    394.000000\n",
       "mean     155.548223\n",
       "std      118.775855\n",
       "min       14.000000\n",
       "25%       76.250000\n",
       "50%      125.000000\n",
       "75%      190.000000\n",
       "max      846.000000\n",
       "Name: Insulin, dtype: float64"
      ]
     },
     "execution_count": 69,
     "metadata": {},
     "output_type": "execute_result"
    }
   ],
   "source": [
    "df['Insulin'].describe()"
   ]
  },
  {
   "cell_type": "code",
   "execution_count": 70,
   "id": "expired-radar",
   "metadata": {},
   "outputs": [
    {
     "data": {
      "image/png": "[encoded data removed]",
      "text/plain": [
       "<Figure size 432x288 with 1 Axes>"
      ]
     },
     "metadata": {
      "needs_background": "light"
     },
     "output_type": "display_data"
    }
   ],
   "source": [
    "# Histogram \n",
    "plt.hist(df['Insulin'])\n",
    "x = plt.title('Insulin')"
   ]
  },
  {
   "cell_type": "code",
   "execution_count": 71,
   "id": "northern-trunk",
   "metadata": {},
   "outputs": [
    {
     "data": {
      "image/png": "[encoded data removed]",
      "text/plain": [
       "<Figure size 432x288 with 1 Axes>"
      ]
     },
     "metadata": {
      "needs_background": "light"
     },
     "output_type": "display_data"
    }
   ],
   "source": [
    "# Boxplot\n",
    "df.boxplot(column=['SkinThickness'],return_type='axes');"
   ]
  },
  {
   "cell_type": "code",
   "execution_count": null,
   "id": "backed-layer",
   "metadata": {},
   "outputs": [],
   "source": [
    "# Filter Outliers"
   ]
  },
  {
   "cell_type": "code",
   "execution_count": 72,
   "id": "understood-committee",
   "metadata": {},
   "outputs": [
    {
     "data": {
      "text/plain": [
       "count    264.000000\n",
       "mean     130.287879\n",
       "std      102.482237\n",
       "min       15.000000\n",
       "25%       66.000000\n",
       "50%      102.500000\n",
       "75%      161.250000\n",
       "max      744.000000\n",
       "Name: Insulin, dtype: float64"
      ]
     },
     "execution_count": 72,
     "metadata": {},
     "output_type": "execute_result"
    }
   ],
   "source": [
    "# Insulin in diabetes-negative\n",
    "df[df['Outcome'] == 0]['Insulin'].describe()"
   ]
  },
  {
   "cell_type": "code",
   "execution_count": 73,
   "id": "inner-adventure",
   "metadata": {},
   "outputs": [
    {
     "data": {
      "text/plain": [
       "count    130.000000\n",
       "mean     206.846154\n",
       "std      132.699898\n",
       "min       14.000000\n",
       "25%      127.500000\n",
       "50%      169.500000\n",
       "75%      239.250000\n",
       "max      846.000000\n",
       "Name: Insulin, dtype: float64"
      ]
     },
     "execution_count": 73,
     "metadata": {},
     "output_type": "execute_result"
    }
   ],
   "source": [
    "# Insulin in diabetes-positive\n",
    "df[df['Outcome'] == 1]['Insulin'].describe()"
   ]
  },
  {
   "cell_type": "code",
   "execution_count": 78,
   "id": "electoral-semester",
   "metadata": {},
   "outputs": [
    {
     "data": {
      "image/png": "[encoded data removed]",
      "text/plain": [
       "<Figure size 432x288 with 1 Axes>"
      ]
     },
     "metadata": {
      "needs_background": "light"
     },
     "output_type": "display_data"
    }
   ],
   "source": [
    "# Histograms\n",
    "\n",
    "# Plotting histograms\n",
    "plt.hist(df[df['Outcome'] == 0]['Insulin'],  alpha=0.5, label='Diabetes Negative')\n",
    "plt.hist(df[df['Outcome'] == 1]['Insulin'],  alpha=0.5, label='Diabetes Positive')\n",
    "plt.legend(loc='upper right')\n",
    "x = plt.title('Insulin')"
   ]
  },
  {
   "cell_type": "code",
   "execution_count": 77,
   "id": "suffering-journalist",
   "metadata": {},
   "outputs": [
    {
     "data": {
      "image/png": "[encoded data removed]",
      "text/plain": [
       "<Figure size 432x288 with 2 Axes>"
      ]
     },
     "metadata": {
      "needs_background": "light"
     },
     "output_type": "display_data"
    }
   ],
   "source": [
    "fig, axs = plt.subplots(2, 1, sharey=True, tight_layout=True)\n",
    "fig.suptitle('Insulin')\n",
    "axs[0].hist(df[df['Outcome'] == 0]['Insulin'])\n",
    "axs[0].set_title('Diabetes Negative')\n",
    "axs[1].hist(df[df['Outcome'] == 1]['Insulin'])\n",
    "x = axs[1].set_title('Diabetes Positive')"
   ]
  },
  {
   "cell_type": "markdown",
   "id": "adjustable-branch",
   "metadata": {},
   "source": [
    "### Índice de Masa Corporal (\"BMI\")"
   ]
  },
  {
   "cell_type": "code",
   "execution_count": 80,
   "id": "fiscal-american",
   "metadata": {},
   "outputs": [
    {
     "data": {
      "text/plain": [
       "count    757.000000\n",
       "mean      32.457464\n",
       "std        6.924988\n",
       "min       18.200000\n",
       "25%       27.500000\n",
       "50%       32.300000\n",
       "75%       36.600000\n",
       "max       67.100000\n",
       "Name: BMI, dtype: float64"
      ]
     },
     "execution_count": 80,
     "metadata": {},
     "output_type": "execute_result"
    }
   ],
   "source": [
    "df['BMI'].describe()"
   ]
  },
  {
   "cell_type": "code",
   "execution_count": 82,
   "id": "determined-camel",
   "metadata": {},
   "outputs": [
    {
     "data": {
      "image/png": "[encoded data removed]",
      "text/plain": [
       "<Figure size 432x288 with 1 Axes>"
      ]
     },
     "metadata": {
      "needs_background": "light"
     },
     "output_type": "display_data"
    }
   ],
   "source": [
    "# Histogram \n",
    "plt.hist(df['BMI'])\n",
    "x = plt.title('BMI')"
   ]
  },
  {
   "cell_type": "code",
   "execution_count": 83,
   "id": "fundamental-showcase",
   "metadata": {},
   "outputs": [
    {
     "data": {
      "image/png": "[encoded data removed]",
      "text/plain": [
       "<Figure size 432x288 with 1 Axes>"
      ]
     },
     "metadata": {
      "needs_background": "light"
     },
     "output_type": "display_data"
    }
   ],
   "source": [
    "# Boxplot\n",
    "df.boxplot(column=['BMI'],return_type='axes');"
   ]
  },
  {
   "cell_type": "code",
   "execution_count": 84,
   "id": "dying-notification",
   "metadata": {},
   "outputs": [],
   "source": [
    "# Filter Outliers"
   ]
  },
  {
   "cell_type": "code",
   "execution_count": 85,
   "id": "aging-soccer",
   "metadata": {},
   "outputs": [
    {
     "data": {
      "text/plain": [
       "count    491.000000\n",
       "mean      30.859674\n",
       "std        6.560737\n",
       "min       18.200000\n",
       "25%       25.600000\n",
       "50%       30.100000\n",
       "75%       35.300000\n",
       "max       57.300000\n",
       "Name: BMI, dtype: float64"
      ]
     },
     "execution_count": 85,
     "metadata": {},
     "output_type": "execute_result"
    }
   ],
   "source": [
    "# BMI in diabetes-negative\n",
    "df[df['Outcome'] == 0]['BMI'].describe()"
   ]
  },
  {
   "cell_type": "code",
   "execution_count": 86,
   "id": "informative-ottawa",
   "metadata": {},
   "outputs": [
    {
     "data": {
      "text/plain": [
       "count    266.000000\n",
       "mean      35.406767\n",
       "std        6.614982\n",
       "min       22.900000\n",
       "25%       30.900000\n",
       "50%       34.300000\n",
       "75%       38.925000\n",
       "max       67.100000\n",
       "Name: BMI, dtype: float64"
      ]
     },
     "execution_count": 86,
     "metadata": {},
     "output_type": "execute_result"
    }
   ],
   "source": [
    "# BMI in diabetes-posiitve\n",
    "df[df['Outcome'] == 1]['BMI'].describe()"
   ]
  },
  {
   "cell_type": "code",
   "execution_count": 87,
   "id": "electric-cholesterol",
   "metadata": {},
   "outputs": [
    {
     "data": {
      "image/png": "[encoded data removed]",
      "text/plain": [
       "<Figure size 432x288 with 1 Axes>"
      ]
     },
     "metadata": {
      "needs_background": "light"
     },
     "output_type": "display_data"
    }
   ],
   "source": [
    "# Histograms\n",
    "\n",
    "# Plotting histograms\n",
    "plt.hist(df[df['Outcome'] == 0]['BMI'],  alpha=0.5, label='Diabetes Negative')\n",
    "plt.hist(df[df['Outcome'] == 1]['BMI'],  alpha=0.5, label='Diabetes Positive')\n",
    "plt.legend(loc='upper right')\n",
    "x = plt.title('BMI')"
   ]
  },
  {
   "cell_type": "code",
   "execution_count": 88,
   "id": "collectible-kelly",
   "metadata": {},
   "outputs": [
    {
     "data": {
      "image/png": "[encoded data removed]",
      "text/plain": [
       "<Figure size 432x288 with 2 Axes>"
      ]
     },
     "metadata": {
      "needs_background": "light"
     },
     "output_type": "display_data"
    }
   ],
   "source": [
    "fig, axs = plt.subplots(2, 1, sharey=True, tight_layout=True)\n",
    "fig.suptitle('BMI')\n",
    "axs[0].hist(df[df['Outcome'] == 0]['BMI'])\n",
    "axs[0].set_title('Diabetes Negative')\n",
    "axs[1].hist(df[df['Outcome'] == 1]['BMI'])\n",
    "x = axs[1].set_title('Diabetes Positive')"
   ]
  },
  {
   "cell_type": "markdown",
   "id": "elegant-chicken",
   "metadata": {},
   "source": [
    "### Diabetes Pedigree Function (DiabetesPedigreeFunction)"
   ]
  },
  {
   "cell_type": "code",
   "execution_count": 89,
   "id": "through-wealth",
   "metadata": {},
   "outputs": [
    {
     "data": {
      "text/plain": [
       "count    768.000000\n",
       "mean       0.471876\n",
       "std        0.331329\n",
       "min        0.078000\n",
       "25%        0.243750\n",
       "50%        0.372500\n",
       "75%        0.626250\n",
       "max        2.420000\n",
       "Name: DiabetesPedigreeFunction, dtype: float64"
      ]
     },
     "execution_count": 89,
     "metadata": {},
     "output_type": "execute_result"
    }
   ],
   "source": [
    "df['DiabetesPedigreeFunction'].describe()"
   ]
  },
  {
   "cell_type": "code",
   "execution_count": 90,
   "id": "unusual-medication",
   "metadata": {},
   "outputs": [
    {
     "data": {
      "image/png": "[encoded data removed]",
      "text/plain": [
       "<Figure size 432x288 with 1 Axes>"
      ]
     },
     "metadata": {
      "needs_background": "light"
     },
     "output_type": "display_data"
    }
   ],
   "source": [
    "# Histogram \n",
    "plt.hist(df['DiabetesPedigreeFunction'])\n",
    "x = plt.title('Diabetes Pedigree Function')"
   ]
  },
  {
   "cell_type": "code",
   "execution_count": 91,
   "id": "flush-trust",
   "metadata": {},
   "outputs": [
    {
     "data": {
      "image/png": "[encoded data removed]",
      "text/plain": [
       "<Figure size 432x288 with 1 Axes>"
      ]
     },
     "metadata": {
      "needs_background": "light"
     },
     "output_type": "display_data"
    }
   ],
   "source": [
    "# Boxplot\n",
    "df.boxplot(column=['DiabetesPedigreeFunction'],return_type='axes');"
   ]
  },
  {
   "cell_type": "code",
   "execution_count": 92,
   "id": "dutch-banana",
   "metadata": {},
   "outputs": [],
   "source": [
    "# Filter outliers"
   ]
  },
  {
   "cell_type": "code",
   "execution_count": 93,
   "id": "medieval-sleeve",
   "metadata": {},
   "outputs": [
    {
     "data": {
      "text/plain": [
       "count    500.000000\n",
       "mean       0.429734\n",
       "std        0.299085\n",
       "min        0.078000\n",
       "25%        0.229750\n",
       "50%        0.336000\n",
       "75%        0.561750\n",
       "max        2.329000\n",
       "Name: DiabetesPedigreeFunction, dtype: float64"
      ]
     },
     "execution_count": 93,
     "metadata": {},
     "output_type": "execute_result"
    }
   ],
   "source": [
    "# Diabetes Pedigree Function in diabetes-negative\n",
    "df[df['Outcome'] == 0]['DiabetesPedigreeFunction'].describe()"
   ]
  },
  {
   "cell_type": "code",
   "execution_count": 94,
   "id": "corporate-wholesale",
   "metadata": {},
   "outputs": [
    {
     "data": {
      "text/plain": [
       "count    268.000000\n",
       "mean       0.550500\n",
       "std        0.372354\n",
       "min        0.088000\n",
       "25%        0.262500\n",
       "50%        0.449000\n",
       "75%        0.728000\n",
       "max        2.420000\n",
       "Name: DiabetesPedigreeFunction, dtype: float64"
      ]
     },
     "execution_count": 94,
     "metadata": {},
     "output_type": "execute_result"
    }
   ],
   "source": [
    "# Diabetes Pedigree Function in diabetes-positive\n",
    "df[df['Outcome'] == 1]['DiabetesPedigreeFunction'].describe()"
   ]
  },
  {
   "cell_type": "code",
   "execution_count": 95,
   "id": "potential-corporation",
   "metadata": {},
   "outputs": [
    {
     "data": {
      "image/png": "[encoded data removed]",
      "text/plain": [
       "<Figure size 432x288 with 1 Axes>"
      ]
     },
     "metadata": {
      "needs_background": "light"
     },
     "output_type": "display_data"
    }
   ],
   "source": [
    "# Histograms\n",
    "\n",
    "# Plotting histograms\n",
    "plt.hist(df[df['Outcome'] == 0]['DiabetesPedigreeFunction'],  alpha=0.5, label='Diabetes Negative')\n",
    "plt.hist(df[df['Outcome'] == 1]['DiabetesPedigreeFunction'],  alpha=0.5, label='Diabetes Positive')\n",
    "plt.legend(loc='upper right')\n",
    "x = plt.title('Diabetes Pedigree Function')"
   ]
  },
  {
   "cell_type": "code",
   "execution_count": 96,
   "id": "placed-council",
   "metadata": {},
   "outputs": [
    {
     "data": {
      "image/png": "[encoded data removed]",
      "text/plain": [
       "<Figure size 432x288 with 2 Axes>"
      ]
     },
     "metadata": {
      "needs_background": "light"
     },
     "output_type": "display_data"
    }
   ],
   "source": [
    "fig, axs = plt.subplots(2, 1, sharey=True, tight_layout=True)\n",
    "fig.suptitle('Diabetes Pedigree Function')\n",
    "axs[0].hist(df[df['Outcome'] == 0]['DiabetesPedigreeFunction'])\n",
    "axs[0].set_title('Diabetes Negative')\n",
    "axs[1].hist(df[df['Outcome'] == 1]['DiabetesPedigreeFunction'])\n",
    "x = axs[1].set_title('Diabetes Positive')"
   ]
  },
  {
   "cell_type": "markdown",
   "id": "fabulous-response",
   "metadata": {},
   "source": [
    "### Edad (Age)"
   ]
  },
  {
   "cell_type": "code",
   "execution_count": 97,
   "id": "cardiac-devil",
   "metadata": {},
   "outputs": [
    {
     "data": {
      "text/plain": [
       "count    768.000000\n",
       "mean      33.240885\n",
       "std       11.760232\n",
       "min       21.000000\n",
       "25%       24.000000\n",
       "50%       29.000000\n",
       "75%       41.000000\n",
       "max       81.000000\n",
       "Name: Age, dtype: float64"
      ]
     },
     "execution_count": 97,
     "metadata": {},
     "output_type": "execute_result"
    }
   ],
   "source": [
    "df['Age'].describe()"
   ]
  },
  {
   "cell_type": "code",
   "execution_count": 100,
   "id": "equipped-laser",
   "metadata": {},
   "outputs": [
    {
     "data": {
      "image/png": "[encoded data removed]",
      "text/plain": [
       "<Figure size 432x288 with 1 Axes>"
      ]
     },
     "metadata": {
      "needs_background": "light"
     },
     "output_type": "display_data"
    }
   ],
   "source": [
    "# Histogram \n",
    "plt.hist(df['Age'])\n",
    "x = plt.title('Age')"
   ]
  },
  {
   "cell_type": "code",
   "execution_count": 103,
   "id": "difficult-mainstream",
   "metadata": {},
   "outputs": [
    {
     "data": {
      "image/png": "[encoded data removed]",
      "text/plain": [
       "<Figure size 432x288 with 1 Axes>"
      ]
     },
     "metadata": {
      "needs_background": "light"
     },
     "output_type": "display_data"
    }
   ],
   "source": [
    "# Boxplot\n",
    "df.boxplot(column=['Age'],return_type='axes');"
   ]
  },
  {
   "cell_type": "code",
   "execution_count": 104,
   "id": "unauthorized-dakota",
   "metadata": {},
   "outputs": [],
   "source": [
    "# Filter outliers"
   ]
  },
  {
   "cell_type": "code",
   "execution_count": 105,
   "id": "mathematical-queensland",
   "metadata": {},
   "outputs": [
    {
     "data": {
      "text/plain": [
       "count    500.000000\n",
       "mean      31.190000\n",
       "std       11.667655\n",
       "min       21.000000\n",
       "25%       23.000000\n",
       "50%       27.000000\n",
       "75%       37.000000\n",
       "max       81.000000\n",
       "Name: Age, dtype: float64"
      ]
     },
     "execution_count": 105,
     "metadata": {},
     "output_type": "execute_result"
    }
   ],
   "source": [
    "# Age in diabetes-negative\n",
    "df[df['Outcome'] == 0]['Age'].describe()"
   ]
  },
  {
   "cell_type": "code",
   "execution_count": 106,
   "id": "competitive-camping",
   "metadata": {},
   "outputs": [
    {
     "data": {
      "text/plain": [
       "count    268.000000\n",
       "mean      37.067164\n",
       "std       10.968254\n",
       "min       21.000000\n",
       "25%       28.000000\n",
       "50%       36.000000\n",
       "75%       44.000000\n",
       "max       70.000000\n",
       "Name: Age, dtype: float64"
      ]
     },
     "execution_count": 106,
     "metadata": {},
     "output_type": "execute_result"
    }
   ],
   "source": [
    "# Age in diabetes-positive\n",
    "df[df['Outcome'] == 1]['Age'].describe()"
   ]
  },
  {
   "cell_type": "code",
   "execution_count": 107,
   "id": "handed-necklace",
   "metadata": {},
   "outputs": [
    {
     "data": {
      "image/png": "[encoded data removed]",
      "text/plain": [
       "<Figure size 432x288 with 1 Axes>"
      ]
     },
     "metadata": {
      "needs_background": "light"
     },
     "output_type": "display_data"
    }
   ],
   "source": [
    "# Histograms\n",
    "\n",
    "# Plotting histograms\n",
    "plt.hist(df[df['Outcome'] == 0]['Age'],  alpha=0.5, label='Diabetes Negative')\n",
    "plt.hist(df[df['Outcome'] == 1]['Age'],  alpha=0.5, label='Diabetes Positive')\n",
    "plt.legend(loc='upper right')\n",
    "x = plt.title('Age')"
   ]
  },
  {
   "cell_type": "code",
   "execution_count": 108,
   "id": "quick-hazard",
   "metadata": {},
   "outputs": [
    {
     "data": {
      "image/png": "[encoded data removed]",
      "text/plain": [
       "<Figure size 432x288 with 2 Axes>"
      ]
     },
     "metadata": {
      "needs_background": "light"
     },
     "output_type": "display_data"
    }
   ],
   "source": [
    "fig, axs = plt.subplots(2, 1, sharey=True, tight_layout=True)\n",
    "fig.suptitle('Age')\n",
    "axs[0].hist(df[df['Outcome'] == 0]['Age'])\n",
    "axs[0].set_title('Diabetes Negative')\n",
    "axs[1].hist(df[df['Outcome'] == 1]['Age'])\n",
    "x = axs[1].set_title('Diabetes Positive')"
   ]
  }
 ],
 "metadata": {
  "kernelspec": {
   "display_name": "Python 3",
   "language": "python",
   "name": "python3"
  },
  "language_info": {
   "codemirror_mode": {
    "name": "ipython",
    "version": 3
   },
   "file_extension": ".py",
   "mimetype": "text/x-python",
   "name": "python",
   "nbconvert_exporter": "python",
   "pygments_lexer": "ipython3",
   "version": "3.9.2"
  }
 },
 "nbformat": 4,
 "nbformat_minor": 5
}
