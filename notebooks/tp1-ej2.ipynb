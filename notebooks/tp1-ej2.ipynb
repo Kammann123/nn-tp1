{
 "cells": [
  {
   "cell_type": "markdown",
   "id": "close-number",
   "metadata": {
    "tags": []
   },
   "source": [
    "# Redes Neuronales\n",
    "## Trabajo Práctico N° 1 - Ejercicio 2\n",
    "* Kammann, Lucas Agustín\n",
    "* Gaytan, Joaquín Oscar\n",
    "\n",
    "### Consultas y/o dudas\n",
    "* Es lógico glucosa = 0?\n",
    "* Estimar probabilidades de un valor determinado en VAC\n",
    "* Criterio para identificar outliers (\"leve\"?)\n",
    "\n",
    "### To do\n",
    "* Agregar cantidad de ceros por variable\n",
    "* Explicación probabilística del clasificador\n",
    "* Juntar las acciones repetitivas (gráficos) en funciones\n"
   ]
  },
  {
   "cell_type": "markdown",
   "id": "quarterly-desktop",
   "metadata": {},
   "source": [
    "# Descripción del problema\n",
    "Se busca desarrollar un clasificador para poder predcir la aparición de diabetes en un individuo a partir de algunas de sus características biológicas. Dicha clasificación se realiza a partir del Prima Indians Diabetes Dataset, pereteneciente al National Institute of Diabetes and Digestive and Kidney Diseases. Esta base de datos comprende pacientes femeninos de al menos 21 años de edad, de herencia Prima Indian.\n",
    "\n",
    "* INSERTAR CÓMO SE RESUELVE EL PROBLEMA A NIVEL PROBABILÍSTICO."
   ]
  },
  {
   "cell_type": "markdown",
   "id": "extended-montgomery",
   "metadata": {},
   "source": [
    "# Análisis y filtrado de la base de datos"
   ]
  },
  {
   "cell_type": "markdown",
   "id": "dedicated-damage",
   "metadata": {},
   "source": [
    "En primer lugar, se importa la base de datos mencionada anteriormente para poder ser procesada. Además se muestran las primeras filas."
   ]
  },
  {
   "cell_type": "code",
   "execution_count": 1,
   "id": "subjective-chart",
   "metadata": {},
   "outputs": [
    {
     "data": {
      "text/html": [
       "<div>\n",
       "<style scoped>\n",
       "    .dataframe tbody tr th:only-of-type {\n",
       "        vertical-align: middle;\n",
       "    }\n",
       "\n",
       "    .dataframe tbody tr th {\n",
       "        vertical-align: top;\n",
       "    }\n",
       "\n",
       "    .dataframe thead th {\n",
       "        text-align: right;\n",
       "    }\n",
       "</style>\n",
       "<table border=\"1\" class=\"dataframe\">\n",
       "  <thead>\n",
       "    <tr style=\"text-align: right;\">\n",
       "      <th></th>\n",
       "      <th>Pregnancies</th>\n",
       "      <th>Glucose</th>\n",
       "      <th>BloodPressure</th>\n",
       "      <th>SkinThickness</th>\n",
       "      <th>Insulin</th>\n",
       "      <th>BMI</th>\n",
       "      <th>DiabetesPedigreeFunction</th>\n",
       "      <th>Age</th>\n",
       "      <th>Outcome</th>\n",
       "    </tr>\n",
       "  </thead>\n",
       "  <tbody>\n",
       "    <tr>\n",
       "      <th>0</th>\n",
       "      <td>6</td>\n",
       "      <td>148</td>\n",
       "      <td>72</td>\n",
       "      <td>35</td>\n",
       "      <td>0</td>\n",
       "      <td>33.6</td>\n",
       "      <td>0.627</td>\n",
       "      <td>50</td>\n",
       "      <td>1</td>\n",
       "    </tr>\n",
       "    <tr>\n",
       "      <th>1</th>\n",
       "      <td>1</td>\n",
       "      <td>85</td>\n",
       "      <td>66</td>\n",
       "      <td>29</td>\n",
       "      <td>0</td>\n",
       "      <td>26.6</td>\n",
       "      <td>0.351</td>\n",
       "      <td>31</td>\n",
       "      <td>0</td>\n",
       "    </tr>\n",
       "    <tr>\n",
       "      <th>2</th>\n",
       "      <td>8</td>\n",
       "      <td>183</td>\n",
       "      <td>64</td>\n",
       "      <td>0</td>\n",
       "      <td>0</td>\n",
       "      <td>23.3</td>\n",
       "      <td>0.672</td>\n",
       "      <td>32</td>\n",
       "      <td>1</td>\n",
       "    </tr>\n",
       "    <tr>\n",
       "      <th>3</th>\n",
       "      <td>1</td>\n",
       "      <td>89</td>\n",
       "      <td>66</td>\n",
       "      <td>23</td>\n",
       "      <td>94</td>\n",
       "      <td>28.1</td>\n",
       "      <td>0.167</td>\n",
       "      <td>21</td>\n",
       "      <td>0</td>\n",
       "    </tr>\n",
       "    <tr>\n",
       "      <th>4</th>\n",
       "      <td>0</td>\n",
       "      <td>137</td>\n",
       "      <td>40</td>\n",
       "      <td>35</td>\n",
       "      <td>168</td>\n",
       "      <td>43.1</td>\n",
       "      <td>2.288</td>\n",
       "      <td>33</td>\n",
       "      <td>1</td>\n",
       "    </tr>\n",
       "  </tbody>\n",
       "</table>\n",
       "</div>"
      ],
      "text/plain": [
       "   Pregnancies  Glucose  BloodPressure  SkinThickness  Insulin   BMI  \\\n",
       "0            6      148             72             35        0  33.6   \n",
       "1            1       85             66             29        0  26.6   \n",
       "2            8      183             64              0        0  23.3   \n",
       "3            1       89             66             23       94  28.1   \n",
       "4            0      137             40             35      168  43.1   \n",
       "\n",
       "   DiabetesPedigreeFunction  Age  Outcome  \n",
       "0                     0.627   50        1  \n",
       "1                     0.351   31        0  \n",
       "2                     0.672   32        1  \n",
       "3                     0.167   21        0  \n",
       "4                     2.288   33        1  "
      ]
     },
     "execution_count": 1,
     "metadata": {},
     "output_type": "execute_result"
    }
   ],
   "source": [
    "import pandas as pd\n",
    "\n",
    "# Read database from .csv\n",
    "df = pd.read_csv('../assets/diabetes.csv', delimiter=',')\n",
    "\n",
    "# Show first rows of data\n",
    "df.head()"
   ]
  },
  {
   "cell_type": "markdown",
   "id": "arbitrary-canyon",
   "metadata": {},
   "source": [
    "Como se observa en la tabla anterior, las variables a considerar para estimar la presencia de diabetes en una persona son las siguientes:\n",
    "\n",
    "*   Pregnancies (embarazos): Número de embarazos\n",
    "*   Glucose: Concentración de glucosa en sangre a 2 horas de una prueba de tolerancia de glucosa oral.\n",
    "*   BloodPresure (Presión sanguinea): Presión diastólica (mm Hg)\n",
    "*   SkinThickness: Tamaño del pliegue de la piel del triceps\n",
    "*   Insulin: Insulina en sangre a 2 horas (mu U/ml)\n",
    "*   BMI: Indice de masa corporal (peso en kg / (altura en metros)^2)\n",
    "*   DiabetesPedigreeFunction: Una función que estima el likelihood de tener diabetes dado el historial familiar\n",
    "*   Age: Edad (años)\n",
    "*   Outcome: Variable 0 o 1 (0 no posee diabtes, 1 posee diabetes)\n",
    "\n",
    "Antes de comenzar con el análisis estadístico de cada una de estas variables es necesario filtrar aquellos valores que no fueron informados. De lo contrario, estos valores sin sentido afectarán el desempeño del modelo al realizar la predicción.\n",
    "\n",
    "## Filtrado de datos inválidos"
   ]
  },
  {
   "cell_type": "code",
   "execution_count": 2,
   "id": "secondary-consumer",
   "metadata": {},
   "outputs": [
    {
     "name": "stdout",
     "output_type": "stream",
     "text": [
      "<class 'pandas.core.frame.DataFrame'>\n",
      "RangeIndex: 768 entries, 0 to 767\n",
      "Data columns (total 9 columns):\n",
      " #   Column                    Non-Null Count  Dtype  \n",
      "---  ------                    --------------  -----  \n",
      " 0   Pregnancies               768 non-null    int64  \n",
      " 1   Glucose                   768 non-null    int64  \n",
      " 2   BloodPressure             768 non-null    int64  \n",
      " 3   SkinThickness             768 non-null    int64  \n",
      " 4   Insulin                   768 non-null    int64  \n",
      " 5   BMI                       768 non-null    float64\n",
      " 6   DiabetesPedigreeFunction  768 non-null    float64\n",
      " 7   Age                       768 non-null    int64  \n",
      " 8   Outcome                   768 non-null    int64  \n",
      "dtypes: float64(2), int64(7)\n",
      "memory usage: 54.1 KB\n"
     ]
    }
   ],
   "source": [
    "# Show database variables and their characteristics\n",
    "df.info()"
   ]
  },
  {
   "cell_type": "code",
   "execution_count": 3,
   "id": "comprehensive-cradle",
   "metadata": {},
   "outputs": [
    {
     "data": {
      "text/html": [
       "<div>\n",
       "<style scoped>\n",
       "    .dataframe tbody tr th:only-of-type {\n",
       "        vertical-align: middle;\n",
       "    }\n",
       "\n",
       "    .dataframe tbody tr th {\n",
       "        vertical-align: top;\n",
       "    }\n",
       "\n",
       "    .dataframe thead th {\n",
       "        text-align: right;\n",
       "    }\n",
       "</style>\n",
       "<table border=\"1\" class=\"dataframe\">\n",
       "  <thead>\n",
       "    <tr style=\"text-align: right;\">\n",
       "      <th></th>\n",
       "      <th>Pregnancies</th>\n",
       "      <th>Glucose</th>\n",
       "      <th>BloodPressure</th>\n",
       "      <th>SkinThickness</th>\n",
       "      <th>Insulin</th>\n",
       "      <th>BMI</th>\n",
       "      <th>DiabetesPedigreeFunction</th>\n",
       "      <th>Age</th>\n",
       "      <th>Outcome</th>\n",
       "    </tr>\n",
       "  </thead>\n",
       "  <tbody>\n",
       "    <tr>\n",
       "      <th>count</th>\n",
       "      <td>768.000000</td>\n",
       "      <td>768.000000</td>\n",
       "      <td>768.000000</td>\n",
       "      <td>768.000000</td>\n",
       "      <td>768.000000</td>\n",
       "      <td>768.000000</td>\n",
       "      <td>768.000000</td>\n",
       "      <td>768.000000</td>\n",
       "      <td>768.000000</td>\n",
       "    </tr>\n",
       "    <tr>\n",
       "      <th>mean</th>\n",
       "      <td>3.845052</td>\n",
       "      <td>120.894531</td>\n",
       "      <td>69.105469</td>\n",
       "      <td>20.536458</td>\n",
       "      <td>79.799479</td>\n",
       "      <td>31.992578</td>\n",
       "      <td>0.471876</td>\n",
       "      <td>33.240885</td>\n",
       "      <td>0.348958</td>\n",
       "    </tr>\n",
       "    <tr>\n",
       "      <th>std</th>\n",
       "      <td>3.369578</td>\n",
       "      <td>31.972618</td>\n",
       "      <td>19.355807</td>\n",
       "      <td>15.952218</td>\n",
       "      <td>115.244002</td>\n",
       "      <td>7.884160</td>\n",
       "      <td>0.331329</td>\n",
       "      <td>11.760232</td>\n",
       "      <td>0.476951</td>\n",
       "    </tr>\n",
       "    <tr>\n",
       "      <th>min</th>\n",
       "      <td>0.000000</td>\n",
       "      <td>0.000000</td>\n",
       "      <td>0.000000</td>\n",
       "      <td>0.000000</td>\n",
       "      <td>0.000000</td>\n",
       "      <td>0.000000</td>\n",
       "      <td>0.078000</td>\n",
       "      <td>21.000000</td>\n",
       "      <td>0.000000</td>\n",
       "    </tr>\n",
       "    <tr>\n",
       "      <th>25%</th>\n",
       "      <td>1.000000</td>\n",
       "      <td>99.000000</td>\n",
       "      <td>62.000000</td>\n",
       "      <td>0.000000</td>\n",
       "      <td>0.000000</td>\n",
       "      <td>27.300000</td>\n",
       "      <td>0.243750</td>\n",
       "      <td>24.000000</td>\n",
       "      <td>0.000000</td>\n",
       "    </tr>\n",
       "    <tr>\n",
       "      <th>50%</th>\n",
       "      <td>3.000000</td>\n",
       "      <td>117.000000</td>\n",
       "      <td>72.000000</td>\n",
       "      <td>23.000000</td>\n",
       "      <td>30.500000</td>\n",
       "      <td>32.000000</td>\n",
       "      <td>0.372500</td>\n",
       "      <td>29.000000</td>\n",
       "      <td>0.000000</td>\n",
       "    </tr>\n",
       "    <tr>\n",
       "      <th>75%</th>\n",
       "      <td>6.000000</td>\n",
       "      <td>140.250000</td>\n",
       "      <td>80.000000</td>\n",
       "      <td>32.000000</td>\n",
       "      <td>127.250000</td>\n",
       "      <td>36.600000</td>\n",
       "      <td>0.626250</td>\n",
       "      <td>41.000000</td>\n",
       "      <td>1.000000</td>\n",
       "    </tr>\n",
       "    <tr>\n",
       "      <th>max</th>\n",
       "      <td>17.000000</td>\n",
       "      <td>199.000000</td>\n",
       "      <td>122.000000</td>\n",
       "      <td>99.000000</td>\n",
       "      <td>846.000000</td>\n",
       "      <td>67.100000</td>\n",
       "      <td>2.420000</td>\n",
       "      <td>81.000000</td>\n",
       "      <td>1.000000</td>\n",
       "    </tr>\n",
       "  </tbody>\n",
       "</table>\n",
       "</div>"
      ],
      "text/plain": [
       "       Pregnancies     Glucose  BloodPressure  SkinThickness     Insulin  \\\n",
       "count   768.000000  768.000000     768.000000     768.000000  768.000000   \n",
       "mean      3.845052  120.894531      69.105469      20.536458   79.799479   \n",
       "std       3.369578   31.972618      19.355807      15.952218  115.244002   \n",
       "min       0.000000    0.000000       0.000000       0.000000    0.000000   \n",
       "25%       1.000000   99.000000      62.000000       0.000000    0.000000   \n",
       "50%       3.000000  117.000000      72.000000      23.000000   30.500000   \n",
       "75%       6.000000  140.250000      80.000000      32.000000  127.250000   \n",
       "max      17.000000  199.000000     122.000000      99.000000  846.000000   \n",
       "\n",
       "              BMI  DiabetesPedigreeFunction         Age     Outcome  \n",
       "count  768.000000                768.000000  768.000000  768.000000  \n",
       "mean    31.992578                  0.471876   33.240885    0.348958  \n",
       "std      7.884160                  0.331329   11.760232    0.476951  \n",
       "min      0.000000                  0.078000   21.000000    0.000000  \n",
       "25%     27.300000                  0.243750   24.000000    0.000000  \n",
       "50%     32.000000                  0.372500   29.000000    0.000000  \n",
       "75%     36.600000                  0.626250   41.000000    1.000000  \n",
       "max     67.100000                  2.420000   81.000000    1.000000  "
      ]
     },
     "execution_count": 3,
     "metadata": {},
     "output_type": "execute_result"
    }
   ],
   "source": [
    "# Describing database\n",
    "df.describe()"
   ]
  },
  {
   "cell_type": "markdown",
   "id": "civic-denver",
   "metadata": {},
   "source": [
    "De la tabla anterior se aprecia que hay ciertas variables biológicas que adoptan valores inválidos. Por ejemplo, la presión sanguínea no puede ser nula. Lo mismo sucede con la glucosa, el grosor de la piel, el nivel de insulina, el ínidice de masa corporal. Luego, se reemplazan aquellos valores sin sentido por un NaN (not a number) para evitar que sean contemplados al realizar el análisis estadístico posterior."
   ]
  },
  {
   "cell_type": "code",
   "execution_count": 4,
   "id": "turkish-stereo",
   "metadata": {},
   "outputs": [
    {
     "data": {
      "text/html": [
       "<div>\n",
       "<style scoped>\n",
       "    .dataframe tbody tr th:only-of-type {\n",
       "        vertical-align: middle;\n",
       "    }\n",
       "\n",
       "    .dataframe tbody tr th {\n",
       "        vertical-align: top;\n",
       "    }\n",
       "\n",
       "    .dataframe thead th {\n",
       "        text-align: right;\n",
       "    }\n",
       "</style>\n",
       "<table border=\"1\" class=\"dataframe\">\n",
       "  <thead>\n",
       "    <tr style=\"text-align: right;\">\n",
       "      <th></th>\n",
       "      <th>Pregnancies</th>\n",
       "      <th>Glucose</th>\n",
       "      <th>BloodPressure</th>\n",
       "      <th>SkinThickness</th>\n",
       "      <th>Insulin</th>\n",
       "      <th>BMI</th>\n",
       "      <th>DiabetesPedigreeFunction</th>\n",
       "      <th>Age</th>\n",
       "      <th>Outcome</th>\n",
       "    </tr>\n",
       "  </thead>\n",
       "  <tbody>\n",
       "    <tr>\n",
       "      <th>count</th>\n",
       "      <td>768.000000</td>\n",
       "      <td>763.000000</td>\n",
       "      <td>733.000000</td>\n",
       "      <td>541.000000</td>\n",
       "      <td>394.000000</td>\n",
       "      <td>757.000000</td>\n",
       "      <td>768.000000</td>\n",
       "      <td>768.000000</td>\n",
       "      <td>768.000000</td>\n",
       "    </tr>\n",
       "    <tr>\n",
       "      <th>mean</th>\n",
       "      <td>3.845052</td>\n",
       "      <td>121.686763</td>\n",
       "      <td>72.405184</td>\n",
       "      <td>29.153420</td>\n",
       "      <td>155.548223</td>\n",
       "      <td>32.457464</td>\n",
       "      <td>0.471876</td>\n",
       "      <td>33.240885</td>\n",
       "      <td>0.348958</td>\n",
       "    </tr>\n",
       "    <tr>\n",
       "      <th>std</th>\n",
       "      <td>3.369578</td>\n",
       "      <td>30.535641</td>\n",
       "      <td>12.382158</td>\n",
       "      <td>10.476982</td>\n",
       "      <td>118.775855</td>\n",
       "      <td>6.924988</td>\n",
       "      <td>0.331329</td>\n",
       "      <td>11.760232</td>\n",
       "      <td>0.476951</td>\n",
       "    </tr>\n",
       "    <tr>\n",
       "      <th>min</th>\n",
       "      <td>0.000000</td>\n",
       "      <td>44.000000</td>\n",
       "      <td>24.000000</td>\n",
       "      <td>7.000000</td>\n",
       "      <td>14.000000</td>\n",
       "      <td>18.200000</td>\n",
       "      <td>0.078000</td>\n",
       "      <td>21.000000</td>\n",
       "      <td>0.000000</td>\n",
       "    </tr>\n",
       "    <tr>\n",
       "      <th>25%</th>\n",
       "      <td>1.000000</td>\n",
       "      <td>99.000000</td>\n",
       "      <td>64.000000</td>\n",
       "      <td>22.000000</td>\n",
       "      <td>76.250000</td>\n",
       "      <td>27.500000</td>\n",
       "      <td>0.243750</td>\n",
       "      <td>24.000000</td>\n",
       "      <td>0.000000</td>\n",
       "    </tr>\n",
       "    <tr>\n",
       "      <th>50%</th>\n",
       "      <td>3.000000</td>\n",
       "      <td>117.000000</td>\n",
       "      <td>72.000000</td>\n",
       "      <td>29.000000</td>\n",
       "      <td>125.000000</td>\n",
       "      <td>32.300000</td>\n",
       "      <td>0.372500</td>\n",
       "      <td>29.000000</td>\n",
       "      <td>0.000000</td>\n",
       "    </tr>\n",
       "    <tr>\n",
       "      <th>75%</th>\n",
       "      <td>6.000000</td>\n",
       "      <td>141.000000</td>\n",
       "      <td>80.000000</td>\n",
       "      <td>36.000000</td>\n",
       "      <td>190.000000</td>\n",
       "      <td>36.600000</td>\n",
       "      <td>0.626250</td>\n",
       "      <td>41.000000</td>\n",
       "      <td>1.000000</td>\n",
       "    </tr>\n",
       "    <tr>\n",
       "      <th>max</th>\n",
       "      <td>17.000000</td>\n",
       "      <td>199.000000</td>\n",
       "      <td>122.000000</td>\n",
       "      <td>99.000000</td>\n",
       "      <td>846.000000</td>\n",
       "      <td>67.100000</td>\n",
       "      <td>2.420000</td>\n",
       "      <td>81.000000</td>\n",
       "      <td>1.000000</td>\n",
       "    </tr>\n",
       "  </tbody>\n",
       "</table>\n",
       "</div>"
      ],
      "text/plain": [
       "       Pregnancies     Glucose  BloodPressure  SkinThickness     Insulin  \\\n",
       "count   768.000000  763.000000     733.000000     541.000000  394.000000   \n",
       "mean      3.845052  121.686763      72.405184      29.153420  155.548223   \n",
       "std       3.369578   30.535641      12.382158      10.476982  118.775855   \n",
       "min       0.000000   44.000000      24.000000       7.000000   14.000000   \n",
       "25%       1.000000   99.000000      64.000000      22.000000   76.250000   \n",
       "50%       3.000000  117.000000      72.000000      29.000000  125.000000   \n",
       "75%       6.000000  141.000000      80.000000      36.000000  190.000000   \n",
       "max      17.000000  199.000000     122.000000      99.000000  846.000000   \n",
       "\n",
       "              BMI  DiabetesPedigreeFunction         Age     Outcome  \n",
       "count  757.000000                768.000000  768.000000  768.000000  \n",
       "mean    32.457464                  0.471876   33.240885    0.348958  \n",
       "std      6.924988                  0.331329   11.760232    0.476951  \n",
       "min     18.200000                  0.078000   21.000000    0.000000  \n",
       "25%     27.500000                  0.243750   24.000000    0.000000  \n",
       "50%     32.300000                  0.372500   29.000000    0.000000  \n",
       "75%     36.600000                  0.626250   41.000000    1.000000  \n",
       "max     67.100000                  2.420000   81.000000    1.000000  "
      ]
     },
     "execution_count": 4,
     "metadata": {},
     "output_type": "execute_result"
    }
   ],
   "source": [
    "import numpy as np\n",
    "\n",
    "# Filtering Glucose values\n",
    "df['Glucose'].replace(0, np.nan, inplace=True)\n",
    "\n",
    "# Filtering Blood Pressure values\n",
    "df['BloodPressure'].replace(0, np.nan, inplace=True)\n",
    "\n",
    "# Filtering Skin Thickness values\n",
    "df['SkinThickness'].replace(0, np.nan, inplace=True)\n",
    "\n",
    "# Filtering Insulin values\n",
    "df['Insulin'].replace(0, np.nan, inplace=True)\n",
    "\n",
    "# Filtering Body Mass Index values\n",
    "df['BMI'].replace(0, np.nan, inplace=True)\n",
    "\n",
    "# Describing filtered dataset characterisics\n",
    "df.describe()"
   ]
  },
  {
   "cell_type": "markdown",
   "id": "palestinian-engineer",
   "metadata": {},
   "source": [
    "## Análisis de variables\n",
    "Para cada variable involucrada se realiza un análisis estadístico, diferenciando entre aquellos casos positivos en diabetes y aquellos que no lo son.\n",
    "### Embarazos (\"Pregnancies\")"
   ]
  },
  {
   "cell_type": "code",
   "execution_count": 5,
   "id": "armed-blank",
   "metadata": {},
   "outputs": [
    {
     "data": {
      "text/plain": [
       "count    768.000000\n",
       "mean       3.845052\n",
       "std        3.369578\n",
       "min        0.000000\n",
       "25%        1.000000\n",
       "50%        3.000000\n",
       "75%        6.000000\n",
       "max       17.000000\n",
       "Name: Pregnancies, dtype: float64"
      ]
     },
     "execution_count": 5,
     "metadata": {},
     "output_type": "execute_result"
    }
   ],
   "source": [
    "import matplotlib.pyplot as plt\n",
    "\n",
    "df[\"Pregnancies\"].describe()"
   ]
  },
  {
   "cell_type": "code",
   "execution_count": 6,
   "id": "right-advertising",
   "metadata": {},
   "outputs": [
    {
     "data": {
      "image/png": "[encoded data removed]",
      "text/plain": [
       "<Figure size 432x288 with 1 Axes>"
      ]
     },
     "metadata": {
      "needs_background": "light"
     },
     "output_type": "display_data"
    }
   ],
   "source": [
    "# Bins for discrete variable\n",
    "pregBins = np.arange(-0.5,df[\"Pregnancies\"].max()+0.5,1)\n",
    "plt.hist(df['Pregnancies'], bins = pregBins)\n",
    "x = plt.title(\"Pregnancies\")"
   ]
  },
  {
   "cell_type": "code",
   "execution_count": 7,
   "id": "available-stone",
   "metadata": {},
   "outputs": [
    {
     "data": {
      "image/png": "[encoded data removed]",
      "text/plain": [
       "<Figure size 432x288 with 1 Axes>"
      ]
     },
     "metadata": {
      "needs_background": "light"
     },
     "output_type": "display_data"
    }
   ],
   "source": [
    "# Boxplot\n",
    "df.boxplot(column=['Pregnancies'],return_type='axes');"
   ]
  },
  {
   "cell_type": "code",
   "execution_count": 8,
   "id": "afraid-somerset",
   "metadata": {},
   "outputs": [
    {
     "data": {
      "image/png": "[encoded data removed]",
      "text/plain": [
       "<Figure size 432x288 with 1 Axes>"
      ]
     },
     "metadata": {
      "needs_background": "light"
     },
     "output_type": "display_data"
    }
   ],
   "source": [
    "from scipy import stats\n",
    "# Removing outliers from category\n",
    "\n",
    "def getOutliers(df):\n",
    "    # Usa criterio de \"Outlier Leve\"\n",
    "    # extraído de https://es.wikipedia.org/wiki/Valor_at%C3%ADpico \n",
    "    q1 = df.quantile(0.25)\n",
    "    q3 = df.quantile(0.75)\n",
    "    iqr = q3 - q1\n",
    "    mean = df.mean()\n",
    "    ret = []\n",
    "    for value in df:\n",
    "        if value < (q1 - 1.5 * iqr) or value > (q3 + 1.5 * iqr):\n",
    "            ret.append(value)\n",
    "    return ret\n",
    "\n",
    "def removeOutliers(df): \n",
    "    outliers = getOutliers(df)\n",
    "    for outlier in outliers:\n",
    "        df.replace(outlier, np.nan, inplace=True)\n",
    "        \n",
    "\n",
    "     \n",
    "\n",
    "removeOutliers(df['Pregnancies'])\n",
    "df.boxplot(column=['Pregnancies'],return_type='axes');\n",
    "\n",
    "\n"
   ]
  },
  {
   "cell_type": "code",
   "execution_count": 9,
   "id": "finished-testament",
   "metadata": {},
   "outputs": [
    {
     "data": {
      "text/plain": [
       "count    500.000000\n",
       "mean       3.298000\n",
       "std        3.017185\n",
       "min        0.000000\n",
       "25%        1.000000\n",
       "50%        2.000000\n",
       "75%        5.000000\n",
       "max       13.000000\n",
       "Name: Pregnancies, dtype: float64"
      ]
     },
     "execution_count": 9,
     "metadata": {},
     "output_type": "execute_result"
    }
   ],
   "source": [
    "# Pregnancies in diabetes-negative\n",
    "df[df['Outcome'] == 0]['Pregnancies'].describe()"
   ]
  },
  {
   "cell_type": "code",
   "execution_count": 10,
   "id": "viral-lighting",
   "metadata": {},
   "outputs": [
    {
     "data": {
      "text/plain": [
       "count    264.000000\n",
       "mean       4.712121\n",
       "std        3.549820\n",
       "min        0.000000\n",
       "25%        1.000000\n",
       "50%        4.000000\n",
       "75%        7.250000\n",
       "max       13.000000\n",
       "Name: Pregnancies, dtype: float64"
      ]
     },
     "execution_count": 10,
     "metadata": {},
     "output_type": "execute_result"
    }
   ],
   "source": [
    "# Pregnancies in diabetes-positive\n",
    "df[df['Outcome'] == 1]['Pregnancies'].describe()"
   ]
  },
  {
   "cell_type": "code",
   "execution_count": 11,
   "id": "lined-august",
   "metadata": {},
   "outputs": [
    {
     "data": {
      "image/png": "[encoded data removed]",
      "text/plain": [
       "<Figure size 432x288 with 1 Axes>"
      ]
     },
     "metadata": {
      "needs_background": "light"
     },
     "output_type": "display_data"
    }
   ],
   "source": [
    "# Histograms\n",
    "\n",
    "# Plotting histograms\n",
    "plt.hist(df[df['Outcome'] == 0]['Pregnancies'], bins = pregBins, alpha=0.5, label='Diabetes Negative')\n",
    "plt.hist(df[df['Outcome'] == 1]['Pregnancies'], bins = pregBins, alpha=0.5, label='Diabetes Positive')\n",
    "plt.legend(loc='upper right')\n",
    "x = plt.title('Pregnancies')"
   ]
  },
  {
   "cell_type": "code",
   "execution_count": 12,
   "id": "cultural-breathing",
   "metadata": {},
   "outputs": [
    {
     "data": {
      "image/png": "[encoded data removed]",
      "text/plain": [
       "<Figure size 432x288 with 2 Axes>"
      ]
     },
     "metadata": {
      "needs_background": "light"
     },
     "output_type": "display_data"
    }
   ],
   "source": [
    "fig, axs = plt.subplots(2, 1, sharey=True, tight_layout=True)\n",
    "fig.suptitle('Pregnancies')\n",
    "axs[0].hist(df[df['Outcome'] == 0]['Pregnancies'], bins = pregBins)\n",
    "axs[0].set_title('Diabetes Negative')\n",
    "axs[1].hist(df[df['Outcome'] == 1]['Pregnancies'], bins = pregBins)\n",
    "x = axs[1].set_title('Diabetes Positive')"
   ]
  },
  {
   "cell_type": "markdown",
   "id": "juvenile-unemployment",
   "metadata": {},
   "source": [
    "### Glucosa (\"Glucose\")"
   ]
  },
  {
   "cell_type": "code",
   "execution_count": 13,
   "id": "exclusive-listing",
   "metadata": {},
   "outputs": [
    {
     "data": {
      "text/plain": [
       "count    763.000000\n",
       "mean     121.686763\n",
       "std       30.535641\n",
       "min       44.000000\n",
       "25%       99.000000\n",
       "50%      117.000000\n",
       "75%      141.000000\n",
       "max      199.000000\n",
       "Name: Glucose, dtype: float64"
      ]
     },
     "execution_count": 13,
     "metadata": {},
     "output_type": "execute_result"
    }
   ],
   "source": [
    "df['Glucose'].describe()"
   ]
  },
  {
   "cell_type": "code",
   "execution_count": 14,
   "id": "driven-bryan",
   "metadata": {},
   "outputs": [
    {
     "data": {
      "image/png": "[encoded data removed]",
      "text/plain": [
       "<Figure size 432x288 with 1 Axes>"
      ]
     },
     "metadata": {
      "needs_background": "light"
     },
     "output_type": "display_data"
    }
   ],
   "source": [
    "# Histogram \n",
    "plt.hist(df['Glucose'])\n",
    "x = plt.title('Glucose')"
   ]
  },
  {
   "cell_type": "code",
   "execution_count": 15,
   "id": "wooden-meter",
   "metadata": {},
   "outputs": [
    {
     "data": {
      "image/png": "[encoded data removed]",
      "text/plain": [
       "<Figure size 432x288 with 1 Axes>"
      ]
     },
     "metadata": {
      "needs_background": "light"
     },
     "output_type": "display_data"
    }
   ],
   "source": [
    "# Boxplot\n",
    "df.boxplot(column=['Glucose'],return_type='axes');"
   ]
  },
  {
   "cell_type": "code",
   "execution_count": 16,
   "id": "front-marker",
   "metadata": {},
   "outputs": [
    {
     "data": {
      "image/png": "[encoded data removed]",
      "text/plain": [
       "<Figure size 432x288 with 1 Axes>"
      ]
     },
     "metadata": {
      "needs_background": "light"
     },
     "output_type": "display_data"
    }
   ],
   "source": [
    "# Removing outliers from category  \n",
    "removeOutliers(df['Glucose'])\n",
    "df.boxplot(column=['Glucose'],return_type='axes');"
   ]
  },
  {
   "cell_type": "code",
   "execution_count": 17,
   "id": "entertaining-passenger",
   "metadata": {},
   "outputs": [
    {
     "data": {
      "text/plain": [
       "count    497.000000\n",
       "mean     110.643863\n",
       "std       24.776906\n",
       "min       44.000000\n",
       "25%       93.000000\n",
       "50%      107.000000\n",
       "75%      125.000000\n",
       "max      197.000000\n",
       "Name: Glucose, dtype: float64"
      ]
     },
     "execution_count": 17,
     "metadata": {},
     "output_type": "execute_result"
    }
   ],
   "source": [
    "# Glucose in diabetes-negative\n",
    "df[df['Outcome'] == 0]['Glucose'].describe()"
   ]
  },
  {
   "cell_type": "code",
   "execution_count": 18,
   "id": "wireless-store",
   "metadata": {},
   "outputs": [
    {
     "data": {
      "text/plain": [
       "count    266.000000\n",
       "mean     142.319549\n",
       "std       29.599199\n",
       "min       78.000000\n",
       "25%      119.000000\n",
       "50%      140.000000\n",
       "75%      167.000000\n",
       "max      199.000000\n",
       "Name: Glucose, dtype: float64"
      ]
     },
     "execution_count": 18,
     "metadata": {},
     "output_type": "execute_result"
    }
   ],
   "source": [
    "# Glucose in diabetes-positive\n",
    "df[df['Outcome'] == 1]['Glucose'].describe()"
   ]
  },
  {
   "cell_type": "code",
   "execution_count": 19,
   "id": "enabling-azerbaijan",
   "metadata": {},
   "outputs": [
    {
     "data": {
      "image/png": "[encoded data removed]",
      "text/plain": [
       "<Figure size 432x288 with 1 Axes>"
      ]
     },
     "metadata": {
      "needs_background": "light"
     },
     "output_type": "display_data"
    }
   ],
   "source": [
    "# Histograms\n",
    "\n",
    "# Plotting histograms\n",
    "plt.hist(df[df['Outcome'] == 0]['Glucose'],  alpha=0.5, label='Diabetes Negative')\n",
    "plt.hist(df[df['Outcome'] == 1]['Glucose'],  alpha=0.5, label='Diabetes Positive')\n",
    "plt.legend(loc='upper right')\n",
    "x = plt.title('Glucose')"
   ]
  },
  {
   "cell_type": "code",
   "execution_count": 20,
   "id": "tutorial-variable",
   "metadata": {},
   "outputs": [
    {
     "data": {
      "image/png": "[encoded data removed]",
      "text/plain": [
       "<Figure size 432x288 with 2 Axes>"
      ]
     },
     "metadata": {
      "needs_background": "light"
     },
     "output_type": "display_data"
    }
   ],
   "source": [
    "fig, axs = plt.subplots(2, 1, sharey=True, tight_layout=True)\n",
    "fig.suptitle('Glucose')\n",
    "axs[0].hist(df[df['Outcome'] == 0]['Glucose'])\n",
    "axs[0].set_title('Diabetes Negative')\n",
    "axs[1].hist(df[df['Outcome'] == 1]['Glucose'])\n",
    "x = axs[1].set_title('Diabetes Positive')"
   ]
  },
  {
   "cell_type": "markdown",
   "id": "substantial-embassy",
   "metadata": {},
   "source": [
    "### Presión Sanguínea (\"BloodPressure\")"
   ]
  },
  {
   "cell_type": "code",
   "execution_count": 21,
   "id": "quality-optics",
   "metadata": {},
   "outputs": [
    {
     "data": {
      "text/plain": [
       "count    733.000000\n",
       "mean      72.405184\n",
       "std       12.382158\n",
       "min       24.000000\n",
       "25%       64.000000\n",
       "50%       72.000000\n",
       "75%       80.000000\n",
       "max      122.000000\n",
       "Name: BloodPressure, dtype: float64"
      ]
     },
     "execution_count": 21,
     "metadata": {},
     "output_type": "execute_result"
    }
   ],
   "source": [
    "df['BloodPressure'].describe()"
   ]
  },
  {
   "cell_type": "code",
   "execution_count": 22,
   "id": "sublime-astrology",
   "metadata": {},
   "outputs": [
    {
     "data": {
      "image/png": "[encoded data removed]",
      "text/plain": [
       "<Figure size 432x288 with 1 Axes>"
      ]
     },
     "metadata": {
      "needs_background": "light"
     },
     "output_type": "display_data"
    }
   ],
   "source": [
    "# Histogram \n",
    "plt.hist(df['BloodPressure'])\n",
    "x = plt.title('Blood Pressure')"
   ]
  },
  {
   "cell_type": "code",
   "execution_count": 23,
   "id": "requested-interface",
   "metadata": {},
   "outputs": [
    {
     "data": {
      "image/png": "[encoded data removed]",
      "text/plain": [
       "<Figure size 432x288 with 1 Axes>"
      ]
     },
     "metadata": {
      "needs_background": "light"
     },
     "output_type": "display_data"
    }
   ],
   "source": [
    "# Boxplot\n",
    "df.boxplot(column=['BloodPressure'],return_type='axes');"
   ]
  },
  {
   "cell_type": "code",
   "execution_count": 24,
   "id": "welcome-laptop",
   "metadata": {},
   "outputs": [
    {
     "data": {
      "image/png": "[encoded data removed]",
      "text/plain": [
       "<Figure size 432x288 with 1 Axes>"
      ]
     },
     "metadata": {
      "needs_background": "light"
     },
     "output_type": "display_data"
    }
   ],
   "source": [
    "# Removing outliers from category\n",
    "removeOutliers(df['BloodPressure'])\n",
    "df.boxplot(column=['BloodPressure'],return_type='axes');"
   ]
  },
  {
   "cell_type": "code",
   "execution_count": 25,
   "id": "billion-struggle",
   "metadata": {},
   "outputs": [
    {
     "data": {
      "text/plain": [
       "count    473.000000\n",
       "mean      70.714588\n",
       "std       11.088862\n",
       "min       44.000000\n",
       "25%       62.000000\n",
       "50%       70.000000\n",
       "75%       78.000000\n",
       "max      100.000000\n",
       "Name: BloodPressure, dtype: float64"
      ]
     },
     "execution_count": 25,
     "metadata": {},
     "output_type": "execute_result"
    }
   ],
   "source": [
    "# Blood pressure in diabetes-negative\n",
    "df[df['Outcome'] == 0]['BloodPressure'].describe()"
   ]
  },
  {
   "cell_type": "code",
   "execution_count": 26,
   "id": "particular-sellers",
   "metadata": {},
   "outputs": [
    {
     "data": {
      "text/plain": [
       "count    246.000000\n",
       "mean      74.808943\n",
       "std       11.055338\n",
       "min       40.000000\n",
       "25%       68.000000\n",
       "50%       74.000000\n",
       "75%       82.000000\n",
       "max      104.000000\n",
       "Name: BloodPressure, dtype: float64"
      ]
     },
     "execution_count": 26,
     "metadata": {},
     "output_type": "execute_result"
    }
   ],
   "source": [
    "# Blood pressure in diabetes-positive\n",
    "df[df['Outcome'] == 1]['BloodPressure'].describe()"
   ]
  },
  {
   "cell_type": "code",
   "execution_count": 27,
   "id": "senior-ghana",
   "metadata": {},
   "outputs": [
    {
     "data": {
      "image/png": "[encoded data removed]",
      "text/plain": [
       "<Figure size 432x288 with 1 Axes>"
      ]
     },
     "metadata": {
      "needs_background": "light"
     },
     "output_type": "display_data"
    }
   ],
   "source": [
    "# Histograms\n",
    "\n",
    "# Plotting histograms\n",
    "plt.hist(df[df['Outcome'] == 0]['BloodPressure'],  alpha=0.5, label='Diabetes Negative')\n",
    "plt.hist(df[df['Outcome'] == 1]['BloodPressure'],  alpha=0.5, label='Diabetes Positive')\n",
    "plt.legend(loc='upper right')\n",
    "x = plt.title('Blood Pressure')"
   ]
  },
  {
   "cell_type": "code",
   "execution_count": 28,
   "id": "competent-flooring",
   "metadata": {},
   "outputs": [
    {
     "data": {
      "image/png": "[encoded data removed]",
      "text/plain": [
       "<Figure size 432x288 with 2 Axes>"
      ]
     },
     "metadata": {
      "needs_background": "light"
     },
     "output_type": "display_data"
    }
   ],
   "source": [
    "fig, axs = plt.subplots(2, 1, sharey=True, tight_layout=True)\n",
    "fig.suptitle('Blood Pressure')\n",
    "axs[0].hist(df[df['Outcome'] == 0]['BloodPressure'])\n",
    "axs[0].set_title('Diabetes Negative')\n",
    "axs[1].hist(df[df['Outcome'] == 1]['BloodPressure'])\n",
    "x = axs[1].set_title('Diabetes Positive')"
   ]
  },
  {
   "cell_type": "markdown",
   "id": "voluntary-pressure",
   "metadata": {},
   "source": [
    "### Grosor de la piel del pliegue del tríceps (\"SkinThickness\")"
   ]
  },
  {
   "cell_type": "code",
   "execution_count": 29,
   "id": "steady-motivation",
   "metadata": {},
   "outputs": [
    {
     "data": {
      "text/plain": [
       "count    541.000000\n",
       "mean      29.153420\n",
       "std       10.476982\n",
       "min        7.000000\n",
       "25%       22.000000\n",
       "50%       29.000000\n",
       "75%       36.000000\n",
       "max       99.000000\n",
       "Name: SkinThickness, dtype: float64"
      ]
     },
     "execution_count": 29,
     "metadata": {},
     "output_type": "execute_result"
    }
   ],
   "source": [
    "df['SkinThickness'].describe()"
   ]
  },
  {
   "cell_type": "code",
   "execution_count": 30,
   "id": "compressed-insured",
   "metadata": {},
   "outputs": [
    {
     "data": {
      "image/png": "[encoded data removed]",
      "text/plain": [
       "<Figure size 432x288 with 1 Axes>"
      ]
     },
     "metadata": {
      "needs_background": "light"
     },
     "output_type": "display_data"
    }
   ],
   "source": [
    "# Histogram \n",
    "plt.hist(df['SkinThickness'])\n",
    "x = plt.title('Skin Thickness')"
   ]
  },
  {
   "cell_type": "code",
   "execution_count": 31,
   "id": "noble-tyler",
   "metadata": {},
   "outputs": [
    {
     "data": {
      "image/png": "[encoded data removed]",
      "text/plain": [
       "<Figure size 432x288 with 1 Axes>"
      ]
     },
     "metadata": {
      "needs_background": "light"
     },
     "output_type": "display_data"
    }
   ],
   "source": [
    "# Boxplot\n",
    "df.boxplot(column=['SkinThickness'],return_type='axes');"
   ]
  },
  {
   "cell_type": "code",
   "execution_count": 32,
   "id": "universal-battlefield",
   "metadata": {},
   "outputs": [
    {
     "data": {
      "image/png": "[encoded data removed]",
      "text/plain": [
       "<Figure size 432x288 with 1 Axes>"
      ]
     },
     "metadata": {
      "needs_background": "light"
     },
     "output_type": "display_data"
    }
   ],
   "source": [
    "# Removing outliers from category\n",
    "removeOutliers(df['SkinThickness'])\n",
    "df.boxplot(column=['SkinThickness'],return_type='axes');"
   ]
  },
  {
   "cell_type": "code",
   "execution_count": 33,
   "id": "frank-rouge",
   "metadata": {},
   "outputs": [
    {
     "data": {
      "text/plain": [
       "count    360.000000\n",
       "mean      27.144444\n",
       "std        9.889992\n",
       "min        7.000000\n",
       "25%       19.000000\n",
       "50%       27.000000\n",
       "75%       33.000000\n",
       "max       54.000000\n",
       "Name: SkinThickness, dtype: float64"
      ]
     },
     "execution_count": 33,
     "metadata": {},
     "output_type": "execute_result"
    }
   ],
   "source": [
    "# Skin Thickness in diabetes-negative\n",
    "df[df['Outcome'] == 0]['SkinThickness'].describe()"
   ]
  },
  {
   "cell_type": "code",
   "execution_count": 34,
   "id": "informational-yeast",
   "metadata": {},
   "outputs": [
    {
     "data": {
      "text/plain": [
       "count    178.000000\n",
       "mean      32.460674\n",
       "std        8.824793\n",
       "min        7.000000\n",
       "25%       27.000000\n",
       "50%       32.000000\n",
       "75%       39.000000\n",
       "max       56.000000\n",
       "Name: SkinThickness, dtype: float64"
      ]
     },
     "execution_count": 34,
     "metadata": {},
     "output_type": "execute_result"
    }
   ],
   "source": [
    "# Skin Thickness in diabetes-positive\n",
    "df[df['Outcome'] == 1]['SkinThickness'].describe()"
   ]
  },
  {
   "cell_type": "code",
   "execution_count": 35,
   "id": "polish-sponsorship",
   "metadata": {},
   "outputs": [
    {
     "data": {
      "image/png": "[encoded data removed]",
      "text/plain": [
       "<Figure size 432x288 with 1 Axes>"
      ]
     },
     "metadata": {
      "needs_background": "light"
     },
     "output_type": "display_data"
    }
   ],
   "source": [
    "# Histograms\n",
    "\n",
    "# Plotting histograms\n",
    "plt.hist(df[df['Outcome'] == 0]['SkinThickness'],  alpha=0.5, label='Diabetes Negative')\n",
    "plt.hist(df[df['Outcome'] == 1]['SkinThickness'],  alpha=0.5, label='Diabetes Positive')\n",
    "plt.legend(loc='upper right')\n",
    "x = plt.title('Skin Thickness')"
   ]
  },
  {
   "cell_type": "code",
   "execution_count": 36,
   "id": "adapted-designer",
   "metadata": {},
   "outputs": [
    {
     "data": {
      "image/png": "[encoded data removed]",
      "text/plain": [
       "<Figure size 432x288 with 2 Axes>"
      ]
     },
     "metadata": {
      "needs_background": "light"
     },
     "output_type": "display_data"
    }
   ],
   "source": [
    "fig, axs = plt.subplots(2, 1, sharey=True, tight_layout=True)\n",
    "fig.suptitle('Skin Thickness')\n",
    "axs[0].hist(df[df['Outcome'] == 0]['SkinThickness'])\n",
    "axs[0].set_title('Diabetes Negative')\n",
    "axs[1].hist(df[df['Outcome'] == 1]['SkinThickness'])\n",
    "x = axs[1].set_title('Diabetes Positive')"
   ]
  },
  {
   "cell_type": "markdown",
   "id": "aging-camel",
   "metadata": {},
   "source": [
    "### Insulina (\"Insulin\")"
   ]
  },
  {
   "cell_type": "code",
   "execution_count": 37,
   "id": "cleared-scholarship",
   "metadata": {},
   "outputs": [
    {
     "data": {
      "text/plain": [
       "count    394.000000\n",
       "mean     155.548223\n",
       "std      118.775855\n",
       "min       14.000000\n",
       "25%       76.250000\n",
       "50%      125.000000\n",
       "75%      190.000000\n",
       "max      846.000000\n",
       "Name: Insulin, dtype: float64"
      ]
     },
     "execution_count": 37,
     "metadata": {},
     "output_type": "execute_result"
    }
   ],
   "source": [
    "df['Insulin'].describe()"
   ]
  },
  {
   "cell_type": "code",
   "execution_count": 38,
   "id": "treated-perception",
   "metadata": {},
   "outputs": [
    {
     "data": {
      "image/png": "[encoded data removed]",
      "text/plain": [
       "<Figure size 432x288 with 1 Axes>"
      ]
     },
     "metadata": {
      "needs_background": "light"
     },
     "output_type": "display_data"
    }
   ],
   "source": [
    "# Histogram \n",
    "plt.hist(df['Insulin'])\n",
    "x = plt.title('Insulin')"
   ]
  },
  {
   "cell_type": "code",
   "execution_count": 39,
   "id": "intense-removal",
   "metadata": {},
   "outputs": [
    {
     "data": {
      "image/png": "[encoded data removed]",
      "text/plain": [
       "<Figure size 432x288 with 1 Axes>"
      ]
     },
     "metadata": {
      "needs_background": "light"
     },
     "output_type": "display_data"
    }
   ],
   "source": [
    "# Boxplot\n",
    "df.boxplot(column=['Insulin'],return_type='axes');"
   ]
  },
  {
   "cell_type": "code",
   "execution_count": 40,
   "id": "accredited-mambo",
   "metadata": {},
   "outputs": [
    {
     "data": {
      "image/png": "[encoded data removed]",
      "text/plain": [
       "<Figure size 432x288 with 1 Axes>"
      ]
     },
     "metadata": {
      "needs_background": "light"
     },
     "output_type": "display_data"
    }
   ],
   "source": [
    "# Removing outliers from category\n",
    "removeOutliers(df['Insulin'])\n",
    "df.boxplot(column=['Insulin'],return_type='axes');"
   ]
  },
  {
   "cell_type": "code",
   "execution_count": 41,
   "id": "european-jenny",
   "metadata": {},
   "outputs": [
    {
     "data": {
      "text/plain": [
       "count    254.000000\n",
       "mean     115.917323\n",
       "std       69.844697\n",
       "min       15.000000\n",
       "25%       64.250000\n",
       "50%      100.000000\n",
       "75%      151.000000\n",
       "max      342.000000\n",
       "Name: Insulin, dtype: float64"
      ]
     },
     "execution_count": 41,
     "metadata": {},
     "output_type": "execute_result"
    }
   ],
   "source": [
    "# Insulin in diabetes-negative\n",
    "df[df['Outcome'] == 0]['Insulin'].describe()"
   ]
  },
  {
   "cell_type": "code",
   "execution_count": 42,
   "id": "lonely-compensation",
   "metadata": {},
   "outputs": [
    {
     "data": {
      "text/plain": [
       "count    116.000000\n",
       "mean     169.163793\n",
       "std       70.789454\n",
       "min       14.000000\n",
       "25%      124.250000\n",
       "50%      160.000000\n",
       "75%      207.750000\n",
       "max      360.000000\n",
       "Name: Insulin, dtype: float64"
      ]
     },
     "execution_count": 42,
     "metadata": {},
     "output_type": "execute_result"
    }
   ],
   "source": [
    "# Insulin in diabetes-positive\n",
    "df[df['Outcome'] == 1]['Insulin'].describe()"
   ]
  },
  {
   "cell_type": "code",
   "execution_count": 43,
   "id": "public-teddy",
   "metadata": {},
   "outputs": [
    {
     "data": {
      "image/png": "[encoded data removed]",
      "text/plain": [
       "<Figure size 432x288 with 1 Axes>"
      ]
     },
     "metadata": {
      "needs_background": "light"
     },
     "output_type": "display_data"
    }
   ],
   "source": [
    "# Histograms\n",
    "\n",
    "# Plotting histograms\n",
    "plt.hist(df[df['Outcome'] == 0]['Insulin'],  alpha=0.5, label='Diabetes Negative')\n",
    "plt.hist(df[df['Outcome'] == 1]['Insulin'],  alpha=0.5, label='Diabetes Positive')\n",
    "plt.legend(loc='upper right')\n",
    "x = plt.title('Insulin')"
   ]
  },
  {
   "cell_type": "code",
   "execution_count": 44,
   "id": "regulated-depth",
   "metadata": {},
   "outputs": [
    {
     "data": {
      "image/png": "[encoded data removed]",
      "text/plain": [
       "<Figure size 432x288 with 2 Axes>"
      ]
     },
     "metadata": {
      "needs_background": "light"
     },
     "output_type": "display_data"
    }
   ],
   "source": [
    "fig, axs = plt.subplots(2, 1, sharey=True, tight_layout=True)\n",
    "fig.suptitle('Insulin')\n",
    "axs[0].hist(df[df['Outcome'] == 0]['Insulin'])\n",
    "axs[0].set_title('Diabetes Negative')\n",
    "axs[1].hist(df[df['Outcome'] == 1]['Insulin'])\n",
    "x = axs[1].set_title('Diabetes Positive')"
   ]
  },
  {
   "cell_type": "markdown",
   "id": "applicable-matter",
   "metadata": {},
   "source": [
    "### Índice de Masa Corporal (\"BMI\")"
   ]
  },
  {
   "cell_type": "code",
   "execution_count": 45,
   "id": "greenhouse-carolina",
   "metadata": {},
   "outputs": [
    {
     "data": {
      "text/plain": [
       "count    757.000000\n",
       "mean      32.457464\n",
       "std        6.924988\n",
       "min       18.200000\n",
       "25%       27.500000\n",
       "50%       32.300000\n",
       "75%       36.600000\n",
       "max       67.100000\n",
       "Name: BMI, dtype: float64"
      ]
     },
     "execution_count": 45,
     "metadata": {},
     "output_type": "execute_result"
    }
   ],
   "source": [
    "df['BMI'].describe()"
   ]
  },
  {
   "cell_type": "code",
   "execution_count": 46,
   "id": "voluntary-local",
   "metadata": {},
   "outputs": [
    {
     "data": {
      "image/png": "[encoded data removed]",
      "text/plain": [
       "<Figure size 432x288 with 1 Axes>"
      ]
     },
     "metadata": {
      "needs_background": "light"
     },
     "output_type": "display_data"
    }
   ],
   "source": [
    "# Histogram \n",
    "plt.hist(df['BMI'])\n",
    "x = plt.title('BMI')"
   ]
  },
  {
   "cell_type": "code",
   "execution_count": 47,
   "id": "static-moral",
   "metadata": {},
   "outputs": [
    {
     "data": {
      "image/png": "[encoded data removed]",
      "text/plain": [
       "<Figure size 432x288 with 1 Axes>"
      ]
     },
     "metadata": {
      "needs_background": "light"
     },
     "output_type": "display_data"
    }
   ],
   "source": [
    "# Boxplot\n",
    "df.boxplot(column=['BMI'],return_type='axes');"
   ]
  },
  {
   "cell_type": "code",
   "execution_count": 48,
   "id": "harmful-ancient",
   "metadata": {},
   "outputs": [
    {
     "data": {
      "image/png": "[encoded data removed]",
      "text/plain": [
       "<Figure size 432x288 with 1 Axes>"
      ]
     },
     "metadata": {
      "needs_background": "light"
     },
     "output_type": "display_data"
    }
   ],
   "source": [
    "# Removing outliers from category\n",
    "removeOutliers(df['BMI'])\n",
    "df.boxplot(column=['BMI'],return_type='axes');"
   ]
  },
  {
   "cell_type": "code",
   "execution_count": 49,
   "id": "military-emergency",
   "metadata": {},
   "outputs": [
    {
     "data": {
      "text/plain": [
       "count    489.000000\n",
       "mean      30.761759\n",
       "std        6.390268\n",
       "min       18.200000\n",
       "25%       25.600000\n",
       "50%       30.100000\n",
       "75%       35.300000\n",
       "max       47.900000\n",
       "Name: BMI, dtype: float64"
      ]
     },
     "execution_count": 49,
     "metadata": {},
     "output_type": "execute_result"
    }
   ],
   "source": [
    "# BMI in diabetes-negative\n",
    "df[df['Outcome'] == 0]['BMI'].describe()"
   ]
  },
  {
   "cell_type": "code",
   "execution_count": 50,
   "id": "effective-central",
   "metadata": {},
   "outputs": [
    {
     "data": {
      "text/plain": [
       "count    260.000000\n",
       "mean      34.916538\n",
       "std        5.782866\n",
       "min       22.900000\n",
       "25%       30.800000\n",
       "50%       34.200000\n",
       "75%       38.425000\n",
       "max       50.000000\n",
       "Name: BMI, dtype: float64"
      ]
     },
     "execution_count": 50,
     "metadata": {},
     "output_type": "execute_result"
    }
   ],
   "source": [
    "# BMI in diabetes-posiitve\n",
    "df[df['Outcome'] == 1]['BMI'].describe()"
   ]
  },
  {
   "cell_type": "code",
   "execution_count": 51,
   "id": "welcome-visibility",
   "metadata": {},
   "outputs": [
    {
     "data": {
      "image/png": "[encoded data removed]",
      "text/plain": [
       "<Figure size 432x288 with 1 Axes>"
      ]
     },
     "metadata": {
      "needs_background": "light"
     },
     "output_type": "display_data"
    }
   ],
   "source": [
    "# Histograms\n",
    "\n",
    "# Plotting histograms\n",
    "plt.hist(df[df['Outcome'] == 0]['BMI'],  alpha=0.5, label='Diabetes Negative')\n",
    "plt.hist(df[df['Outcome'] == 1]['BMI'],  alpha=0.5, label='Diabetes Positive')\n",
    "plt.legend(loc='upper right')\n",
    "x = plt.title('BMI')"
   ]
  },
  {
   "cell_type": "code",
   "execution_count": 52,
   "id": "advised-outside",
   "metadata": {},
   "outputs": [
    {
     "data": {
      "image/png": "[encoded data removed]",
      "text/plain": [
       "<Figure size 432x288 with 2 Axes>"
      ]
     },
     "metadata": {
      "needs_background": "light"
     },
     "output_type": "display_data"
    }
   ],
   "source": [
    "fig, axs = plt.subplots(2, 1, sharey=True, tight_layout=True)\n",
    "fig.suptitle('BMI')\n",
    "axs[0].hist(df[df['Outcome'] == 0]['BMI'])\n",
    "axs[0].set_title('Diabetes Negative')\n",
    "axs[1].hist(df[df['Outcome'] == 1]['BMI'])\n",
    "x = axs[1].set_title('Diabetes Positive')"
   ]
  },
  {
   "cell_type": "markdown",
   "id": "aware-label",
   "metadata": {},
   "source": [
    "### Diabetes Pedigree Function (DiabetesPedigreeFunction)"
   ]
  },
  {
   "cell_type": "code",
   "execution_count": 53,
   "id": "joined-present",
   "metadata": {},
   "outputs": [
    {
     "data": {
      "text/plain": [
       "count    768.000000\n",
       "mean       0.471876\n",
       "std        0.331329\n",
       "min        0.078000\n",
       "25%        0.243750\n",
       "50%        0.372500\n",
       "75%        0.626250\n",
       "max        2.420000\n",
       "Name: DiabetesPedigreeFunction, dtype: float64"
      ]
     },
     "execution_count": 53,
     "metadata": {},
     "output_type": "execute_result"
    }
   ],
   "source": [
    "df['DiabetesPedigreeFunction'].describe()"
   ]
  },
  {
   "cell_type": "code",
   "execution_count": 54,
   "id": "shared-assessment",
   "metadata": {},
   "outputs": [
    {
     "data": {
      "image/png": "[encoded data removed]",
      "text/plain": [
       "<Figure size 432x288 with 1 Axes>"
      ]
     },
     "metadata": {
      "needs_background": "light"
     },
     "output_type": "display_data"
    }
   ],
   "source": [
    "# Histogram \n",
    "plt.hist(df['DiabetesPedigreeFunction'])\n",
    "x = plt.title('Diabetes Pedigree Function')"
   ]
  },
  {
   "cell_type": "code",
   "execution_count": 55,
   "id": "comfortable-necklace",
   "metadata": {},
   "outputs": [
    {
     "data": {
      "image/png": "[encoded data removed]",
      "text/plain": [
       "<Figure size 432x288 with 1 Axes>"
      ]
     },
     "metadata": {
      "needs_background": "light"
     },
     "output_type": "display_data"
    }
   ],
   "source": [
    "# Boxplot\n",
    "df.boxplot(column=['DiabetesPedigreeFunction'],return_type='axes');"
   ]
  },
  {
   "cell_type": "code",
   "execution_count": 56,
   "id": "greenhouse-alberta",
   "metadata": {},
   "outputs": [
    {
     "data": {
      "image/png": "[encoded data removed]",
      "text/plain": [
       "<Figure size 432x288 with 1 Axes>"
      ]
     },
     "metadata": {
      "needs_background": "light"
     },
     "output_type": "display_data"
    }
   ],
   "source": [
    "# Removing outliers from category\n",
    "removeOutliers(df['DiabetesPedigreeFunction'])\n",
    "df.boxplot(column=['DiabetesPedigreeFunction'],return_type='axes');"
   ]
  },
  {
   "cell_type": "code",
   "execution_count": 57,
   "id": "sapphire-vector",
   "metadata": {},
   "outputs": [
    {
     "data": {
      "text/plain": [
       "count    488.000000\n",
       "mean       0.401090\n",
       "std        0.235553\n",
       "min        0.078000\n",
       "25%        0.223000\n",
       "50%        0.325000\n",
       "75%        0.546250\n",
       "max        1.174000\n",
       "Name: DiabetesPedigreeFunction, dtype: float64"
      ]
     },
     "execution_count": 57,
     "metadata": {},
     "output_type": "execute_result"
    }
   ],
   "source": [
    "# Diabetes Pedigree Function in diabetes-negative\n",
    "df[df['Outcome'] == 0]['DiabetesPedigreeFunction'].describe()"
   ]
  },
  {
   "cell_type": "code",
   "execution_count": 58,
   "id": "eastern-greene",
   "metadata": {},
   "outputs": [
    {
     "data": {
      "text/plain": [
       "count    251.000000\n",
       "mean       0.485713\n",
       "std        0.266836\n",
       "min        0.088000\n",
       "25%        0.259500\n",
       "50%        0.422000\n",
       "75%        0.676000\n",
       "max        1.191000\n",
       "Name: DiabetesPedigreeFunction, dtype: float64"
      ]
     },
     "execution_count": 58,
     "metadata": {},
     "output_type": "execute_result"
    }
   ],
   "source": [
    "# Diabetes Pedigree Function in diabetes-positive\n",
    "df[df['Outcome'] == 1]['DiabetesPedigreeFunction'].describe()"
   ]
  },
  {
   "cell_type": "code",
   "execution_count": 59,
   "id": "suspended-symbol",
   "metadata": {},
   "outputs": [
    {
     "data": {
      "image/png": "[encoded data removed]",
      "text/plain": [
       "<Figure size 432x288 with 1 Axes>"
      ]
     },
     "metadata": {
      "needs_background": "light"
     },
     "output_type": "display_data"
    }
   ],
   "source": [
    "# Histograms\n",
    "\n",
    "# Plotting histograms\n",
    "plt.hist(df[df['Outcome'] == 0]['DiabetesPedigreeFunction'],  alpha=0.5, label='Diabetes Negative')\n",
    "plt.hist(df[df['Outcome'] == 1]['DiabetesPedigreeFunction'],  alpha=0.5, label='Diabetes Positive')\n",
    "plt.legend(loc='upper right')\n",
    "x = plt.title('Diabetes Pedigree Function')"
   ]
  },
  {
   "cell_type": "code",
   "execution_count": 60,
   "id": "brown-pickup",
   "metadata": {},
   "outputs": [
    {
     "data": {
      "image/png": "[encoded data removed]",
      "text/plain": [
       "<Figure size 432x288 with 2 Axes>"
      ]
     },
     "metadata": {
      "needs_background": "light"
     },
     "output_type": "display_data"
    }
   ],
   "source": [
    "fig, axs = plt.subplots(2, 1, sharey=True, tight_layout=True)\n",
    "fig.suptitle('Diabetes Pedigree Function')\n",
    "axs[0].hist(df[df['Outcome'] == 0]['DiabetesPedigreeFunction'])\n",
    "axs[0].set_title('Diabetes Negative')\n",
    "axs[1].hist(df[df['Outcome'] == 1]['DiabetesPedigreeFunction'])\n",
    "x = axs[1].set_title('Diabetes Positive')"
   ]
  },
  {
   "cell_type": "markdown",
   "id": "adult-collective",
   "metadata": {},
   "source": [
    "### Edad (Age)"
   ]
  },
  {
   "cell_type": "code",
   "execution_count": 61,
   "id": "conservative-lover",
   "metadata": {},
   "outputs": [
    {
     "data": {
      "text/plain": [
       "count    768.000000\n",
       "mean      33.240885\n",
       "std       11.760232\n",
       "min       21.000000\n",
       "25%       24.000000\n",
       "50%       29.000000\n",
       "75%       41.000000\n",
       "max       81.000000\n",
       "Name: Age, dtype: float64"
      ]
     },
     "execution_count": 61,
     "metadata": {},
     "output_type": "execute_result"
    }
   ],
   "source": [
    "df['Age'].describe()"
   ]
  },
  {
   "cell_type": "code",
   "execution_count": 62,
   "id": "recognized-herald",
   "metadata": {},
   "outputs": [
    {
     "data": {
      "image/png": "[encoded data removed]",
      "text/plain": [
       "<Figure size 432x288 with 1 Axes>"
      ]
     },
     "metadata": {
      "needs_background": "light"
     },
     "output_type": "display_data"
    }
   ],
   "source": [
    "# Histogram \n",
    "plt.hist(df['Age'])\n",
    "x = plt.title('Age')"
   ]
  },
  {
   "cell_type": "code",
   "execution_count": 63,
   "id": "regulation-chaos",
   "metadata": {},
   "outputs": [
    {
     "data": {
      "image/png": "[encoded data removed]",
      "text/plain": [
       "<Figure size 432x288 with 1 Axes>"
      ]
     },
     "metadata": {
      "needs_background": "light"
     },
     "output_type": "display_data"
    }
   ],
   "source": [
    "# Boxplot\n",
    "df.boxplot(column=['Age'],return_type='axes');"
   ]
  },
  {
   "cell_type": "code",
   "execution_count": 64,
   "id": "sustainable-study",
   "metadata": {},
   "outputs": [
    {
     "data": {
      "image/png": "[encoded data removed]",
      "text/plain": [
       "<Figure size 432x288 with 1 Axes>"
      ]
     },
     "metadata": {
      "needs_background": "light"
     },
     "output_type": "display_data"
    }
   ],
   "source": [
    "# Removing outliers from category\n",
    "removeOutliers(df['Age'])\n",
    "df.boxplot(column=['Age'],return_type='axes');"
   ]
  },
  {
   "cell_type": "code",
   "execution_count": 65,
   "id": "roman-center",
   "metadata": {},
   "outputs": [
    {
     "data": {
      "text/plain": [
       "count    493.000000\n",
       "mean      30.632860\n",
       "std       10.749603\n",
       "min       21.000000\n",
       "25%       23.000000\n",
       "50%       26.000000\n",
       "75%       36.000000\n",
       "max       66.000000\n",
       "Name: Age, dtype: float64"
      ]
     },
     "execution_count": 65,
     "metadata": {},
     "output_type": "execute_result"
    }
   ],
   "source": [
    "# Age in diabetes-negative\n",
    "df[df['Outcome'] == 0]['Age'].describe()"
   ]
  },
  {
   "cell_type": "code",
   "execution_count": 66,
   "id": "interested-zambia",
   "metadata": {},
   "outputs": [
    {
     "data": {
      "text/plain": [
       "count    266.000000\n",
       "mean      36.830827\n",
       "std       10.662115\n",
       "min       21.000000\n",
       "25%       28.000000\n",
       "50%       36.000000\n",
       "75%       44.000000\n",
       "max       66.000000\n",
       "Name: Age, dtype: float64"
      ]
     },
     "execution_count": 66,
     "metadata": {},
     "output_type": "execute_result"
    }
   ],
   "source": [
    "# Age in diabetes-positive\n",
    "df[df['Outcome'] == 1]['Age'].describe()"
   ]
  },
  {
   "cell_type": "code",
   "execution_count": 67,
   "id": "another-creature",
   "metadata": {},
   "outputs": [
    {
     "data": {
      "image/png": "[encoded data removed]",
      "text/plain": [
       "<Figure size 432x288 with 1 Axes>"
      ]
     },
     "metadata": {
      "needs_background": "light"
     },
     "output_type": "display_data"
    }
   ],
   "source": [
    "# Histograms\n",
    "\n",
    "# Plotting histograms\n",
    "plt.hist(df[df['Outcome'] == 0]['Age'],  alpha=0.5, label='Diabetes Negative')\n",
    "plt.hist(df[df['Outcome'] == 1]['Age'],  alpha=0.5, label='Diabetes Positive')\n",
    "plt.legend(loc='upper right')\n",
    "x = plt.title('Age')"
   ]
  },
  {
   "cell_type": "code",
   "execution_count": 68,
   "id": "sacred-lease",
   "metadata": {},
   "outputs": [
    {
     "data": {
      "image/png": "[encoded data removed]",
      "text/plain": [
       "<Figure size 432x288 with 2 Axes>"
      ]
     },
     "metadata": {
      "needs_background": "light"
     },
     "output_type": "display_data"
    }
   ],
   "source": [
    "fig, axs = plt.subplots(2, 1, sharey=True, tight_layout=True)\n",
    "fig.suptitle('Age')\n",
    "axs[0].hist(df[df['Outcome'] == 0]['Age'])\n",
    "axs[0].set_title('Diabetes Negative')\n",
    "axs[1].hist(df[df['Outcome'] == 1]['Age'])\n",
    "x = axs[1].set_title('Diabetes Positive')"
   ]
  },
  {
   "cell_type": "markdown",
   "id": "selected-avatar",
   "metadata": {},
   "source": [
    "### Matriz de correlación\n",
    "Se genera la matriz de correlación de el dataset filtrado. De esta forma, se busca identificar aquellas variables que tengan un alto grado de vinculación. En este caso, se podría prescindir de una de ellas para realizar la clasificación dado que las dos \"aportan la misma información\" al problema."
   ]
  },
  {
   "cell_type": "code",
   "execution_count": 69,
   "id": "quarterly-hunter",
   "metadata": {},
   "outputs": [
    {
     "data": {
      "image/png": "[encoded data removed]",
      "text/plain": [
       "<Figure size 432x288 with 2 Axes>"
      ]
     },
     "metadata": {
      "needs_background": "light"
     },
     "output_type": "display_data"
    }
   ],
   "source": [
    "import seaborn as sb\n",
    "# Correlation matrix\n",
    "corrMatrix = df.corr()\n",
    "ax = plt.axes()\n",
    "sb.heatmap(corrMatrix, annot=True, ax=ax);\n",
    "ax.set_title('Correlaciónes')\n",
    "plt.show()"
   ]
  }
 ],
 "metadata": {
  "kernelspec": {
   "display_name": "Python 3",
   "language": "python",
   "name": "python3"
  },
  "language_info": {
   "codemirror_mode": {
    "name": "ipython",
    "version": 3
   },
   "file_extension": ".py",
   "mimetype": "text/x-python",
   "name": "python",
   "nbconvert_exporter": "python",
   "pygments_lexer": "ipython3",
   "version": "3.9.2"
  }
 },
 "nbformat": 4,
 "nbformat_minor": 5
}
